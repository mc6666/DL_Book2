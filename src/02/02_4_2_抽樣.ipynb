{
 "cells": [
  {
   "cell_type": "markdown",
   "metadata": {},
   "source": [
    "# 抽樣(Sampling)"
   ]
  },
  {
   "cell_type": "markdown",
   "metadata": {},
   "source": [
    "## 簡單抽樣"
   ]
  },
  {
   "cell_type": "code",
   "execution_count": 1,
   "metadata": {},
   "outputs": [
    {
     "name": "stdout",
     "output_type": "stream",
     "text": [
      "[5, 6, 4, 7, 3]\n"
     ]
    }
   ],
   "source": [
    "import random \n",
    "import numpy as np\n",
    "\n",
    "# 1~10 的集合\n",
    "list1 = list(np.arange(1, 10 + 1))\n",
    "   \n",
    "# 隨機抽出 5 個\n",
    "print(random.sample(list1, 5))  "
   ]
  },
  {
   "cell_type": "markdown",
   "metadata": {},
   "source": [
    "## 放回抽樣(Sampling With Replacement)"
   ]
  },
  {
   "cell_type": "code",
   "execution_count": 2,
   "metadata": {},
   "outputs": [
    {
     "name": "stdout",
     "output_type": "stream",
     "text": [
      "[10, 3, 10, 8, 10]\n"
     ]
    }
   ],
   "source": [
    "import random \n",
    "import numpy as np\n",
    "\n",
    "# 1~10 的集合\n",
    "list1 = list(np.arange(1, 10 + 1))\n",
    "   \n",
    "# 隨機抽出 5 個\n",
    "print(random.choices(list1, k=5))  "
   ]
  },
  {
   "cell_type": "markdown",
   "metadata": {},
   "source": [
    "## Pandas 抽樣"
   ]
  },
  {
   "cell_type": "code",
   "execution_count": 3,
   "metadata": {},
   "outputs": [
    {
     "data": {
      "text/html": [
       "<div>\n",
       "<style scoped>\n",
       "    .dataframe tbody tr th:only-of-type {\n",
       "        vertical-align: middle;\n",
       "    }\n",
       "\n",
       "    .dataframe tbody tr th {\n",
       "        vertical-align: top;\n",
       "    }\n",
       "\n",
       "    .dataframe thead th {\n",
       "        text-align: right;\n",
       "    }\n",
       "</style>\n",
       "<table border=\"1\" class=\"dataframe\">\n",
       "  <thead>\n",
       "    <tr style=\"text-align: right;\">\n",
       "      <th></th>\n",
       "      <th>sepal length (cm)</th>\n",
       "      <th>sepal width (cm)</th>\n",
       "      <th>petal length (cm)</th>\n",
       "      <th>petal width (cm)</th>\n",
       "      <th>y</th>\n",
       "    </tr>\n",
       "  </thead>\n",
       "  <tbody>\n",
       "    <tr>\n",
       "      <th>78</th>\n",
       "      <td>6.0</td>\n",
       "      <td>2.9</td>\n",
       "      <td>4.5</td>\n",
       "      <td>1.5</td>\n",
       "      <td>1</td>\n",
       "    </tr>\n",
       "    <tr>\n",
       "      <th>76</th>\n",
       "      <td>6.8</td>\n",
       "      <td>2.8</td>\n",
       "      <td>4.8</td>\n",
       "      <td>1.4</td>\n",
       "      <td>1</td>\n",
       "    </tr>\n",
       "    <tr>\n",
       "      <th>2</th>\n",
       "      <td>4.7</td>\n",
       "      <td>3.2</td>\n",
       "      <td>1.3</td>\n",
       "      <td>0.2</td>\n",
       "      <td>0</td>\n",
       "    </tr>\n",
       "    <tr>\n",
       "      <th>86</th>\n",
       "      <td>6.7</td>\n",
       "      <td>3.1</td>\n",
       "      <td>4.7</td>\n",
       "      <td>1.5</td>\n",
       "      <td>1</td>\n",
       "    </tr>\n",
       "    <tr>\n",
       "      <th>115</th>\n",
       "      <td>6.4</td>\n",
       "      <td>3.2</td>\n",
       "      <td>5.3</td>\n",
       "      <td>2.3</td>\n",
       "      <td>2</td>\n",
       "    </tr>\n",
       "  </tbody>\n",
       "</table>\n",
       "</div>"
      ],
      "text/plain": [
       "     sepal length (cm)  sepal width (cm)  petal length (cm)  petal width (cm)  \\\n",
       "78                 6.0               2.9                4.5               1.5   \n",
       "76                 6.8               2.8                4.8               1.4   \n",
       "2                  4.7               3.2                1.3               0.2   \n",
       "86                 6.7               3.1                4.7               1.5   \n",
       "115                6.4               3.2                5.3               2.3   \n",
       "\n",
       "     y  \n",
       "78   1  \n",
       "76   1  \n",
       "2    0  \n",
       "86   1  \n",
       "115  2  "
      ]
     },
     "execution_count": 3,
     "metadata": {},
     "output_type": "execute_result"
    }
   ],
   "source": [
    "from sklearn import datasets\n",
    "import pandas as pd\n",
    "\n",
    "# 載入鳶尾花(iris)資料集\n",
    "ds = datasets.load_iris()\n",
    "\n",
    "# x, y 合成一個資料集\n",
    "df = pd.DataFrame(data=ds.data, columns=ds.feature_names)\n",
    "df['y'] = ds.target\n",
    "   \n",
    "# 隨機抽出 5 個\n",
    "df.sample(5)"
   ]
  },
  {
   "cell_type": "markdown",
   "metadata": {},
   "source": [
    "## Pandas 分層抽樣"
   ]
  },
  {
   "cell_type": "code",
   "execution_count": 4,
   "metadata": {},
   "outputs": [
    {
     "name": "stdout",
     "output_type": "stream",
     "text": [
      "重新洗牌的全部資料:\n",
      "[104  86  81  80  49 148  89 133  72 118 142 117   8  22 107 100 101   4\n",
      "   0  43  13 123  48  65   6  20  92  10 125 147 130 115  19  59  79 114\n",
      "   5  90  67 132  54  26  63  68  78 136  75  55 129  15  41 102  24 113\n",
      "  84  88  30 121 137   1  85  87  76 111  21  51  38  36 135 131   9  82\n",
      "  83 146  71  64 149 128 134  66  56  16   3  94  73  97 124  32 106  47\n",
      "  37  27  11  91  99  61  18 144 112 116  12  34  42  95  96  50  69 119\n",
      "  28   2  44 110  39  45 109 103  60  14  52  98  29  25 138  35 140 127\n",
      " 122  58 120  77 139  31  70 141 143  17  57 108  46  23  62  93  33 126]\n",
      "\n",
      "抽出的索引值:\n",
      "[105   7  74  40  53 145]\n"
     ]
    }
   ],
   "source": [
    "from sklearn import datasets\n",
    "from sklearn.model_selection import StratifiedShuffleSplit\n",
    "import pandas as pd\n",
    "\n",
    "# 載入鳶尾花(iris)資料集\n",
    "ds = datasets.load_iris()\n",
    "\n",
    "# x, y 合成一個資料集\n",
    "df = pd.DataFrame(data=ds.data, columns=ds.feature_names)\n",
    "df['y'] = ds.target\n",
    "\n",
    "# 隨機抽出 6 個\n",
    "stratified = StratifiedShuffleSplit(n_splits=1, test_size=6)\n",
    "x = list(stratified.split(df, df['y']))\n",
    "\n",
    "print('重新洗牌的全部資料:')\n",
    "print(x[0][0])\n",
    "\n",
    "print('\\n抽出的索引值:')\n",
    "print(x[0][1])"
   ]
  },
  {
   "cell_type": "code",
   "execution_count": 5,
   "metadata": {},
   "outputs": [
    {
     "name": "stdout",
     "output_type": "stream",
     "text": [
      "\n",
      "抽出的資料:\n"
     ]
    },
    {
     "data": {
      "text/html": [
       "<div>\n",
       "<style scoped>\n",
       "    .dataframe tbody tr th:only-of-type {\n",
       "        vertical-align: middle;\n",
       "    }\n",
       "\n",
       "    .dataframe tbody tr th {\n",
       "        vertical-align: top;\n",
       "    }\n",
       "\n",
       "    .dataframe thead th {\n",
       "        text-align: right;\n",
       "    }\n",
       "</style>\n",
       "<table border=\"1\" class=\"dataframe\">\n",
       "  <thead>\n",
       "    <tr style=\"text-align: right;\">\n",
       "      <th></th>\n",
       "      <th>sepal length (cm)</th>\n",
       "      <th>sepal width (cm)</th>\n",
       "      <th>petal length (cm)</th>\n",
       "      <th>petal width (cm)</th>\n",
       "      <th>y</th>\n",
       "    </tr>\n",
       "  </thead>\n",
       "  <tbody>\n",
       "    <tr>\n",
       "      <th>105</th>\n",
       "      <td>7.6</td>\n",
       "      <td>3.0</td>\n",
       "      <td>6.6</td>\n",
       "      <td>2.1</td>\n",
       "      <td>2</td>\n",
       "    </tr>\n",
       "    <tr>\n",
       "      <th>7</th>\n",
       "      <td>5.0</td>\n",
       "      <td>3.4</td>\n",
       "      <td>1.5</td>\n",
       "      <td>0.2</td>\n",
       "      <td>0</td>\n",
       "    </tr>\n",
       "    <tr>\n",
       "      <th>74</th>\n",
       "      <td>6.4</td>\n",
       "      <td>2.9</td>\n",
       "      <td>4.3</td>\n",
       "      <td>1.3</td>\n",
       "      <td>1</td>\n",
       "    </tr>\n",
       "    <tr>\n",
       "      <th>40</th>\n",
       "      <td>5.0</td>\n",
       "      <td>3.5</td>\n",
       "      <td>1.3</td>\n",
       "      <td>0.3</td>\n",
       "      <td>0</td>\n",
       "    </tr>\n",
       "    <tr>\n",
       "      <th>53</th>\n",
       "      <td>5.5</td>\n",
       "      <td>2.3</td>\n",
       "      <td>4.0</td>\n",
       "      <td>1.3</td>\n",
       "      <td>1</td>\n",
       "    </tr>\n",
       "    <tr>\n",
       "      <th>145</th>\n",
       "      <td>6.7</td>\n",
       "      <td>3.0</td>\n",
       "      <td>5.2</td>\n",
       "      <td>2.3</td>\n",
       "      <td>2</td>\n",
       "    </tr>\n",
       "  </tbody>\n",
       "</table>\n",
       "</div>"
      ],
      "text/plain": [
       "     sepal length (cm)  sepal width (cm)  petal length (cm)  petal width (cm)  \\\n",
       "105                7.6               3.0                6.6               2.1   \n",
       "7                  5.0               3.4                1.5               0.2   \n",
       "74                 6.4               2.9                4.3               1.3   \n",
       "40                 5.0               3.5                1.3               0.3   \n",
       "53                 5.5               2.3                4.0               1.3   \n",
       "145                6.7               3.0                5.2               2.3   \n",
       "\n",
       "     y  \n",
       "105  2  \n",
       "7    0  \n",
       "74   1  \n",
       "40   0  \n",
       "53   1  \n",
       "145  2  "
      ]
     },
     "execution_count": 5,
     "metadata": {},
     "output_type": "execute_result"
    }
   ],
   "source": [
    "print('\\n抽出的資料:')\n",
    "df.iloc[x[0][1]]"
   ]
  },
  {
   "cell_type": "code",
   "execution_count": 6,
   "metadata": {},
   "outputs": [
    {
     "data": {
      "text/plain": [
       "y\n",
       "0    50\n",
       "1    50\n",
       "2    50\n",
       "Name: count, dtype: int64"
      ]
     },
     "execution_count": 6,
     "metadata": {},
     "output_type": "execute_result"
    }
   ],
   "source": [
    "df['y'].value_counts()"
   ]
  },
  {
   "cell_type": "markdown",
   "metadata": {},
   "source": [
    "## Pandas 不分層抽樣"
   ]
  },
  {
   "cell_type": "code",
   "execution_count": 7,
   "metadata": {},
   "outputs": [
    {
     "name": "stdout",
     "output_type": "stream",
     "text": [
      "\n",
      "抽出的資料:\n",
      "     sepal length (cm)  sepal width (cm)  petal length (cm)  petal width (cm)  \\\n",
      "63                 6.1               2.9                4.7               1.4   \n",
      "50                 7.0               3.2                4.7               1.4   \n",
      "10                 5.4               3.7                1.5               0.2   \n",
      "115                6.4               3.2                5.3               2.3   \n",
      "92                 5.8               2.6                4.0               1.2   \n",
      "91                 6.1               3.0                4.6               1.4   \n",
      "\n",
      "     y  \n",
      "63   1  \n",
      "50   1  \n",
      "10   0  \n",
      "115  2  \n",
      "92   1  \n",
      "91   1  \n"
     ]
    }
   ],
   "source": [
    "from sklearn import datasets\n",
    "from sklearn.model_selection import train_test_split\n",
    "import pandas as pd\n",
    "\n",
    "# 載入鳶尾花(iris)資料集\n",
    "ds = datasets.load_iris()\n",
    "\n",
    "# x, y 合成一個資料集\n",
    "df = pd.DataFrame(data=ds.data, columns=ds.feature_names)\n",
    "df['y'] = ds.target\n",
    "\n",
    "# 隨機抽出 6 個\n",
    "train, test = train_test_split(df, test_size=6)\n",
    "x = list(stratified.split(df, df['y']))\n",
    "\n",
    "print('\\n抽出的資料:')\n",
    "print(test)"
   ]
  },
  {
   "cell_type": "code",
   "execution_count": null,
   "metadata": {},
   "outputs": [],
   "source": []
  }
 ],
 "metadata": {
  "kernelspec": {
   "display_name": "Python 3 (ipykernel)",
   "language": "python",
   "name": "python3"
  },
  "language_info": {
   "codemirror_mode": {
    "name": "ipython",
    "version": 3
   },
   "file_extension": ".py",
   "mimetype": "text/x-python",
   "name": "python",
   "nbconvert_exporter": "python",
   "pygments_lexer": "ipython3",
   "version": "3.12.3"
  }
 },
 "nbformat": 4,
 "nbformat_minor": 4
}
