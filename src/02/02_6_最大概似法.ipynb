{
 "cells": [
  {
   "cell_type": "markdown",
   "metadata": {},
   "source": [
    "# 最大概似法(Maximum Likelihood Estimation, MLE)"
   ]
  },
  {
   "cell_type": "markdown",
   "metadata": {},
   "source": [
    "## 常態分配的機率密度函數"
   ]
  },
  {
   "cell_type": "markdown",
   "metadata": {},
   "source": [
    "## 範例1. 如果樣本點x=1, 計算來自常態分配N(0,1)的機率"
   ]
  },
  {
   "cell_type": "code",
   "execution_count": 12,
   "metadata": {},
   "outputs": [
    {
     "data": {
      "text/plain": [
       "0.24197072451914337"
      ]
     },
     "execution_count": 12,
     "metadata": {},
     "output_type": "execute_result"
    }
   ],
   "source": [
    "# 載入套件\n",
    "import numpy as np\n",
    "import math\n",
    "\n",
    "# 常態分配的機率密度函數(Probability Density Function, pdf)\n",
    "def f(x, mean, std):\n",
    "    return (1/((2*np.pi*std**2) ** .5)) * np.exp(-0.5*((x-mean)/std)**2) \n",
    "\n",
    "f(1, 0, 1)"
   ]
  },
  {
   "cell_type": "code",
   "execution_count": 13,
   "metadata": {},
   "outputs": [
    {
     "data": {
      "text/plain": [
       "0.24197072451914337"
      ]
     },
     "execution_count": 13,
     "metadata": {},
     "output_type": "execute_result"
    }
   ],
   "source": [
    "from scipy.stats import norm\n",
    "\n",
    "# 平均數(mean)、標準差(std)\n",
    "mean = 0\n",
    "std = 1\n",
    "\n",
    "# 計算來自常態分配N(0,1)的機率\n",
    "norm.pdf(1, mean, std)"
   ]
  },
  {
   "cell_type": "markdown",
   "metadata": {},
   "source": [
    "## 繪製機率密度函數(pdf)"
   ]
  },
  {
   "cell_type": "code",
   "execution_count": 14,
   "metadata": {},
   "outputs": [
    {
     "data": {
      "image/png": "[encoded data removed]",
      "text/plain": [
       "<Figure size 640x480 with 1 Axes>"
      ]
     },
     "metadata": {},
     "output_type": "display_data"
    }
   ],
   "source": [
    "import matplotlib.pyplot as plt\n",
    "import numpy as np\n",
    "from scipy.stats import norm\n",
    "\n",
    "# 觀察值範圍\n",
    "z1, z2 = -4, 4\n",
    "\n",
    "# 平均數(mean)、標準差(std)\n",
    "mean = 0\n",
    "std = 1\n",
    "\n",
    "# 樣本點\n",
    "x = np.arange(z1, z2, 0.001) \n",
    "y = norm.pdf(x, mean, std)\n",
    "\n",
    "# 繪圖\n",
    "plt.plot(x,y,'black')\n",
    "\n",
    "# 填色\n",
    "plt.fill_between(x,y,0, alpha=0.3, color='b')\n",
    "\n",
    "plt.plot([1, 1], [0, norm.pdf(1, mean, std)], color='r')\n",
    "plt.show()"
   ]
  },
  {
   "cell_type": "markdown",
   "metadata": {},
   "source": [
    "## 範例2. 如果有兩個樣本點x=1、3, 計算來自常態分配N(1,1)及N(2,3)機率，哪一個可能性大?"
   ]
  },
  {
   "cell_type": "code",
   "execution_count": 15,
   "metadata": {},
   "outputs": [
    {
     "name": "stdout",
     "output_type": "stream",
     "text": [
      "來自 N(1,1)的機率：0.021539279301848634\n",
      "來自 N(2,3)的機率：0.01582423339377573\n"
     ]
    }
   ],
   "source": [
    "# 載入套件\n",
    "import numpy as np\n",
    "import math\n",
    "from scipy.stats import norm\n",
    "\n",
    "# 計算來自常態分配 N(1,1)的機率\n",
    "mean = 1   # 平均數(mean)\n",
    "std = 1    # 標準差(std)\n",
    "print(f'來自 N(1,1)的機率：{norm.pdf(1, mean, std) * norm.pdf(3, mean, std)}')\n",
    "\n",
    "\n",
    "# 計算來自常態分配 N(2,3)的機率\n",
    "mean = 2   # 平均數(mean)\n",
    "std = 3    # 標準差(std)\n",
    "print(f'來自 N(2,3)的機率：{norm.pdf(1, mean, std) * norm.pdf(3, mean, std)}')"
   ]
  },
  {
   "cell_type": "markdown",
   "metadata": {},
   "source": [
    "## 範例3. 如果有一組樣本, 計算來自哪一個常態分配N($\\mu, \\sigma$)，機率最大?"
   ]
  },
  {
   "cell_type": "code",
   "execution_count": 16,
   "metadata": {},
   "outputs": [
    {
     "data": {
      "text/latex": [
       "$\\displaystyle \\log{\\left(\\frac{0.707106781186547 e^{- \\frac{0.5 \\left(- m + x\\right)^{2}}{s^{2}}}}{\\pi^{0.5} \\left(s^{2}\\right)^{0.5}} \\right)}$"
      ],
      "text/plain": [
       "log(0.707106781186547*exp(-0.5*(-m + x)**2/s**2)/(pi**0.5*(s**2)**0.5))"
      ]
     },
     "execution_count": 16,
     "metadata": {},
     "output_type": "execute_result"
    }
   ],
   "source": [
    "# 載入套件\n",
    "from scipy.stats import norm\n",
    "from sympy import symbols, pi, exp, log\n",
    "from sympy.stats import Probability, Normal\n",
    "\n",
    "# 樣本\n",
    "data = [1,3,5,3,4,2,5,6]\n",
    "\n",
    "# x變數、平均數(m)、標準差(s)\n",
    "x, m, s = symbols('x m s')\n",
    "\n",
    "# 常態分配的機率密度函數(Probability Density Function, pdf)\n",
    "pdf = (1/((2*pi*s**2) ** .5)) * exp(-0.5*((x-m)/s)**2) \n",
    "# 顯示 log(pdf) 函數 \n",
    "log_p = log(pdf)\n",
    "log_p"
   ]
  },
  {
   "cell_type": "code",
   "execution_count": 17,
   "metadata": {
    "scrolled": true
   },
   "outputs": [
    {
     "data": {
      "text/latex": [
       "$\\displaystyle \\log{\\left(\\frac{0.707106781186547 e^{- \\frac{0.5 \\left(1 - m\\right)^{2}}{s^{2}}}}{\\pi^{0.5} \\left(s^{2}\\right)^{0.5}} \\right)} + \\log{\\left(\\frac{0.707106781186547 e^{- \\frac{0.5 \\left(2 - m\\right)^{2}}{s^{2}}}}{\\pi^{0.5} \\left(s^{2}\\right)^{0.5}} \\right)} + 2 \\log{\\left(\\frac{0.707106781186547 e^{- \\frac{0.5 \\left(3 - m\\right)^{2}}{s^{2}}}}{\\pi^{0.5} \\left(s^{2}\\right)^{0.5}} \\right)} + \\log{\\left(\\frac{0.707106781186547 e^{- \\frac{0.5 \\left(4 - m\\right)^{2}}{s^{2}}}}{\\pi^{0.5} \\left(s^{2}\\right)^{0.5}} \\right)} + 2 \\log{\\left(\\frac{0.707106781186547 e^{- \\frac{0.5 \\left(5 - m\\right)^{2}}{s^{2}}}}{\\pi^{0.5} \\left(s^{2}\\right)^{0.5}} \\right)} + \\log{\\left(\\frac{0.707106781186547 e^{- \\frac{0.5 \\left(6 - m\\right)^{2}}{s^{2}}}}{\\pi^{0.5} \\left(s^{2}\\right)^{0.5}} \\right)}$"
      ],
      "text/plain": [
       "log(0.707106781186547*exp(-0.5*(1 - m)**2/s**2)/(pi**0.5*(s**2)**0.5)) + log(0.707106781186547*exp(-0.5*(2 - m)**2/s**2)/(pi**0.5*(s**2)**0.5)) + 2*log(0.707106781186547*exp(-0.5*(3 - m)**2/s**2)/(pi**0.5*(s**2)**0.5)) + log(0.707106781186547*exp(-0.5*(4 - m)**2/s**2)/(pi**0.5*(s**2)**0.5)) + 2*log(0.707106781186547*exp(-0.5*(5 - m)**2/s**2)/(pi**0.5*(s**2)**0.5)) + log(0.707106781186547*exp(-0.5*(6 - m)**2/s**2)/(pi**0.5*(s**2)**0.5))"
      ]
     },
     "execution_count": 17,
     "metadata": {},
     "output_type": "execute_result"
    }
   ],
   "source": [
    "# 帶入樣本資料\n",
    "logP = 0\n",
    "for xi in data:\n",
    "    logP += log_p.subs({x: xi})\n",
    "    \n",
    "logP"
   ]
  },
  {
   "cell_type": "markdown",
   "metadata": {},
   "source": [
    "## 上述函數各對平均數、變異數偏微分 "
   ]
  },
  {
   "cell_type": "code",
   "execution_count": 18,
   "metadata": {},
   "outputs": [
    {
     "name": "stdout",
     "output_type": "stream",
     "text": [
      "m 偏導數: -0.5*(2*m - 12)/s**2 - 1.0*(2*m - 10)/s**2 - 0.5*(2*m - 8)/s**2 - 1.0*(2*m - 6)/s**2 - 0.5*(2*m - 4)/s**2 - 0.5*(2*m - 2)/s**2\n",
      "s 偏導數: 1.4142135623731*pi**0.5*(-0.707106781186547*exp(-0.5*(1 - m)**2/s**2)/(pi**0.5*s*(s**2)**0.5) + 0.707106781186547*(1 - m)**2*exp(-0.5*(1 - m)**2/s**2)/(pi**0.5*s**3*(s**2)**0.5))*(s**2)**0.5*exp(0.5*(1 - m)**2/s**2) + 1.4142135623731*pi**0.5*(-0.707106781186547*exp(-0.5*(2 - m)**2/s**2)/(pi**0.5*s*(s**2)**0.5) + 0.707106781186547*(2 - m)**2*exp(-0.5*(2 - m)**2/s**2)/(pi**0.5*s**3*(s**2)**0.5))*(s**2)**0.5*exp(0.5*(2 - m)**2/s**2) + 2.82842712474619*pi**0.5*(-0.707106781186547*exp(-0.5*(3 - m)**2/s**2)/(pi**0.5*s*(s**2)**0.5) + 0.707106781186547*(3 - m)**2*exp(-0.5*(3 - m)**2/s**2)/(pi**0.5*s**3*(s**2)**0.5))*(s**2)**0.5*exp(0.5*(3 - m)**2/s**2) + 1.4142135623731*pi**0.5*(-0.707106781186547*exp(-0.5*(4 - m)**2/s**2)/(pi**0.5*s*(s**2)**0.5) + 0.707106781186547*(4 - m)**2*exp(-0.5*(4 - m)**2/s**2)/(pi**0.5*s**3*(s**2)**0.5))*(s**2)**0.5*exp(0.5*(4 - m)**2/s**2) + 2.82842712474619*pi**0.5*(-0.707106781186547*exp(-0.5*(5 - m)**2/s**2)/(pi**0.5*s*(s**2)**0.5) + 0.707106781186547*(5 - m)**2*exp(-0.5*(5 - m)**2/s**2)/(pi**0.5*s**3*(s**2)**0.5))*(s**2)**0.5*exp(0.5*(5 - m)**2/s**2) + 1.4142135623731*pi**0.5*(-0.707106781186547*exp(-0.5*(6 - m)**2/s**2)/(pi**0.5*s*(s**2)**0.5) + 0.707106781186547*(6 - m)**2*exp(-0.5*(6 - m)**2/s**2)/(pi**0.5*s**3*(s**2)**0.5))*(s**2)**0.5*exp(0.5*(6 - m)**2/s**2)\n"
     ]
    }
   ],
   "source": [
    "from sympy import diff\n",
    "\n",
    "logp_diff_m = diff(logP, m) # 對平均數(m)偏微分  \n",
    "\n",
    "logp_diff_s = diff(logP, s) # 對變異數(s)偏微分\n",
    "\n",
    "print('m 偏導數:', logp_diff_m)\n",
    "print('s 偏導數:', logp_diff_s)"
   ]
  },
  {
   "cell_type": "markdown",
   "metadata": {},
   "source": [
    "## 簡化偏導數"
   ]
  },
  {
   "cell_type": "code",
   "execution_count": 19,
   "metadata": {},
   "outputs": [
    {
     "name": "stdout",
     "output_type": "stream",
     "text": [
      "(29.0 - 8.0*m)/s**2\n",
      "\n"
     ]
    },
    {
     "data": {
      "text/latex": [
       "$\\displaystyle \\frac{1.0 \\left(8.0 m^{2} - 58.0 m - 8.0 s^{2} + 125.0\\right)}{s^{3}}$"
      ],
      "text/plain": [
       "1.0*(8.0*m**2 - 58.0*m - 8.0*s**2 + 125.0)/s**3"
      ]
     },
     "execution_count": 19,
     "metadata": {},
     "output_type": "execute_result"
    }
   ],
   "source": [
    "from sympy import simplify\n",
    "\n",
    "# 簡化 m 偏導數\n",
    "logp_diff_m = simplify(logp_diff_m)\n",
    "print(logp_diff_m)\n",
    "print()\n",
    "\n",
    "# 簡化 s 偏導數\n",
    "logp_diff_s = simplify(logp_diff_s)\n",
    "logp_diff_s"
   ]
  },
  {
   "cell_type": "markdown",
   "metadata": {},
   "source": [
    "## 令一階導數=0，有最大值，可得到聯立方程式"
   ]
  },
  {
   "cell_type": "code",
   "execution_count": 20,
   "metadata": {},
   "outputs": [
    {
     "data": {
      "text/plain": [
       "[(3.62500000000000, -1.57619002661481), (3.62500000000000, 1.57619002661481)]"
      ]
     },
     "execution_count": 20,
     "metadata": {},
     "output_type": "execute_result"
    }
   ],
   "source": [
    "from sympy import solve\n",
    "\n",
    "funcs = [logp_diff_s, logp_diff_m]\n",
    "solve(funcs, [m, s])"
   ]
  },
  {
   "cell_type": "markdown",
   "metadata": {},
   "source": [
    "## 使用NumPy驗證"
   ]
  },
  {
   "cell_type": "code",
   "execution_count": 21,
   "metadata": {},
   "outputs": [
    {
     "data": {
      "text/plain": [
       "(3.625, 1.5761900266148114)"
      ]
     },
     "execution_count": 21,
     "metadata": {},
     "output_type": "execute_result"
    }
   ],
   "source": [
    "np.mean(data), np.std(data)"
   ]
  },
  {
   "cell_type": "code",
   "execution_count": null,
   "metadata": {},
   "outputs": [],
   "source": []
  }
 ],
 "metadata": {
  "kernelspec": {
   "display_name": "Python 3 (ipykernel)",
   "language": "python",
   "name": "python3"
  },
  "language_info": {
   "codemirror_mode": {
    "name": "ipython",
    "version": 3
   },
   "file_extension": ".py",
   "mimetype": "text/x-python",
   "name": "python",
   "nbconvert_exporter": "python",
   "pygments_lexer": "ipython3",
   "version": "3.12.3"
  }
 },
 "nbformat": 4,
 "nbformat_minor": 4
}
