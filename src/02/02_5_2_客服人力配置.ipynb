{
 "cells": [
  {
   "cell_type": "markdown",
   "metadata": {},
   "source": [
    "# 客服人力配置"
   ]
  },
  {
   "cell_type": "code",
   "execution_count": 3,
   "metadata": {},
   "outputs": [
    {
     "name": "stdout",
     "output_type": "stream",
     "text": [
      "Problem:\n",
      "MINIMIZE\n",
      "1*x0 + 1*x12 + 1*x16 + 1*x20 + 1*x4 + 1*x8 + 0\n",
      "SUBJECT TO\n",
      "_C1: x0 + x20 >= 400\n",
      "\n",
      "_C2: x0 + x4 >= 800\n",
      "\n",
      "_C3: x4 + x8 >= 1000\n",
      "\n",
      "_C4: x12 + x8 >= 800\n",
      "\n",
      "_C5: x12 + x16 >= 1200\n",
      "\n",
      "_C6: x16 + x20 >= 2000\n",
      "\n",
      "VARIABLES\n",
      "0 <= x0 Integer\n",
      "0 <= x12 Integer\n",
      "0 <= x16 Integer\n",
      "0 <= x20 Integer\n",
      "0 <= x4 Integer\n",
      "0 <= x8 Integer\n",
      "\n",
      "Optimal\n"
     ]
    }
   ],
   "source": [
    "import pulp as p \n",
    "\n",
    "# 建立線性規劃 求取目標函數的最小值\n",
    "Lp_prob = p.LpProblem('Problem', p.LpMinimize) \n",
    "\n",
    "# 宣告變數(Variables)\n",
    "x0 = p.LpVariable(\"x0\", 0,None,p.LpInteger) # Create a variable x >= 0 \n",
    "x4 = p.LpVariable(\"x4\", 0,None,p.LpInteger) # Create a variable x >= 0 \n",
    "x8 = p.LpVariable(\"x8\",0,None,p.LpInteger) # Create a variable x >= 0 \n",
    "x12 = p.LpVariable(\"x12\",0,None,p.LpInteger) # Create a variable x >= 0 \n",
    "x16 = p.LpVariable(\"x16\",0,None,p.LpInteger) # Create a variable x >= 0 \n",
    "x20 = p.LpVariable(\"x20\",0,None,p.LpInteger) # Create a variable x >= 0 \n",
    "\n",
    "# 定義目標函數(Objective Function)\n",
    "Lp_prob += x0 + x4 + x8 + x12 + x16 + x20\n",
    "\n",
    "# 定義限制條件(Constraints) \n",
    "Lp_prob += x20+x0>=400\n",
    "Lp_prob += x0+x4>=800\n",
    "Lp_prob += x4+x8>=1000\n",
    "Lp_prob += x8+x12>=800\n",
    "Lp_prob += x12+x16>=1200\n",
    "Lp_prob += x16+x20>=2000\n",
    "\n",
    "# 顯示問題的定義\n",
    "print(Lp_prob) "
   ]
  },
  {
   "cell_type": "markdown",
   "metadata": {},
   "source": [
    "## 求解"
   ]
  },
  {
   "cell_type": "code",
   "execution_count": null,
   "metadata": {},
   "outputs": [
    {
     "name": "stdout",
     "output_type": "stream",
     "text": [
      "x0=0.0\n",
      "x4=800.0\n",
      "x8=200.0\n",
      "x12=600.0\n",
      "x16=600.0\n",
      "x20=1400.0\n",
      "需求總人數=3600.0\n"
     ]
    }
   ],
   "source": [
    "status = Lp_prob.solve() # Solver \n",
    "print(p.LpStatus[status]) # The solution status \n",
    "\n",
    "# 顯示答案 \n",
    "print('x0={}'.format(p.value(x0)))\n",
    "print('x4={}'.format(p.value(x4)))\n",
    "print('x8={}'.format(p.value(x8)))\n",
    "print('x12={}'.format(p.value(x12)))\n",
    "print('x16={}'.format(p.value(x16)))\n",
    "print('x20={}'.format(p.value(x20)))\n",
    "\n",
    "print('需求總人數={}'.format(p.value(Lp_prob.objective)))"
   ]
  },
  {
   "cell_type": "code",
   "execution_count": null,
   "metadata": {},
   "outputs": [],
   "source": []
  }
 ],
 "metadata": {
  "kernelspec": {
   "display_name": "Python 3 (ipykernel)",
   "language": "python",
   "name": "python3"
  },
  "language_info": {
   "codemirror_mode": {
    "name": "ipython",
    "version": 3
   },
   "file_extension": ".py",
   "mimetype": "text/x-python",
   "name": "python",
   "nbconvert_exporter": "python",
   "pygments_lexer": "ipython3",
   "version": "3.12.3"
  }
 },
 "nbformat": 4,
 "nbformat_minor": 4
}
