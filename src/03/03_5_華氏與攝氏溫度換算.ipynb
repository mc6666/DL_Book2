{
 "cells": [
  {
   "cell_type": "markdown",
   "metadata": {},
   "source": [
    "# 華氏與攝氏溫度換算"
   ]
  },
  {
   "cell_type": "markdown",
   "metadata": {},
   "source": [
    "## 產生隨機資料"
   ]
  },
  {
   "cell_type": "code",
   "execution_count": 1,
   "metadata": {},
   "outputs": [
    {
     "name": "stdout",
     "output_type": "stream",
     "text": [
      "華氏(F)：-58.00 , 攝氏(C)：-50\n",
      "華氏(F)：-56.20 , 攝氏(C)：-49\n",
      "華氏(F)：-54.40 , 攝氏(C)：-48\n",
      "華氏(F)：-52.60 , 攝氏(C)：-47\n",
      "華氏(F)：-50.80 , 攝氏(C)：-46\n",
      "華氏(F)：-49.00 , 攝氏(C)：-45\n",
      "華氏(F)：-47.20 , 攝氏(C)：-44\n",
      "華氏(F)：-45.40 , 攝氏(C)：-43\n",
      "華氏(F)：-43.60 , 攝氏(C)：-42\n",
      "華氏(F)：-41.80 , 攝氏(C)：-41\n",
      "華氏(F)：-40.00 , 攝氏(C)：-40\n",
      "華氏(F)：-38.20 , 攝氏(C)：-39\n",
      "華氏(F)：-36.40 , 攝氏(C)：-38\n",
      "華氏(F)：-34.60 , 攝氏(C)：-37\n",
      "華氏(F)：-32.80 , 攝氏(C)：-36\n",
      "華氏(F)：-31.00 , 攝氏(C)：-35\n",
      "華氏(F)：-29.20 , 攝氏(C)：-34\n",
      "華氏(F)：-27.40 , 攝氏(C)：-33\n",
      "華氏(F)：-25.60 , 攝氏(C)：-32\n",
      "華氏(F)：-23.80 , 攝氏(C)：-31\n",
      "華氏(F)：-22.00 , 攝氏(C)：-30\n",
      "華氏(F)：-20.20 , 攝氏(C)：-29\n",
      "華氏(F)：-18.40 , 攝氏(C)：-28\n",
      "華氏(F)：-16.60 , 攝氏(C)：-27\n",
      "華氏(F)：-14.80 , 攝氏(C)：-26\n",
      "華氏(F)：-13.00 , 攝氏(C)：-25\n",
      "華氏(F)：-11.20 , 攝氏(C)：-24\n",
      "華氏(F)：-9.40 , 攝氏(C)：-23\n",
      "華氏(F)：-7.60 , 攝氏(C)：-22\n",
      "華氏(F)：-5.80 , 攝氏(C)：-21\n",
      "華氏(F)：-4.00 , 攝氏(C)：-20\n",
      "華氏(F)：-2.20 , 攝氏(C)：-19\n",
      "華氏(F)：-0.40 , 攝氏(C)：-18\n",
      "華氏(F)：1.40 , 攝氏(C)：-17\n",
      "華氏(F)：3.20 , 攝氏(C)：-16\n",
      "華氏(F)：5.00 , 攝氏(C)：-15\n",
      "華氏(F)：6.80 , 攝氏(C)：-14\n",
      "華氏(F)：8.60 , 攝氏(C)：-13\n",
      "華氏(F)：10.40 , 攝氏(C)：-12\n",
      "華氏(F)：12.20 , 攝氏(C)：-11\n",
      "華氏(F)：14.00 , 攝氏(C)：-10\n",
      "華氏(F)：15.80 , 攝氏(C)：-9\n",
      "華氏(F)：17.60 , 攝氏(C)：-8\n",
      "華氏(F)：19.40 , 攝氏(C)：-7\n",
      "華氏(F)：21.20 , 攝氏(C)：-6\n",
      "華氏(F)：23.00 , 攝氏(C)：-5\n",
      "華氏(F)：24.80 , 攝氏(C)：-4\n",
      "華氏(F)：26.60 , 攝氏(C)：-3\n",
      "華氏(F)：28.40 , 攝氏(C)：-2\n",
      "華氏(F)：30.20 , 攝氏(C)：-1\n",
      "華氏(F)：32.00 , 攝氏(C)：0\n",
      "華氏(F)：33.80 , 攝氏(C)：1\n",
      "華氏(F)：35.60 , 攝氏(C)：2\n",
      "華氏(F)：37.40 , 攝氏(C)：3\n",
      "華氏(F)：39.20 , 攝氏(C)：4\n",
      "華氏(F)：41.00 , 攝氏(C)：5\n",
      "華氏(F)：42.80 , 攝氏(C)：6\n",
      "華氏(F)：44.60 , 攝氏(C)：7\n",
      "華氏(F)：46.40 , 攝氏(C)：8\n",
      "華氏(F)：48.20 , 攝氏(C)：9\n",
      "華氏(F)：50.00 , 攝氏(C)：10\n",
      "華氏(F)：51.80 , 攝氏(C)：11\n",
      "華氏(F)：53.60 , 攝氏(C)：12\n",
      "華氏(F)：55.40 , 攝氏(C)：13\n",
      "華氏(F)：57.20 , 攝氏(C)：14\n",
      "華氏(F)：59.00 , 攝氏(C)：15\n",
      "華氏(F)：60.80 , 攝氏(C)：16\n",
      "華氏(F)：62.60 , 攝氏(C)：17\n",
      "華氏(F)：64.40 , 攝氏(C)：18\n",
      "華氏(F)：66.20 , 攝氏(C)：19\n",
      "華氏(F)：68.00 , 攝氏(C)：20\n",
      "華氏(F)：69.80 , 攝氏(C)：21\n",
      "華氏(F)：71.60 , 攝氏(C)：22\n",
      "華氏(F)：73.40 , 攝氏(C)：23\n",
      "華氏(F)：75.20 , 攝氏(C)：24\n",
      "華氏(F)：77.00 , 攝氏(C)：25\n",
      "華氏(F)：78.80 , 攝氏(C)：26\n",
      "華氏(F)：80.60 , 攝氏(C)：27\n",
      "華氏(F)：82.40 , 攝氏(C)：28\n",
      "華氏(F)：84.20 , 攝氏(C)：29\n",
      "華氏(F)：86.00 , 攝氏(C)：30\n",
      "華氏(F)：87.80 , 攝氏(C)：31\n",
      "華氏(F)：89.60 , 攝氏(C)：32\n",
      "華氏(F)：91.40 , 攝氏(C)：33\n",
      "華氏(F)：93.20 , 攝氏(C)：34\n",
      "華氏(F)：95.00 , 攝氏(C)：35\n",
      "華氏(F)：96.80 , 攝氏(C)：36\n",
      "華氏(F)：98.60 , 攝氏(C)：37\n",
      "華氏(F)：100.40 , 攝氏(C)：38\n",
      "華氏(F)：102.20 , 攝氏(C)：39\n",
      "華氏(F)：104.00 , 攝氏(C)：40\n",
      "華氏(F)：105.80 , 攝氏(C)：41\n",
      "華氏(F)：107.60 , 攝氏(C)：42\n",
      "華氏(F)：109.40 , 攝氏(C)：43\n",
      "華氏(F)：111.20 , 攝氏(C)：44\n",
      "華氏(F)：113.00 , 攝氏(C)：45\n",
      "華氏(F)：114.80 , 攝氏(C)：46\n",
      "華氏(F)：116.60 , 攝氏(C)：47\n",
      "華氏(F)：118.40 , 攝氏(C)：48\n",
      "華氏(F)：120.20 , 攝氏(C)：49\n",
      "華氏(F)：122.00 , 攝氏(C)：50\n",
      "華氏(F)：123.80 , 攝氏(C)：51\n",
      "華氏(F)：125.60 , 攝氏(C)：52\n",
      "華氏(F)：127.40 , 攝氏(C)：53\n",
      "華氏(F)：129.20 , 攝氏(C)：54\n",
      "華氏(F)：131.00 , 攝氏(C)：55\n",
      "華氏(F)：132.80 , 攝氏(C)：56\n",
      "華氏(F)：134.60 , 攝氏(C)：57\n",
      "華氏(F)：136.40 , 攝氏(C)：58\n",
      "華氏(F)：138.20 , 攝氏(C)：59\n",
      "華氏(F)：140.00 , 攝氏(C)：60\n",
      "華氏(F)：141.80 , 攝氏(C)：61\n",
      "華氏(F)：143.60 , 攝氏(C)：62\n",
      "華氏(F)：145.40 , 攝氏(C)：63\n",
      "華氏(F)：147.20 , 攝氏(C)：64\n",
      "華氏(F)：149.00 , 攝氏(C)：65\n",
      "華氏(F)：150.80 , 攝氏(C)：66\n",
      "華氏(F)：152.60 , 攝氏(C)：67\n",
      "華氏(F)：154.40 , 攝氏(C)：68\n",
      "華氏(F)：156.20 , 攝氏(C)：69\n",
      "華氏(F)：158.00 , 攝氏(C)：70\n",
      "華氏(F)：159.80 , 攝氏(C)：71\n",
      "華氏(F)：161.60 , 攝氏(C)：72\n",
      "華氏(F)：163.40 , 攝氏(C)：73\n",
      "華氏(F)：165.20 , 攝氏(C)：74\n",
      "華氏(F)：167.00 , 攝氏(C)：75\n",
      "華氏(F)：168.80 , 攝氏(C)：76\n",
      "華氏(F)：170.60 , 攝氏(C)：77\n",
      "華氏(F)：172.40 , 攝氏(C)：78\n",
      "華氏(F)：174.20 , 攝氏(C)：79\n",
      "華氏(F)：176.00 , 攝氏(C)：80\n",
      "華氏(F)：177.80 , 攝氏(C)：81\n",
      "華氏(F)：179.60 , 攝氏(C)：82\n",
      "華氏(F)：181.40 , 攝氏(C)：83\n",
      "華氏(F)：183.20 , 攝氏(C)：84\n",
      "華氏(F)：185.00 , 攝氏(C)：85\n",
      "華氏(F)：186.80 , 攝氏(C)：86\n",
      "華氏(F)：188.60 , 攝氏(C)：87\n",
      "華氏(F)：190.40 , 攝氏(C)：88\n",
      "華氏(F)：192.20 , 攝氏(C)：89\n",
      "華氏(F)：194.00 , 攝氏(C)：90\n",
      "華氏(F)：195.80 , 攝氏(C)：91\n",
      "華氏(F)：197.60 , 攝氏(C)：92\n",
      "華氏(F)：199.40 , 攝氏(C)：93\n",
      "華氏(F)：201.20 , 攝氏(C)：94\n",
      "華氏(F)：203.00 , 攝氏(C)：95\n",
      "華氏(F)：204.80 , 攝氏(C)：96\n",
      "華氏(F)：206.60 , 攝氏(C)：97\n",
      "華氏(F)：208.40 , 攝氏(C)：98\n",
      "華氏(F)：210.20 , 攝氏(C)：99\n",
      "華氏(F)：212.00 , 攝氏(C)：100\n"
     ]
    }
   ],
   "source": [
    "# 載入套件\n",
    "import numpy as np \n",
    "import tensorflow as tf \n",
    "\n",
    "# 隨機產生151筆資料\n",
    "n = 151\n",
    "C = np.linspace(-50, 100, n) \n",
    "F = C * (9/5) + 32\n",
    "\n",
    "for i, x in enumerate(C):\n",
    "    print(f\"華氏(F)：{F[i]:.2f} , 攝氏(C)：{x:.0f}\")"
   ]
  },
  {
   "cell_type": "markdown",
   "metadata": {},
   "source": [
    "## 建立模型"
   ]
  },
  {
   "cell_type": "code",
   "execution_count": 2,
   "metadata": {},
   "outputs": [],
   "source": [
    "# 定義完全連接層(Dense)\n",
    "# units：輸出神經元個數，input_shape：輸入神經元個數\n",
    "layer1 = tf.keras.layers.Input([1]) \n",
    "layer2 = tf.keras.layers.Dense(units=1) \n",
    "\n",
    "# 神經網路包含一層完全連接層\n",
    "model = tf.keras.Sequential([layer1, layer2])\n",
    "\n",
    "# 定義模型的損失函數(loss)為 MSE，優化器(optimizer)為 adam\n",
    "model.compile(loss='mean_squared_error',\n",
    "              optimizer=tf.keras.optimizers.Adam(0.1))"
   ]
  },
  {
   "cell_type": "markdown",
   "metadata": {},
   "source": [
    "## 模型訓練"
   ]
  },
  {
   "cell_type": "code",
   "execution_count": 3,
   "metadata": {
    "scrolled": true
   },
   "outputs": [],
   "source": [
    "history = model.fit(C, F, epochs=500, verbose=False)"
   ]
  },
  {
   "cell_type": "markdown",
   "metadata": {},
   "source": [
    "## 訓練過程繪圖"
   ]
  },
  {
   "cell_type": "code",
   "execution_count": 12,
   "metadata": {},
   "outputs": [
    {
     "data": {
      "image/png": "[encoded data removed]",
      "text/plain": [
       "<Figure size 600x400 with 1 Axes>"
      ]
     },
     "metadata": {},
     "output_type": "display_data"
    }
   ],
   "source": [
    "import matplotlib.pyplot as plt\n",
    "\n",
    "# 修正中文亂碼 \n",
    "plt.rcParams['font.sans-serif'] = ['Microsoft JhengHei'] # 微軟正黑體\n",
    "plt.rcParams['axes.unicode_minus'] = False\n",
    "\n",
    "plt.figure(figsize=(6,4))\n",
    "plt.xlabel('訓練週期', fontsize=14)\n",
    "plt.ylabel(\"損失函數(loss)\", fontsize=14)\n",
    "plt.plot(history.history['loss'])\n",
    "plt.show()"
   ]
  },
  {
   "cell_type": "markdown",
   "metadata": {},
   "source": [
    "## 測試"
   ]
  },
  {
   "cell_type": "code",
   "execution_count": 5,
   "metadata": {},
   "outputs": [
    {
     "data": {
      "text/plain": [
       "(151,)"
      ]
     },
     "execution_count": 5,
     "metadata": {},
     "output_type": "execute_result"
    }
   ],
   "source": [
    "C.shape"
   ]
  },
  {
   "cell_type": "code",
   "execution_count": 6,
   "metadata": {},
   "outputs": [
    {
     "name": "stdout",
     "output_type": "stream",
     "text": [
      "華氏(F)：212.00 , 攝氏(C)：100\n",
      "華氏(F)：32.00 , 攝氏(C)：0\n"
     ]
    }
   ],
   "source": [
    "y_pred = model.predict(np.array([100.0]), verbose=False)[0][0]\n",
    "print(f\"華氏(F)：{y_pred:.2f} , 攝氏(C)：100\")\n",
    "\n",
    "y_pred = model.predict(np.array([0.0]), verbose=False)[0][0]\n",
    "print(f\"華氏(F)：{y_pred:.2f} , 攝氏(C)：0\")"
   ]
  },
  {
   "cell_type": "markdown",
   "metadata": {},
   "source": [
    "## 取得模型參數"
   ]
  },
  {
   "cell_type": "code",
   "execution_count": 13,
   "metadata": {},
   "outputs": [
    {
     "name": "stdout",
     "output_type": "stream",
     "text": [
      "w：1.8000 , b：31.9999\n"
     ]
    }
   ],
   "source": [
    "w = layer2.get_weights()[0][0][0]\n",
    "b = layer2.get_weights()[1][0]\n",
    "\n",
    "print(f\"w：{w:.4f} , b：{b:.4f}\")"
   ]
  },
  {
   "cell_type": "code",
   "execution_count": null,
   "metadata": {},
   "outputs": [],
   "source": []
  }
 ],
 "metadata": {
  "kernelspec": {
   "display_name": "Python 3 (ipykernel)",
   "language": "python",
   "name": "python3"
  },
  "language_info": {
   "codemirror_mode": {
    "name": "ipython",
    "version": 3
   },
   "file_extension": ".py",
   "mimetype": "text/x-python",
   "name": "python",
   "nbconvert_exporter": "python",
   "pygments_lexer": "ipython3",
   "version": "3.12.3"
  }
 },
 "nbformat": 4,
 "nbformat_minor": 4
}
