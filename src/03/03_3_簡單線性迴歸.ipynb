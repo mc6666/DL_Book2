{
 "cells": [
  {
   "cell_type": "markdown",
   "metadata": {},
   "source": [
    "# 範例1. 使用自動微分估算簡單線性迴歸的參數(w、b)\n",
    "## $ y = wx + b$"
   ]
  },
  {
   "cell_type": "code",
   "execution_count": 1,
   "metadata": {},
   "outputs": [],
   "source": [
    "# 若出現以下錯誤，請執行本格\n",
    "# OMP: Error #15: Initializing libiomp5md.dll, but found libiomp5md.dll already initialized.\n",
    "import os\n",
    "os.environ[\"KMP_DUPLICATE_LIB_OK\"]=\"TRUE\""
   ]
  },
  {
   "cell_type": "code",
   "execution_count": 2,
   "metadata": {},
   "outputs": [],
   "source": [
    "# 載入套件\n",
    "import numpy as np \n",
    "import tensorflow as tf "
   ]
  },
  {
   "cell_type": "markdown",
   "metadata": {},
   "source": [
    "## 定義訓練函數"
   ]
  },
  {
   "cell_type": "code",
   "execution_count": 3,
   "metadata": {},
   "outputs": [],
   "source": [
    "# 定義損失函數\n",
    "def loss(y, y_pred):\n",
    "    return tf.reduce_mean(tf.square(y - y_pred))"
   ]
  },
  {
   "cell_type": "code",
   "execution_count": 4,
   "metadata": {},
   "outputs": [],
   "source": [
    "# 定義預測值函數\n",
    "def predict(X):\n",
    "    return w * X + b    "
   ]
  },
  {
   "cell_type": "code",
   "execution_count": 5,
   "metadata": {},
   "outputs": [],
   "source": [
    "# 定義訓練函數\n",
    "def train(X, y, epochs=40, lr=0.0001):\n",
    "    current_loss=0                                # 損失函數值\n",
    "    for epoch in range(epochs):                   # 執行訓練週期\n",
    "        with tf.GradientTape() as t:              # 自動微分\n",
    "            t.watch(tf.constant(X))               # 宣告 TensorFlow 常數參與自動微分\n",
    "            current_loss = loss(y, predict(X))    # 計算損失函數值\n",
    "        \n",
    "        dw, db = t.gradient(current_loss, [w, b]) # 取得 w, b 個別的梯度\n",
    "\n",
    "        # 更新權重：新權重 = 原權重 — 學習率(learning_rate) * 梯度(gradient)\n",
    "        w.assign_sub(lr * dw) # w -= lr * dw\n",
    "        b.assign_sub(lr * db) # b -= lr * db\n",
    "\n",
    "        # 顯示每一訓練週期的損失函數\n",
    "        print(f'Epoch {epoch}: Loss: {current_loss.numpy()}') "
   ]
  },
  {
   "cell_type": "markdown",
   "metadata": {},
   "source": [
    "## 產生隨機資料"
   ]
  },
  {
   "cell_type": "code",
   "execution_count": 6,
   "metadata": {},
   "outputs": [],
   "source": [
    "# 產生線性隨機資料100筆，介於 0-50\n",
    "n = 100\n",
    "X = np.linspace(0, 50, n) \n",
    "y = np.linspace(0, 50, n) \n",
    "  \n",
    "# 資料加一點雜訊(noise)\n",
    "X += np.random.uniform(-10, 10, n) \n",
    "y += np.random.uniform(-10, 10, n) "
   ]
  },
  {
   "cell_type": "code",
   "execution_count": 7,
   "metadata": {},
   "outputs": [
    {
     "data": {
      "text/plain": [
       "array([-7.39929496,  5.27887113,  8.58368567,  5.08554529,  4.73696726,\n",
       "        4.80417075, -0.16754152,  6.29050595,  6.84778339,  3.71544693,\n",
       "        7.04533554,  3.21895101, -3.5355899 ,  8.94145037, 15.77520142,\n",
       "       16.75931193, 14.67268532,  1.90108643,  1.08666854,  3.18745744,\n",
       "        3.54247452, 10.96264067, 18.04590946,  7.85209812,  6.9904009 ,\n",
       "       20.90055317,  9.81671183, 23.07981704, 22.94274342, 23.21229902,\n",
       "        8.17215741, 14.85819029,  7.09305137, 17.48104104, 10.4428392 ,\n",
       "       21.18379552, 18.32356898,  9.50830451, 11.19213081, 17.31207958,\n",
       "       10.56401765, 23.26160971, 21.92801814, 14.31120022, 27.36763582,\n",
       "       30.0338805 , 19.02427541, 24.30868101, 18.34565512, 25.6135596 ,\n",
       "       24.40738255, 18.14654403, 23.59211764, 35.12079482, 35.66833236,\n",
       "       37.59186618, 20.10007933, 20.93489168, 21.73541971, 27.0681707 ,\n",
       "       25.63741701, 22.91515822, 32.53003671, 26.26935385, 35.30460883,\n",
       "       24.90831758, 42.12611456, 35.69765203, 34.3256547 , 37.81989195,\n",
       "       41.74229545, 44.24170963, 30.52566123, 30.0047327 , 47.14758915,\n",
       "       30.20434422, 37.9297518 , 39.08054841, 32.3232598 , 49.65601002,\n",
       "       35.50413638, 47.11508264, 39.94600573, 47.979283  , 45.08360518,\n",
       "       48.37197431, 42.21528382, 52.132035  , 54.3673849 , 53.06831462,\n",
       "       53.99043576, 51.5152434 , 39.88404946, 40.14418322, 53.02194823,\n",
       "       48.12750263, 47.80950753, 43.17296038, 52.05150907, 48.69576732])"
      ]
     },
     "execution_count": 7,
     "metadata": {},
     "output_type": "execute_result"
    }
   ],
   "source": [
    "X"
   ]
  },
  {
   "cell_type": "code",
   "execution_count": 8,
   "metadata": {
    "scrolled": true
   },
   "outputs": [
    {
     "data": {
      "text/plain": [
       "array([-9.12948607,  2.87942297, 10.20077069, 10.07269956, -2.82028054,\n",
       "        4.48547853, 12.86997258, -6.17746914,  9.02852195,  7.73752849,\n",
       "        0.12760067, 13.29830634,  3.79542362, -1.25355099,  0.30462085,\n",
       "       10.47023268, 11.05705724, 11.42304527, 10.59941041, 18.65463048,\n",
       "       18.05371939,  6.0777628 ,  9.48416054,  6.75085615, 15.65187761,\n",
       "        4.82227792,  9.75395343, 21.84337354,  5.51768319, 19.69752784,\n",
       "        5.42348785, 10.89899245, 22.34801592, 22.22168113, 13.85638105,\n",
       "       22.72233061, 17.79618387, 28.25897909, 24.10734637, 22.83992712,\n",
       "       20.72198728, 24.68105688, 26.77382035, 31.41745228, 13.59044834,\n",
       "       32.57150614, 30.06139275, 21.14492295, 27.18098734, 33.70715947,\n",
       "       27.28144266, 24.9048914 , 25.33057704, 30.33186546, 22.06288042,\n",
       "       30.20772247, 35.82834547, 32.01029689, 19.58864843, 21.95086849,\n",
       "       32.6485352 , 21.76428309, 33.26315051, 35.86108481, 35.28999916,\n",
       "       40.98946968, 37.64274297, 34.27425089, 37.57875161, 37.69780526,\n",
       "       35.80757345, 42.92467341, 32.95721296, 38.54833261, 39.96439965,\n",
       "       32.90842256, 46.60320212, 36.25831977, 41.52033156, 45.27820647,\n",
       "       33.47303328, 42.1252281 , 51.03669418, 36.27394481, 47.27600698,\n",
       "       40.18224362, 47.37083415, 47.64805276, 34.95809475, 51.86055806,\n",
       "       51.61875463, 44.19811582, 39.88778101, 49.89676067, 38.84535187,\n",
       "       53.43006678, 56.42985554, 49.59201354, 49.71658397, 53.40282023])"
      ]
     },
     "execution_count": 8,
     "metadata": {},
     "output_type": "execute_result"
    }
   ],
   "source": [
    "y"
   ]
  },
  {
   "cell_type": "markdown",
   "metadata": {},
   "source": [
    "## 執行訓練"
   ]
  },
  {
   "cell_type": "code",
   "execution_count": 9,
   "metadata": {},
   "outputs": [
    {
     "name": "stdout",
     "output_type": "stream",
     "text": [
      "Epoch 0: Loss: 932.6534423828125\n",
      "Epoch 1: Loss: 652.1681518554688\n",
      "Epoch 2: Loss: 462.82940673828125\n",
      "Epoch 3: Loss: 335.0180358886719\n",
      "Epoch 4: Loss: 248.74017333984375\n",
      "Epoch 5: Loss: 190.4989776611328\n",
      "Epoch 6: Loss: 151.18360900878906\n",
      "Epoch 7: Loss: 124.64395141601562\n",
      "Epoch 8: Loss: 106.72840881347656\n",
      "Epoch 9: Loss: 94.63444519042969\n",
      "Epoch 10: Loss: 86.47028350830078\n",
      "Epoch 11: Loss: 80.95890045166016\n",
      "Epoch 12: Loss: 77.23823547363281\n",
      "Epoch 13: Loss: 74.72637176513672\n",
      "Epoch 14: Loss: 73.03050994873047\n",
      "Epoch 15: Loss: 71.8854751586914\n",
      "Epoch 16: Loss: 71.1122817993164\n",
      "Epoch 17: Loss: 70.59007263183594\n",
      "Epoch 18: Loss: 70.23729705810547\n",
      "Epoch 19: Loss: 69.99890899658203\n",
      "Epoch 20: Loss: 69.83772277832031\n",
      "Epoch 21: Loss: 69.7286605834961\n",
      "Epoch 22: Loss: 69.65476989746094\n",
      "Epoch 23: Loss: 69.6046371459961\n",
      "Epoch 24: Loss: 69.5705337524414\n",
      "Epoch 25: Loss: 69.54724884033203\n",
      "Epoch 26: Loss: 69.5312728881836\n",
      "Epoch 27: Loss: 69.52022552490234\n",
      "Epoch 28: Loss: 69.51250457763672\n",
      "Epoch 29: Loss: 69.50703430175781\n",
      "Epoch 30: Loss: 69.5030746459961\n",
      "Epoch 31: Loss: 69.50015258789062\n",
      "Epoch 32: Loss: 69.49791717529297\n",
      "Epoch 33: Loss: 69.49613952636719\n",
      "Epoch 34: Loss: 69.49468994140625\n",
      "Epoch 35: Loss: 69.49344635009766\n",
      "Epoch 36: Loss: 69.49234008789062\n",
      "Epoch 37: Loss: 69.49134826660156\n",
      "Epoch 38: Loss: 69.49040222167969\n",
      "Epoch 39: Loss: 69.48951721191406\n",
      "w=0.9826162457466125, b=0.03906125947833061\n"
     ]
    }
   ],
   "source": [
    "# w、b 初始值均設為 0\n",
    "w = tf.Variable(0.0)\n",
    "b = tf.Variable(0.0)\n",
    "\n",
    "# 執行訓練\n",
    "train(X, y)\n",
    "\n",
    "# w、b 的最佳解\n",
    "print(f'w={w.numpy()}, b={b.numpy()}')"
   ]
  },
  {
   "cell_type": "markdown",
   "metadata": {},
   "source": [
    "## 顯示迴歸線"
   ]
  },
  {
   "cell_type": "code",
   "execution_count": 10,
   "metadata": {},
   "outputs": [
    {
     "data": {
      "text/plain": [
       "<matplotlib.legend.Legend at 0x2263f45c560>"
      ]
     },
     "execution_count": 10,
     "metadata": {},
     "output_type": "execute_result"
    },
    {
     "data": {
      "image/png": "[encoded data removed]",
      "text/plain": [
       "<Figure size 640x480 with 1 Axes>"
      ]
     },
     "metadata": {},
     "output_type": "display_data"
    }
   ],
   "source": [
    "import matplotlib.pyplot as plt \n",
    "\n",
    "plt.scatter(X, y, label='data')\n",
    "plt.plot(X, predict(X), 'r-', label='predicted')\n",
    "plt.legend()"
   ]
  },
  {
   "cell_type": "code",
   "execution_count": null,
   "metadata": {},
   "outputs": [],
   "source": []
  }
 ],
 "metadata": {
  "kernelspec": {
   "display_name": "Python 3 (ipykernel)",
   "language": "python",
   "name": "python3"
  },
  "language_info": {
   "codemirror_mode": {
    "name": "ipython",
    "version": 3
   },
   "file_extension": ".py",
   "mimetype": "text/x-python",
   "name": "python",
   "nbconvert_exporter": "python",
   "pygments_lexer": "ipython3",
   "version": "3.12.7"
  }
 },
 "nbformat": 4,
 "nbformat_minor": 4
}
