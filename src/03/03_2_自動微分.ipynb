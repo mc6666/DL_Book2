{
 "cells": [
  {
   "cell_type": "markdown",
   "metadata": {},
   "source": [
    "## 自動微分(Automatic Differentiation)"
   ]
  },
  {
   "cell_type": "code",
   "execution_count": 1,
   "metadata": {},
   "outputs": [
    {
     "name": "stdout",
     "output_type": "stream",
     "text": [
      "6.0\n"
     ]
    }
   ],
   "source": [
    "import numpy as np \n",
    "import tensorflow as tf \n",
    "\n",
    "x = tf.Variable(3.0)         # 宣告 TensorFlow 變數(Variable)\n",
    "\n",
    "with tf.GradientTape() as g: # 自動微分\n",
    "    y = x * x                # y = x^2\n",
    "    \n",
    "dy_dx = g.gradient(y, x)     # 取得梯度， f'(x) = 2x, x=3 ==> 6\n",
    "\n",
    "print(dy_dx.numpy())         # 轉換為 NumPy array 格式"
   ]
  },
  {
   "cell_type": "code",
   "execution_count": 2,
   "metadata": {},
   "outputs": [
    {
     "name": "stdout",
     "output_type": "stream",
     "text": [
      "6.0\n"
     ]
    }
   ],
   "source": [
    "import numpy as np \n",
    "import tensorflow as tf \n",
    "\n",
    "x = tf.constant(3.0)         # 宣告 TensorFlow 常數\n",
    "\n",
    "with tf.GradientTape() as g: # 自動微分\n",
    "    g.watch(x)               # 設定常數參與自動微分\n",
    "    y = x * x                # y = x^2\n",
    "    \n",
    "dy_dx = g.gradient(y, x)     # 取得梯度， f'(x) = 2x, x=3 ==> 6\n",
    "\n",
    "print(dy_dx.numpy())         # 轉換為 NumPy array 格式"
   ]
  },
  {
   "cell_type": "markdown",
   "metadata": {},
   "source": [
    "## 二階導數計算"
   ]
  },
  {
   "cell_type": "code",
   "execution_count": 3,
   "metadata": {},
   "outputs": [
    {
     "name": "stdout",
     "output_type": "stream",
     "text": [
      "一階導數=6.0, 二階導數=2.0\n"
     ]
    }
   ],
   "source": [
    "x = tf.constant(3.0)              # 宣告 TensorFlow 常數\n",
    "with tf.GradientTape() as g:      # 自動微分\n",
    "    g.watch(x)\n",
    "    with tf.GradientTape() as gg: # 自動微分\n",
    "        gg.watch(x)               # 設定常數參與自動微分\n",
    "        y = x * x                 # y = x^2\n",
    "        \n",
    "    dy_dx = gg.gradient(y, x)     # 一階導數\n",
    "d2y_dx2 = g.gradient(dy_dx, x)    # 二階導數\n",
    "\n",
    "print(f'一階導數={dy_dx.numpy()}, 二階導數={d2y_dx2.numpy()}') "
   ]
  },
  {
   "cell_type": "markdown",
   "metadata": {},
   "source": [
    "## 多變數導數計算"
   ]
  },
  {
   "cell_type": "code",
   "execution_count": 4,
   "metadata": {},
   "outputs": [
    {
     "name": "stdout",
     "output_type": "stream",
     "text": [
      "dy/dx=6.0, dz/dx=108.0\n"
     ]
    }
   ],
   "source": [
    "x = tf.Variable(3.0)          # 宣告 TensorFlow 常數\n",
    "with tf.GradientTape(persistent=True) as g:  # 自動微分\n",
    "    y = x * x                 # y = x^2\n",
    "    z = y * y                 # z = y^2\n",
    "    \n",
    "dz_dx = g.gradient(z, x)      # 4*x^3\n",
    "dy_dx = g.gradient(y, x)      # 2*x\n",
    "\n",
    "del g                         # 不用時可刪除 GradientTape 物件\n",
    "\n",
    "print(f'dy/dx={dy_dx.numpy()}, dz/dx={dz_dx.numpy()}') "
   ]
  },
  {
   "cell_type": "markdown",
   "metadata": {},
   "source": [
    "## PyTorch自動微分的語法"
   ]
  },
  {
   "cell_type": "code",
   "execution_count": 5,
   "metadata": {},
   "outputs": [
    {
     "name": "stdout",
     "output_type": "stream",
     "text": [
      "tensor(6.)\n"
     ]
    }
   ],
   "source": [
    "import torch       # 載入套件\n",
    "\n",
    "x = torch.tensor(3.0, requires_grad=True)  # 設定 x 參與自動微分\n",
    "y=x*x              # y = x^2\n",
    "\n",
    "y.backward()       # 反向傳導\n",
    "\n",
    "print(x.grad)      # 取得梯度"
   ]
  },
  {
   "cell_type": "code",
   "execution_count": null,
   "metadata": {},
   "outputs": [],
   "source": []
  }
 ],
 "metadata": {
  "kernelspec": {
   "display_name": "Python 3 (ipykernel)",
   "language": "python",
   "name": "python3"
  },
  "language_info": {
   "codemirror_mode": {
    "name": "ipython",
    "version": 3
   },
   "file_extension": ".py",
   "mimetype": "text/x-python",
   "name": "python",
   "nbconvert_exporter": "python",
   "pygments_lexer": "ipython3",
   "version": "3.12.3"
  }
 },
 "nbformat": 4,
 "nbformat_minor": 4
}
