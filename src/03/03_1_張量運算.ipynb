{
 "cells": [
  {
   "cell_type": "code",
   "execution_count": 2,
   "metadata": {
    "colab": {
     "base_uri": "https://localhost:8080/",
     "height": 34
    },
    "colab_type": "code",
    "executionInfo": {
     "elapsed": 2359,
     "status": "ok",
     "timestamp": 1589555229866,
     "user": {
      "displayName": "Michael Chen",
      "photoUrl": "https://lh6.googleusercontent.com/-TON9A5EF6jQ/AAAAAAAAAAI/AAAAAAAAAS4/HJIu8CBlqXg/s64/photo.jpg",
      "userId": "08537850099549646899"
     },
     "user_tz": -480
    },
    "id": "Cqe7bDRVnJuK",
    "outputId": "e1fbb20f-01cf-4126-93c6-8598f15a65ac",
    "scrolled": true
   },
   "outputs": [
    {
     "name": "stdout",
     "output_type": "stream",
     "text": [
      "2.18.0\n"
     ]
    }
   ],
   "source": [
    "# 載入套件\n",
    "import tensorflow as tf\n",
    "\n",
    "# 顯示版本\n",
    "print(tf.__version__)"
   ]
  },
  {
   "cell_type": "markdown",
   "metadata": {},
   "source": [
    "## 檢查 GPU 是否存在"
   ]
  },
  {
   "cell_type": "code",
   "execution_count": 3,
   "metadata": {},
   "outputs": [
    {
     "data": {
      "text/plain": [
       "[]"
      ]
     },
     "execution_count": 3,
     "metadata": {},
     "output_type": "execute_result"
    }
   ],
   "source": [
    "# check cuda available\n",
    "tf.config.list_physical_devices('GPU')"
   ]
  },
  {
   "cell_type": "markdown",
   "metadata": {},
   "source": [
    "## 宣告 tensor 常數(constant)，參數可以是常數、list、numpy array"
   ]
  },
  {
   "cell_type": "code",
   "execution_count": 4,
   "metadata": {
    "colab": {},
    "colab_type": "code",
    "id": "x4swMa9XnMn_"
   },
   "outputs": [],
   "source": [
    "# 宣告常數(constant)，參數可以是常數、list、numpy array\n",
    "x = tf.constant([[1, 2]])"
   ]
  },
  {
   "cell_type": "markdown",
   "metadata": {},
   "source": [
    "## 以四則運算符號計算"
   ]
  },
  {
   "cell_type": "code",
   "execution_count": 5,
   "metadata": {},
   "outputs": [
    {
     "name": "stdout",
     "output_type": "stream",
     "text": [
      "tf.Tensor([[11 12]], shape=(1, 2), dtype=int32)\n",
      "tf.Tensor([[-9 -8]], shape=(1, 2), dtype=int32)\n",
      "tf.Tensor([[2 4]], shape=(1, 2), dtype=int32)\n",
      "tf.Tensor([[0.5 1. ]], shape=(1, 2), dtype=float64)\n"
     ]
    }
   ],
   "source": [
    "print(x+10)\n",
    "print(x-10)\n",
    "print(x*2)\n",
    "print(x/2)"
   ]
  },
  {
   "cell_type": "code",
   "execution_count": 6,
   "metadata": {},
   "outputs": [
    {
     "data": {
      "text/plain": [
       "array([[11, 12]])"
      ]
     },
     "execution_count": 6,
     "metadata": {},
     "output_type": "execute_result"
    }
   ],
   "source": [
    "# 轉換為 NumPy Array\n",
    "(x+10).numpy()"
   ]
  },
  {
   "cell_type": "code",
   "execution_count": 6,
   "metadata": {
    "colab": {
     "base_uri": "https://localhost:8080/",
     "height": 34
    },
    "colab_type": "code",
    "executionInfo": {
     "elapsed": 663,
     "status": "ok",
     "timestamp": 1589555233813,
     "user": {
      "displayName": "Michael Chen",
      "photoUrl": "https://lh6.googleusercontent.com/-TON9A5EF6jQ/AAAAAAAAAAI/AAAAAAAAAS4/HJIu8CBlqXg/s64/photo.jpg",
      "userId": "08537850099549646899"
     },
     "user_tz": -480
    },
    "id": "_41ETIDunkMe",
    "outputId": "bb74f2ed-2b5d-47ac-ea4a-2a9578d9af05"
   },
   "outputs": [
    {
     "data": {
      "text/plain": [
       "numpy.ndarray"
      ]
     },
     "execution_count": 6,
     "metadata": {},
     "output_type": "execute_result"
    }
   ],
   "source": [
    "type(x.numpy())"
   ]
  },
  {
   "cell_type": "markdown",
   "metadata": {},
   "source": [
    "## 使用 TensorFlow 函數"
   ]
  },
  {
   "cell_type": "code",
   "execution_count": 7,
   "metadata": {},
   "outputs": [
    {
     "name": "stdout",
     "output_type": "stream",
     "text": [
      "tf.Tensor([[-1 -2]], shape=(1, 2), dtype=int32)\n",
      "tf.Tensor(3, shape=(), dtype=int32)\n",
      "tf.Tensor([4 6], shape=(2,), dtype=int32)\n",
      "tf.Tensor(25, shape=(), dtype=int32)\n",
      "tf.Tensor(6, shape=(), dtype=int32)\n",
      "tf.Tensor(13, shape=(), dtype=int32)\n"
     ]
    }
   ],
   "source": [
    "# 轉為負數\n",
    "print(tf.negative(x))\n",
    "\n",
    "# 常數、List、Numpy array 均可運算\n",
    "print(tf.add(1, 2))\n",
    "print(tf.add([1, 2], [3, 4]))\n",
    "\n",
    "print(tf.square(5))\n",
    "print(tf.reduce_sum([1, 2, 3]))\n",
    "\n",
    "# 混用四則運算符號及TensorFlow 函數\n",
    "print(tf.square(2) + tf.square(3))"
   ]
  },
  {
   "cell_type": "markdown",
   "metadata": {},
   "source": [
    "## TensorFlow 會自動決定在 cpu or gpu 運算"
   ]
  },
  {
   "cell_type": "code",
   "execution_count": 8,
   "metadata": {
    "scrolled": true
   },
   "outputs": [
    {
     "name": "stdout",
     "output_type": "stream",
     "text": [
      "x1 是否在 GPU #0 上:   False\n",
      "x2 是否在 GPU #0 上:   False\n",
      "x3 是否在 GPU #0 上:   False\n"
     ]
    }
   ],
   "source": [
    "x1 = tf.constant([[1, 2, 3]], dtype=float)\n",
    "print(\"x1 是否在 GPU #0 上:  \", x1.device.endswith('GPU:0'))\n",
    "\n",
    "# 設定 x 為均勻分配亂數 3x3\n",
    "x2 = tf.random.uniform([3, 3])\n",
    "print(\"x2 是否在 GPU #0 上:  \", x2.device.endswith('GPU:0'))\n",
    "\n",
    "x3=x1+x2\n",
    "print(\"x3 是否在 GPU #0 上:  \", x3.device.endswith('GPU:0'))"
   ]
  },
  {
   "cell_type": "markdown",
   "metadata": {},
   "source": [
    "## 強制指定在cpu或gpu運算"
   ]
  },
  {
   "cell_type": "code",
   "execution_count": 9,
   "metadata": {},
   "outputs": [
    {
     "name": "stdout",
     "output_type": "stream",
     "text": [
      "On CPU:96.00ms\n"
     ]
    }
   ],
   "source": [
    "import time\n",
    "\n",
    "# 計算 10 次的時間\n",
    "def time_matmul(x):\n",
    "    start = time.time()\n",
    "    for loop in range(10):\n",
    "        tf.matmul(x, x)\n",
    "\n",
    "    result = time.time()-start\n",
    "    print(\"{:0.2f}ms\".format(1000*result))\n",
    "\n",
    "# 強制指定在cpu運算\n",
    "print(\"On CPU:\", end='')\n",
    "with tf.device(\"CPU:0\"):\n",
    "    x = tf.random.uniform([1000, 1000])\n",
    "    assert x.device.endswith(\"CPU:0\")\n",
    "    time_matmul(x)\n",
    "\n",
    "# 強制指定在gpu運算\n",
    "if tf.config.list_physical_devices(\"GPU\"):\n",
    "    print(\"On GPU:\", end='')\n",
    "    with tf.device(\"GPU:0\"): \n",
    "        x = tf.random.uniform([1000, 1000])\n",
    "        assert x.device.endswith(\"GPU:0\")\n",
    "        time_matmul(x)"
   ]
  },
  {
   "cell_type": "markdown",
   "metadata": {},
   "source": [
    "## 稀疏矩陣(sparse matrix)"
   ]
  },
  {
   "cell_type": "code",
   "execution_count": 12,
   "metadata": {},
   "outputs": [
    {
     "data": {
      "image/png": "[encoded data removed]",
      "text/plain": [
       "<IPython.core.display.Image object>"
      ]
     },
     "execution_count": 12,
     "metadata": {},
     "output_type": "execute_result"
    }
   ],
   "source": [
    "from IPython.display import Image\n",
    "Image('./images/sparse matrix.png')"
   ]
  },
  {
   "cell_type": "code",
   "execution_count": 13,
   "metadata": {},
   "outputs": [
    {
     "name": "stdout",
     "output_type": "stream",
     "text": [
      "SparseTensor(indices=tf.Tensor(\n",
      "[[0 0]\n",
      " [1 2]], shape=(2, 2), dtype=int64), values=tf.Tensor([1 2], shape=(2,), dtype=int32), dense_shape=tf.Tensor([3 4], shape=(2,), dtype=int64))\n"
     ]
    }
   ],
   "source": [
    "# 稀疏矩陣只需設定有值的位置及數值\n",
    "sparse_tensor = tf.sparse.SparseTensor(indices=[[0, 0], [1, 2]],\n",
    "                                       values=[1, 2],\n",
    "                                       dense_shape=[3, 4])\n",
    "print(sparse_tensor)"
   ]
  },
  {
   "cell_type": "code",
   "execution_count": 14,
   "metadata": {},
   "outputs": [
    {
     "name": "stdout",
     "output_type": "stream",
     "text": [
      "<class 'tensorflow.python.framework.ops.EagerTensor'>\n"
     ]
    },
    {
     "data": {
      "text/plain": [
       "array([[1, 0, 0, 0],\n",
       "       [0, 0, 2, 0],\n",
       "       [0, 0, 0, 0]])"
      ]
     },
     "execution_count": 14,
     "metadata": {},
     "output_type": "execute_result"
    }
   ],
   "source": [
    "# 轉為正常的矩陣格式\n",
    "x = tf.sparse.to_dense(sparse_tensor)\n",
    "print(type(x))\n",
    "\n",
    "# 2.31 以前版本會出錯\n",
    "x.numpy()"
   ]
  },
  {
   "cell_type": "markdown",
   "metadata": {},
   "source": [
    "## 回歸 TF 1.x 版 Graph Execution Mode"
   ]
  },
  {
   "cell_type": "code",
   "execution_count": 15,
   "metadata": {
    "colab": {
     "base_uri": "https://localhost:8080/",
     "height": 87
    },
    "colab_type": "code",
    "executionInfo": {
     "elapsed": 770,
     "status": "ok",
     "timestamp": 1589555243335,
     "user": {
      "displayName": "Michael Chen",
      "photoUrl": "https://lh6.googleusercontent.com/-TON9A5EF6jQ/AAAAAAAAAAI/AAAAAAAAAS4/HJIu8CBlqXg/s64/photo.jpg",
      "userId": "08537850099549646899"
     },
     "user_tz": -480
    },
    "id": "VfcB-umQn79k",
    "outputId": "60c49364-d0b3-4fe9-93b0-964d920dda8c"
   },
   "outputs": [
    {
     "name": "stdout",
     "output_type": "stream",
     "text": [
      "WARNING:tensorflow:From C:\\WINDOWS\\Temp\\ipykernel_6680\\1639386238.py:3: The name tf.disable_v2_behavior is deprecated. Please use tf.compat.v1.disable_v2_behavior instead.\n",
      "\n",
      "WARNING:tensorflow:From C:\\Users\\mikec\\anaconda3\\Lib\\site-packages\\tensorflow\\python\\compat\\v2_compat.py:98: disable_resource_variables (from tensorflow.python.ops.resource_variables_toggle) is deprecated and will be removed in a future version.\n",
      "Instructions for updating:\n",
      "non-resource variables are not supported in the long term\n"
     ]
    }
   ],
   "source": [
    "if tf.__version__[0] != '1':           # 是否為 TensorFlow 1.x版\n",
    "    import tensorflow.compat.v1 as tf  # 改變載入套件的命名空間(Namespace)\n",
    "    tf.disable_v2_behavior()           # 使 2.x 版功能失效(Disable)"
   ]
  },
  {
   "cell_type": "code",
   "execution_count": 16,
   "metadata": {
    "colab": {
     "base_uri": "https://localhost:8080/",
     "height": 34
    },
    "colab_type": "code",
    "executionInfo": {
     "elapsed": 696,
     "status": "ok",
     "timestamp": 1589555245892,
     "user": {
      "displayName": "Michael Chen",
      "photoUrl": "https://lh6.googleusercontent.com/-TON9A5EF6jQ/AAAAAAAAAAI/AAAAAAAAAS4/HJIu8CBlqXg/s64/photo.jpg",
      "userId": "08537850099549646899"
     },
     "user_tz": -480
    },
    "id": "eTGjPHFnnW83",
    "outputId": "2cc47013-73fa-4bd1-9b30-715d640596ee"
   },
   "outputs": [
    {
     "name": "stdout",
     "output_type": "stream",
     "text": [
      "[[-1 -2]]\n"
     ]
    }
   ],
   "source": [
    "# 測試1.x版程式\n",
    "x = tf.constant([[1, 2]])\n",
    "neg_x = tf.negative(x)\n",
    "\n",
    "with tf.Session() as sess:   # 使用 session\n",
    "    result = sess.run(neg_x)\n",
    "    print(result)"
   ]
  },
  {
   "cell_type": "markdown",
   "metadata": {},
   "source": [
    "## GPU記憶體管理"
   ]
  },
  {
   "cell_type": "code",
   "execution_count": 3,
   "metadata": {
    "colab": {},
    "colab_type": "code",
    "id": "vmbeqza0nbf_"
   },
   "outputs": [
    {
     "name": "stdout",
     "output_type": "stream",
     "text": [
      "1 Physical GPUs, 1 Logical GPUs\n"
     ]
    }
   ],
   "source": [
    "# 限制 TensorFlow 只能使用 GPU 2GB 記憶體\n",
    "gpus = tf.config.experimental.list_physical_devices('GPU')\n",
    "if gpus:    \n",
    "    try:\n",
    "        # 限制 第一顆 GPU 只能使用 2GB 記憶體\n",
    "        tf.config.experimental.set_virtual_device_configuration(gpus[0],\n",
    "            [tf.config.experimental.VirtualDeviceConfiguration(memory_limit=1024*2)])\n",
    "        \n",
    "        # 顯示 GPU 個數\n",
    "        logical_gpus = tf.config.experimental.list_logical_devices('GPU')\n",
    "        print(len(gpus), \"Physical GPUs,\", len(logical_gpus), \"Logical GPUs\")\n",
    "    except RuntimeError as e:\n",
    "        # 顯示錯誤訊息\n",
    "        print(e)"
   ]
  },
  {
   "cell_type": "markdown",
   "metadata": {},
   "source": [
    "## Disable GPU"
   ]
  },
  {
   "cell_type": "code",
   "execution_count": 17,
   "metadata": {},
   "outputs": [],
   "source": [
    "import os\n",
    "\n",
    "os.environ[\"CUDA_VISIBLE_DEVICES\"] = \"-1\""
   ]
  },
  {
   "cell_type": "code",
   "execution_count": null,
   "metadata": {},
   "outputs": [],
   "source": []
  }
 ],
 "metadata": {
  "colab": {
   "collapsed_sections": [],
   "name": "TF2_Basics.ipynb",
   "provenance": []
  },
  "kernelspec": {
   "display_name": "Python 3 (ipykernel)",
   "language": "python",
   "name": "python3"
  },
  "language_info": {
   "codemirror_mode": {
    "name": "ipython",
    "version": 3
   },
   "file_extension": ".py",
   "mimetype": "text/x-python",
   "name": "python",
   "nbconvert_exporter": "python",
   "pygments_lexer": "ipython3",
   "version": "3.12.7"
  }
 },
 "nbformat": 4,
 "nbformat_minor": 4
}
