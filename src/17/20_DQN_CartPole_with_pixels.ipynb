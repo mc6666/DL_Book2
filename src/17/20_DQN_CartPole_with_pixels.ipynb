{
 "cells": [
  {
   "cell_type": "markdown",
   "id": "423bbd61-2697-4745-a918-904ec378cca1",
   "metadata": {},
   "source": [
    "# 以螢幕畫面的所有像素為狀態值，採用Deep Q-Learning演算法求解木棒台車"
   ]
  },
  {
   "cell_type": "markdown",
   "id": "70ec410a-399a-4d52-ab58-7c0f793fabdf",
   "metadata": {},
   "source": [
    "## 載入套件"
   ]
  },
  {
   "cell_type": "code",
   "execution_count": 1,
   "id": "4c341504-c1c7-4e35-90c3-0a450ca8cc5b",
   "metadata": {},
   "outputs": [],
   "source": [
    "import gymnasium as gym\n",
    "import torch\n",
    "import torch.nn as nn\n",
    "import torch.optim as optim\n",
    "import random\n",
    "import numpy as np\n",
    "from collections import deque\n",
    "from PIL import Image\n",
    "import torch.nn.functional as F\n",
    "import torchvision.transforms as T"
   ]
  },
  {
   "cell_type": "markdown",
   "id": "4ffa813c-8159-429e-a312-7ea8341c5e97",
   "metadata": {},
   "source": [
    "## 載入木棒台車遊戲"
   ]
  },
  {
   "cell_type": "code",
   "execution_count": 2,
   "id": "4ae52ef0-795b-437e-a0ef-af1fcfc93fb9",
   "metadata": {},
   "outputs": [],
   "source": [
    "env = gym.make(\"CartPole-v1\", render_mode='rgb_array')"
   ]
  },
  {
   "cell_type": "markdown",
   "id": "5699e0bb-f704-43d2-bbfb-cfcd0408aaa6",
   "metadata": {},
   "source": [
    "## 畫面轉換測試"
   ]
  },
  {
   "cell_type": "code",
   "execution_count": 3,
   "id": "39479440-7d7e-4628-8ec2-9ec66ed61e10",
   "metadata": {},
   "outputs": [],
   "source": [
    "state, info = env.reset()\n",
    "img = Image.fromarray(env.render())\n",
    "img.show()"
   ]
  },
  {
   "cell_type": "code",
   "execution_count": 4,
   "id": "89020f48-4917-4fd5-8b55-6ce07a38e75b",
   "metadata": {},
   "outputs": [
    {
     "data": {
      "text/plain": [
       "(400, 600, 3)"
      ]
     },
     "execution_count": 4,
     "metadata": {},
     "output_type": "execute_result"
    }
   ],
   "source": [
    "env.render().shape"
   ]
  },
  {
   "cell_type": "code",
   "execution_count": 5,
   "id": "69eed2d1-2012-4b35-96b4-16a90add722c",
   "metadata": {},
   "outputs": [
    {
     "data": {
      "text/plain": [
       "(3, 400, 600)"
      ]
     },
     "execution_count": 5,
     "metadata": {},
     "output_type": "execute_result"
    }
   ],
   "source": [
    "env.render().transpose(2, 0, 1).shape"
   ]
  },
  {
   "cell_type": "code",
   "execution_count": 6,
   "id": "dc30d23e-678a-4d34-b9c5-48282c3bc953",
   "metadata": {},
   "outputs": [
    {
     "data": {
      "text/plain": [
       "(60, 90)"
      ]
     },
     "execution_count": 6,
     "metadata": {},
     "output_type": "execute_result"
    }
   ],
   "source": [
    "transforms = T.Compose([T.ToPILImage(),\n",
    "                T.Resize(60),\n",
    "                T.Grayscale(),\n",
    "                ])\n",
    "img = transforms(env.render())\n",
    "# print(data.shape)\n",
    "# img = Image.fromarray(data, 'L') #.squeeze().numpy())\n",
    "img.show()\n",
    "np.array(img).shape"
   ]
  },
  {
   "cell_type": "code",
   "execution_count": 7,
   "id": "ae8d0811-b9c5-4945-96bd-351d66f06371",
   "metadata": {},
   "outputs": [],
   "source": [
    "# not work for T.ToTensor transformation\n",
    "# transforms = T.Compose([T.ToPILImage(),\n",
    "#                 T.Resize(60),\n",
    "#                 T.Grayscale(),\n",
    "#                 T.ToTensor()])\n",
    "# data = transforms(env.render())\n",
    "# data = data.reshape(*data.shape[1:])\n",
    "# print(data.shape)\n",
    "# img = Image.fromarray(data.numpy())\n",
    "# img.show()"
   ]
  },
  {
   "cell_type": "markdown",
   "id": "6e0b698a-5842-4589-96c2-9731c4df729d",
   "metadata": {},
   "source": [
    "## 定義神經網路模型"
   ]
  },
  {
   "cell_type": "code",
   "execution_count": 8,
   "id": "0ff0885b-1c30-495d-aeb1-16c504af9fb8",
   "metadata": {},
   "outputs": [],
   "source": [
    "# ---- CONVOLUTIONAL NEURAL NETWORK ----\n",
    "device = torch.device(\"cuda\" if torch.cuda.is_available() else \"cpu\")\n",
    "nn_inputs =  1 # number of channels for the nn\n",
    "HIDDEN_LAYER_1 = 64\n",
    "HIDDEN_LAYER_2 = 64 \n",
    "HIDDEN_LAYER_3 = 32\n",
    "KERNEL_SIZE = 5 # original = 5\n",
    "STRIDE = 2 # original = 2\n",
    "\n",
    "class DQN(nn.Module):\n",
    "    def __init__(self, h, w, outputs):\n",
    "        super(DQN, self).__init__()\n",
    "        self.conv1 = nn.Conv2d(nn_inputs, HIDDEN_LAYER_1, kernel_size=KERNEL_SIZE, stride=STRIDE) \n",
    "        self.bn1 = nn.BatchNorm2d(HIDDEN_LAYER_1)\n",
    "        self.conv2 = nn.Conv2d(HIDDEN_LAYER_1, HIDDEN_LAYER_2, kernel_size=KERNEL_SIZE, stride=STRIDE)\n",
    "        self.bn2 = nn.BatchNorm2d(HIDDEN_LAYER_2)\n",
    "        self.conv3 = nn.Conv2d(HIDDEN_LAYER_2, HIDDEN_LAYER_3, kernel_size=KERNEL_SIZE, stride=STRIDE)\n",
    "        self.bn3 = nn.BatchNorm2d(HIDDEN_LAYER_3)\n",
    "        # Number of Linear input connections depends on output of conv2d layers\n",
    "        # and therefore the input image size, so compute it.\n",
    "        def conv2d_size_out(size, kernel_size = KERNEL_SIZE, stride = STRIDE):\n",
    "            return (size - (kernel_size - 1) - 1) // stride  + 1\n",
    "        convw = conv2d_size_out(conv2d_size_out(conv2d_size_out(w)))\n",
    "        convh = conv2d_size_out(conv2d_size_out(conv2d_size_out(h)))\n",
    "        linear_input_size = convw * convh * 32\n",
    "        nn.Dropout()\n",
    "        self.head = nn.Linear(linear_input_size, outputs)\n",
    "\n",
    "    # Called with either one element to determine next action, or a batch\n",
    "    # during optimization. Returns tensor([[left0exp,right0exp]...]).\n",
    "    def forward(self, x):\n",
    "        x = F.relu(self.bn1(self.conv1(x)))\n",
    "        x = F.relu(self.bn2(self.conv2(x)))\n",
    "        x = F.relu(self.bn3(self.conv3(x)))\n",
    "        return self.head(x.view(x.size(0), -1))"
   ]
  },
  {
   "cell_type": "markdown",
   "id": "59217bca-10fa-47af-9105-6c23291fa560",
   "metadata": {},
   "source": [
    "## 超參數設定"
   ]
  },
  {
   "cell_type": "code",
   "execution_count": 9,
   "id": "0548226d-70ed-4da7-b827-d0c836ee94d6",
   "metadata": {},
   "outputs": [],
   "source": [
    "learning_rate = 0.001 # 學習率\n",
    "gamma = 0.99  # 折扣率\n",
    "epsilon = 1.0 # ε-greedy的ε\n",
    "epsilon_min = 0.01 # ε 最小值\n",
    "epsilon_decay = 0.995 # 衰退率\n",
    "batch_size = 64 # 訓練批量\n",
    "target_update_freq = 100  # 模型權重複製頻率\n",
    "memory_size = 10000 # 緩衝區大小\n",
    "episodes = 5000 # 回合數"
   ]
  },
  {
   "cell_type": "markdown",
   "id": "fb6b9c49-b88f-43f0-8729-0d4dc1759b8b",
   "metadata": {},
   "source": [
    "## 設定螢幕轉單色及縮小尺寸"
   ]
  },
  {
   "cell_type": "code",
   "execution_count": 10,
   "id": "86b401f7-da0e-49b7-9d91-b47a9bf989ee",
   "metadata": {},
   "outputs": [],
   "source": [
    "RESIZE_PIXELS = 60 # Downsample image to this number of pixels\n",
    "transforms = T.Compose([T.ToPILImage(),\n",
    "                T.Resize(RESIZE_PIXELS),\n",
    "                T.Grayscale(),\n",
    "                # T.ToTensor()\n",
    "               ])\n",
    "\n",
    "def get_screen(screen):\n",
    "    # screen = screen.transpose(2, 0, 1)\n",
    "    # screen = screen.astype(np.float32) / 255\n",
    "    # screen = np.ascontiguousarray(screen, dtype=np.float32) #/ 255\n",
    "    # screen = torch.from_numpy(screen)\n",
    "    # Resize, and add a batch dimension (BCHW)\n",
    "    img = transforms(screen)\n",
    "    new_screen = np.array(img).astype(np.float32) / 255\n",
    "    new_screen = torch.from_numpy(new_screen).unsqueeze(0)\n",
    "    return new_screen #.reshape(new_screen.shape[2], new_screen.shape[0], new_screen.shape[1]) "
   ]
  },
  {
   "cell_type": "code",
   "execution_count": 11,
   "id": "fd69ecfb-dcfe-4c6b-abf2-eda4ebe38817",
   "metadata": {},
   "outputs": [
    {
     "data": {
      "text/plain": [
       "torch.Size([1, 60, 90])"
      ]
     },
     "execution_count": 11,
     "metadata": {},
     "output_type": "execute_result"
    }
   ],
   "source": [
    "screen = get_screen(env.render())\n",
    "screen.shape"
   ]
  },
  {
   "cell_type": "markdown",
   "id": "748ac1b0-1eb1-43b7-8dc8-6df9b93a950c",
   "metadata": {},
   "source": [
    "## 建立策略(policy)及目標(target)2個Q-network"
   ]
  },
  {
   "cell_type": "code",
   "execution_count": 12,
   "id": "b76893c7-50da-4be0-9dd2-23aff5b3e0b3",
   "metadata": {},
   "outputs": [
    {
     "name": "stdout",
     "output_type": "stream",
     "text": [
      "torch.Size([1, 60, 90])\n"
     ]
    }
   ],
   "source": [
    "state, info = env.reset()\n",
    "screen = get_screen(env.render())\n",
    "print(screen.shape)\n",
    "color, height, width = screen.shape\n",
    "# height, width = RESIZE_PIXELS, int(RESIZE_PIXELS * (width / height)) \n",
    "input_dim = env.observation_space.shape[0]\n",
    "output_dim = env.action_space.n\n",
    "policy_net = DQN(height, width, output_dim).to(device)\n",
    "target_net = DQN(height, width, output_dim).to(device)\n",
    "target_net.load_state_dict(policy_net.state_dict())\n",
    "target_net.eval()\n",
    "optimizer = optim.Adam(policy_net.parameters(), lr=learning_rate)"
   ]
  },
  {
   "cell_type": "markdown",
   "id": "0fcedb80-f2d3-4df7-a072-aab8007cf170",
   "metadata": {},
   "source": [
    "## 建立 Experience Replay Memory"
   ]
  },
  {
   "cell_type": "code",
   "execution_count": 13,
   "id": "c2921564-2981-435d-8ea4-aedbe9c0bf7a",
   "metadata": {},
   "outputs": [],
   "source": [
    "memory = deque(maxlen=memory_size)"
   ]
  },
  {
   "cell_type": "markdown",
   "id": "2286d256-11a3-4fda-bd44-6da35a7324bf",
   "metadata": {},
   "source": [
    "## 定義行動選擇的函數"
   ]
  },
  {
   "cell_type": "code",
   "execution_count": 14,
   "id": "24bebca3-13c7-4f88-9692-5cd7f371b8e1",
   "metadata": {},
   "outputs": [],
   "source": [
    "# Function to choose action using epsilon-greedy policy\n",
    "def select_action(state, epsilon):\n",
    "    if random.random() < epsilon:\n",
    "        return env.action_space.sample()  # Explore\n",
    "    else:\n",
    "        state = torch.FloatTensor(state.cpu()).unsqueeze(0).to(device)\n",
    "        q_values = policy_net(state)\n",
    "        return torch.argmax(q_values).item()  # Exploit"
   ]
  },
  {
   "cell_type": "markdown",
   "id": "348ee13f-4cde-4fda-9e99-d5beed86d163",
   "metadata": {},
   "source": [
    "## 定義模型訓練的函數"
   ]
  },
  {
   "cell_type": "code",
   "execution_count": 15,
   "id": "a8a307ac-a5c9-4358-8d92-f18d504aee1e",
   "metadata": {},
   "outputs": [],
   "source": [
    "def optimize_model():\n",
    "    if len(memory) < batch_size:\n",
    "        return\n",
    "\n",
    "    # 自Experience Replay Memory抽樣\n",
    "    batch = random.sample(memory, batch_size)\n",
    "    state_batch, action_batch, reward_batch, next_state_batch, done_batch = zip(*batch)\n",
    "    state_batch = torch.FloatTensor(np.array(state_batch)).to(device)\n",
    "    action_batch = torch.LongTensor(action_batch).unsqueeze(1).to(device)\n",
    "    reward_batch = torch.FloatTensor(reward_batch).to(device)\n",
    "    next_state_batch = torch.FloatTensor(np.array(next_state_batch)).to(device)\n",
    "    done_batch = torch.FloatTensor(done_batch).to(device)\n",
    "\n",
    "    # 計算 Q-values for current states\n",
    "    q_values = policy_net(state_batch).gather(1, action_batch).squeeze()\n",
    "\n",
    "    # 計算  target Q-values using the target network\n",
    "    with torch.no_grad():\n",
    "        max_next_q_values = target_net(next_state_batch).max(1)[0]\n",
    "        target_q_values = reward_batch + gamma * max_next_q_values * (1 - done_batch)\n",
    "\n",
    "    # 模型訓練\n",
    "    loss = nn.MSELoss()(q_values, target_q_values)\n",
    "    optimizer.zero_grad()\n",
    "    loss.backward()\n",
    "    optimizer.step()"
   ]
  },
  {
   "cell_type": "markdown",
   "id": "f1f30127-9f94-4f88-9748-e95a7c291ffc",
   "metadata": {},
   "source": [
    "## 模型訓練"
   ]
  },
  {
   "cell_type": "code",
   "execution_count": 16,
   "id": "9428b2a1-46ae-473c-808f-a04b35e9839e",
   "metadata": {},
   "outputs": [
    {
     "name": "stdout",
     "output_type": "stream",
     "text": [
      "完成 1 / 10 回合\n",
      "完成 2 / 10 回合\n",
      "完成 3 / 10 回合\n"
     ]
    },
    {
     "ename": "TypeError",
     "evalue": "cat(): argument 'tensors' (position 1) must be tuple of Tensors, not Tensor",
     "output_type": "error",
     "traceback": [
      "\u001b[1;31m---------------------------------------------------------------------------\u001b[0m",
      "\u001b[1;31mTypeError\u001b[0m                                 Traceback (most recent call last)",
      "Cell \u001b[1;32mIn[16], line 31\u001b[0m\n\u001b[0;32m     28\u001b[0m episode_reward \u001b[38;5;241m+\u001b[39m\u001b[38;5;241m=\u001b[39m reward\n\u001b[0;32m     30\u001b[0m \u001b[38;5;66;03m# 模型訓練\u001b[39;00m\n\u001b[1;32m---> 31\u001b[0m \u001b[43moptimize_model\u001b[49m\u001b[43m(\u001b[49m\u001b[43m)\u001b[49m\n\u001b[0;32m     33\u001b[0m \u001b[38;5;66;03m# 每隔一段時間更新 Target network\u001b[39;00m\n\u001b[0;32m     34\u001b[0m \u001b[38;5;28;01mif\u001b[39;00m steps_done \u001b[38;5;241m%\u001b[39m target_update_freq \u001b[38;5;241m==\u001b[39m \u001b[38;5;241m0\u001b[39m:\n",
      "Cell \u001b[1;32mIn[15], line 14\u001b[0m, in \u001b[0;36moptimize_model\u001b[1;34m()\u001b[0m\n\u001b[0;32m     11\u001b[0m next_state_batch \u001b[38;5;241m=\u001b[39m torch\u001b[38;5;241m.\u001b[39mFloatTensor(np\u001b[38;5;241m.\u001b[39marray(next_state_batch))\u001b[38;5;241m.\u001b[39mto(device)\n\u001b[0;32m     12\u001b[0m done_batch \u001b[38;5;241m=\u001b[39m torch\u001b[38;5;241m.\u001b[39mFloatTensor(done_batch)\u001b[38;5;241m.\u001b[39mto(device)\n\u001b[1;32m---> 14\u001b[0m state_batch \u001b[38;5;241m=\u001b[39m \u001b[43mtorch\u001b[49m\u001b[38;5;241;43m.\u001b[39;49m\u001b[43mcat\u001b[49m\u001b[43m(\u001b[49m\u001b[43mstate_batch\u001b[49m\u001b[43m)\u001b[49m\n\u001b[0;32m     15\u001b[0m action_batch \u001b[38;5;241m=\u001b[39m torch\u001b[38;5;241m.\u001b[39mcat(action_batch)\n\u001b[0;32m     16\u001b[0m reward_batch \u001b[38;5;241m=\u001b[39m torch\u001b[38;5;241m.\u001b[39mcat(reward_batch)\n",
      "\u001b[1;31mTypeError\u001b[0m: cat(): argument 'tensors' (position 1) must be tuple of Tensors, not Tensor"
     ]
    }
   ],
   "source": [
    "import datetime\n",
    "\n",
    "rewards_per_episode = []\n",
    "steps_done = 0\n",
    "start = datetime.datetime.now()\n",
    "for episode in range(episodes):\n",
    "    if (episode+1) % (episodes/10) == 0:\n",
    "        print(f'完成 {(episode+1)} / {episodes} 回合')\n",
    "        \n",
    "    _, info = env.reset()\n",
    "    state = get_screen(env.render())\n",
    "    # print(state.shape)\n",
    "    episode_reward = 0\n",
    "    done = False\n",
    "    \n",
    "    while not done:\n",
    "        # 使用 Policy network 選擇行動\n",
    "        action = select_action(state, epsilon)\n",
    "        _, reward, terminated, truncated, info = env.step(action)\n",
    "        next_state = get_screen(env.render())\n",
    "        done = terminated or truncated\n",
    "        \n",
    "        # 將交易存入緩衝區\n",
    "        memory.append((state, action, reward, next_state, done))\n",
    "        \n",
    "        # 更新狀態\n",
    "        state = next_state\n",
    "        episode_reward += reward\n",
    "        \n",
    "        # 模型訓練\n",
    "        optimize_model()\n",
    "\n",
    "        # 每隔一段時間更新 Target network\n",
    "        if steps_done % target_update_freq == 0:\n",
    "            target_net.load_state_dict(policy_net.state_dict())\n",
    "\n",
    "        steps_done += 1\n",
    "\n",
    "    # ε-greedy的ε(epsilon)逐漸衰退，趨近greedy\n",
    "    epsilon = max(epsilon_min, epsilon_decay * epsilon)    \n",
    "    rewards_per_episode.append(episode_reward)\n",
    "print(datetime.datetime.now()-start)    "
   ]
  },
  {
   "cell_type": "markdown",
   "id": "1dcbaf56-b2a5-4504-8924-421817e192fc",
   "metadata": {},
   "source": [
    "## 繪圖"
   ]
  },
  {
   "cell_type": "code",
   "execution_count": 17,
   "id": "531a95d9-a175-4b78-a70c-a49d29d7b011",
   "metadata": {},
   "outputs": [
    {
     "data": {
      "image/png": "[encoded data removed]",
      "text/plain": [
       "<Figure size 600x400 with 1 Axes>"
      ]
     },
     "metadata": {},
     "output_type": "display_data"
    }
   ],
   "source": [
    "import matplotlib.pyplot as plt\n",
    "\n",
    "plt.figure(figsize=(6,4))\n",
    "plt.plot(rewards_per_episode)\n",
    "plt.xlabel('Episode')\n",
    "plt.ylabel('Reward')\n",
    "plt.title('DQN on CartPole')\n",
    "plt.show()"
   ]
  },
  {
   "cell_type": "markdown",
   "id": "a0c5ef90-0b76-444e-8361-45344a7d33d1",
   "metadata": {},
   "source": [
    "## 測試行動策略"
   ]
  },
  {
   "cell_type": "code",
   "execution_count": 18,
   "id": "38e8b18f-1a63-42c3-b126-930ff4e366bf",
   "metadata": {},
   "outputs": [
    {
     "name": "stdout",
     "output_type": "stream",
     "text": [
      "number of wins over 100 episodes = 0\n",
      "average reward over 100 episodes = 29.41 \n",
      "\n",
      "\n"
     ]
    }
   ],
   "source": [
    "def play_episodes(environment, n_episodes):\n",
    "    wins = 0\n",
    "    acc_reward = 0\n",
    "    for episode in range(n_episodes):\n",
    "        total_reward = 0\n",
    "        done = False\n",
    "        _, info = env.reset()\n",
    "        state = get_screen(environment.render())\n",
    "        while not done:\n",
    "            # Select best action to perform in a current state\n",
    "            action = select_action(state, epsilon)\n",
    "            # Perform an action an observe how environment acted in response\n",
    "            _, reward, terminated, truncated, info = environment.step(action)\n",
    "            next_state = get_screen(env.render())\n",
    "            done = terminated or truncated\n",
    "            # Summarize total reward\n",
    "            total_reward += reward\n",
    "            acc_reward += reward\n",
    "            # Update current state\n",
    "            state = next_state\n",
    "            # Calculate number of wins over episodes\n",
    "            if done and total_reward >= 500:\n",
    "                wins += 1\n",
    "    average_reward = acc_reward / n_episodes\n",
    "    return wins, acc_reward, average_reward\n",
    "\n",
    "# 測試 100 回合\n",
    "n_episodes = 100\n",
    "wins, total_reward, average_reward = play_episodes(env, n_episodes)\n",
    "print(f'number of wins over {n_episodes} episodes = {wins}')\n",
    "print(f'average reward over {n_episodes} episodes = {average_reward} \\n\\n')"
   ]
  },
  {
   "cell_type": "code",
   "execution_count": null,
   "id": "44b007de-ba1e-4a0f-8b4c-9dfba3151065",
   "metadata": {},
   "outputs": [],
   "source": []
  }
 ],
 "metadata": {
  "kernelspec": {
   "display_name": "Python 3 (ipykernel)",
   "language": "python",
   "name": "python3"
  },
  "language_info": {
   "codemirror_mode": {
    "name": "ipython",
    "version": 3
   },
   "file_extension": ".py",
   "mimetype": "text/x-python",
   "name": "python",
   "nbconvert_exporter": "python",
   "pygments_lexer": "ipython3",
   "version": "3.12.3"
  }
 },
 "nbformat": 4,
 "nbformat_minor": 5
}
