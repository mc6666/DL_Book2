{
 "cells": [
  {
   "cell_type": "markdown",
   "metadata": {},
   "source": [
    "# 以 Monte Carlo 求解 FrozenLake"
   ]
  },
  {
   "cell_type": "markdown",
   "metadata": {},
   "source": [
    "## 載入套件"
   ]
  },
  {
   "cell_type": "code",
   "execution_count": 28,
   "metadata": {},
   "outputs": [],
   "source": [
    "import numpy as np\n",
    "import random\n",
    "import sys\n",
    "import gymnasium as gym"
   ]
  },
  {
   "cell_type": "markdown",
   "metadata": {},
   "source": [
    "## 載入遊戲"
   ]
  },
  {
   "cell_type": "code",
   "execution_count": 29,
   "metadata": {},
   "outputs": [],
   "source": [
    "env = gym.make('FrozenLake-v1') #, is_slippery=False, map_name=\"8x8\")"
   ]
  },
  {
   "cell_type": "code",
   "execution_count": 30,
   "metadata": {},
   "outputs": [],
   "source": [
    "# 隨機策略\n",
    "def create_random_policy(env):\n",
    "     policy = {}\n",
    "     for key in range(0, env.observation_space.n):\n",
    "          current_end = 0\n",
    "          p = {}\n",
    "          for action in range(0, env.action_space.n):\n",
    "               p[action] = 1 / env.action_space.n\n",
    "          policy[key] = p\n",
    "     return policy\n",
    "    \n",
    "# 狀態/行動矩陣\n",
    "def create_state_action_dictionary(env, policy):\n",
    "    Q = {}\n",
    "    for key in policy.keys():\n",
    "         Q[key] = {a: 0.0 for a in range(0, env.action_space.n)}\n",
    "    return Q"
   ]
  },
  {
   "cell_type": "code",
   "execution_count": 31,
   "metadata": {},
   "outputs": [],
   "source": [
    "def run_game(env, policy):\n",
    "    s, info = env.reset()\n",
    "    episode = []\n",
    "    done = False\n",
    "    \n",
    "    while not done:\n",
    "        # s = env.env.s        \n",
    "        timestep = []\n",
    "        timestep.append(s)\n",
    "        # 依照Q值比例抽樣\n",
    "        n = random.uniform(0, sum(policy[s].values()))\n",
    "        top_range = 0\n",
    "        for prob in policy[s].items():\n",
    "             top_range += prob[1]\n",
    "             if n < top_range:\n",
    "                   action = prob[0]\n",
    "                   break \n",
    "        s, reward, terminated, truncated, info = env.step(action)\n",
    "        done = terminated or truncated\n",
    "        timestep.append(action)\n",
    "        timestep.append(reward)        \n",
    "        episode.append(timestep)\n",
    "    return episode"
   ]
  },
  {
   "cell_type": "code",
   "execution_count": 32,
   "metadata": {},
   "outputs": [],
   "source": [
    "def monte_carlo(env, episodes=100, policy=None, epsilon=0.01):\n",
    "    # 一開始採隨機策略\n",
    "    if not policy:\n",
    "        policy = create_random_policy(env)   \n",
    "    # 初始化狀態/行動矩陣\n",
    "    Q = create_state_action_dictionary(env, policy) \n",
    "    returns = {}\n",
    "    \n",
    "    for i_episode in range(episodes): # Looping through episodes\n",
    "        # 每 1000 回合顯示除錯訊息\n",
    "        if (i_episode+1) % 1000 == 0:\n",
    "            print(f\"\\r {(i_episode+1)}/{episodes}回合.\", end=\"\")\n",
    "            sys.stdout.flush() # 清除畫面\n",
    "            \n",
    "        # 初始化報酬\n",
    "        G = 0 \n",
    "        # 測試遊戲\n",
    "        episode = run_game(env=env, policy=policy) \n",
    "\n",
    "        # 倒推計算路徑中每個狀態的值函數\n",
    "        for i in reversed(range(0, len(episode))):   \n",
    "            s_t, a_t, r_t = episode[i] \n",
    "            state_action = (s_t, a_t)\n",
    "            G += r_t \n",
    "            \n",
    "            if not state_action in [(x[0], x[1]) for x in episode[0:i]]: # \n",
    "                if returns.get(state_action):\n",
    "                    returns[state_action].append(G)\n",
    "                else:\n",
    "                    returns[state_action] = [G]   \n",
    "\n",
    "                # 計算值函數期望值\n",
    "                Q[s_t][a_t] = sum(returns[state_action]) / len(returns[state_action]) \n",
    "                # 找到最大值函數\n",
    "                Q_list = list(map(lambda x: x[1], Q[s_t].items())) \n",
    "                indices = [i for i, x in enumerate(Q_list) if x == max(Q_list)]\n",
    "                max_Q = random.choice(indices)\n",
    "                \n",
    "                # ε-greedy策略\n",
    "                A_star = max_Q \n",
    "                for a in policy[s_t].items(): # Update action probability for s_t in policy\n",
    "                    if a[0] == A_star: # 最佳行動的機率再加 1 - ε \n",
    "                        policy[s_t][a[0]] = 1 - epsilon + (epsilon / abs(sum(policy[s_t].values())))\n",
    "                    else: # 每個行動的機率初始化，均為 ε / n\n",
    "                        policy[s_t][a[0]] = (epsilon / abs(sum(policy[s_t].values())))\n",
    "\n",
    "    return policy"
   ]
  },
  {
   "cell_type": "code",
   "execution_count": 35,
   "metadata": {},
   "outputs": [
    {
     "name": "stdout",
     "output_type": "stream",
     "text": [
      " 20000/20000回合."
     ]
    }
   ],
   "source": [
    "policy = monte_carlo(env, episodes=20000)"
   ]
  },
  {
   "cell_type": "code",
   "execution_count": 36,
   "metadata": {},
   "outputs": [
    {
     "data": {
      "text/plain": [
       "0.953"
      ]
     },
     "execution_count": 36,
     "metadata": {},
     "output_type": "execute_result"
    }
   ],
   "source": [
    "def test_policy(policy, env):\n",
    "    wins = 0\n",
    "    r = 1000\n",
    "    for i in range(r):\n",
    "        w = run_game(env, policy)[-1][-1]\n",
    "        if w == 1:\n",
    "              wins += 1\n",
    "    return wins / r\n",
    "    \n",
    "test_policy(policy, env)"
   ]
  },
  {
   "cell_type": "code",
   "execution_count": null,
   "metadata": {},
   "outputs": [],
   "source": []
  }
 ],
 "metadata": {
  "kernelspec": {
   "display_name": "Python 3 (ipykernel)",
   "language": "python",
   "name": "python3"
  },
  "language_info": {
   "codemirror_mode": {
    "name": "ipython",
    "version": 3
   },
   "file_extension": ".py",
   "mimetype": "text/x-python",
   "name": "python",
   "nbconvert_exporter": "python",
   "pygments_lexer": "ipython3",
   "version": "3.12.3"
  }
 },
 "nbformat": 4,
 "nbformat_minor": 4
}
