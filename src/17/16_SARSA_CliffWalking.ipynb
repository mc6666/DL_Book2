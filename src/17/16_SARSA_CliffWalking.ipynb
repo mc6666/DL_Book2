{
 "cells": [
  {
   "cell_type": "markdown",
   "metadata": {},
   "source": [
    "# 以 SARSA 求解 Cliff Walking"
   ]
  },
  {
   "cell_type": "markdown",
   "metadata": {},
   "source": [
    "## 載入套件"
   ]
  },
  {
   "cell_type": "code",
   "execution_count": 12,
   "metadata": {},
   "outputs": [],
   "source": [
    "import matplotlib\n",
    "import numpy as np\n",
    "import random\n",
    "import sys\n",
    "import gymnasium as gym"
   ]
  },
  {
   "cell_type": "markdown",
   "metadata": {},
   "source": [
    "## 載入遊戲"
   ]
  },
  {
   "cell_type": "code",
   "execution_count": 13,
   "metadata": {},
   "outputs": [],
   "source": [
    "env = gym.make('CliffWalking-v0')"
   ]
  },
  {
   "cell_type": "markdown",
   "metadata": {},
   "source": [
    "## 測試遊戲規則"
   ]
  },
  {
   "cell_type": "code",
   "execution_count": 14,
   "metadata": {},
   "outputs": [
    {
     "name": "stdout",
     "output_type": "stream",
     "text": [
      "走到斷崖:\n",
      "total reward=-100, done=False\n",
      "往上走:\n",
      "total reward=-1, done=False\n",
      "走到終點:\n",
      "total reward=-14, done=True\n"
     ]
    },
    {
     "data": {
      "text/plain": [
       "47"
      ]
     },
     "execution_count": 14,
     "metadata": {},
     "output_type": "execute_result"
    }
   ],
   "source": [
    "up, right, down, left = 0, 1, 2, 3\n",
    "# 走到斷崖\n",
    "state, _ = env.reset()\n",
    "state, reward, terminated, truncated, info = env.step(right)\n",
    "done = terminated or truncated\n",
    "print('走到斷崖:')\n",
    "print(f'total reward={reward}, done={done}')\n",
    "\n",
    "# 往上走\n",
    "state, _ = env.reset()\n",
    "state, reward, terminated, truncated, info = env.step(up)\n",
    "done = terminated or truncated\n",
    "print('往上走:')\n",
    "print(f'total reward={reward}, done={done}')\n",
    "\n",
    "# 走到終點\n",
    "print('走到終點:')\n",
    "acc_reward=0\n",
    "state, _ = env.reset()\n",
    "state, reward, terminated, truncated, info = env.step(up)\n",
    "acc_reward+=reward\n",
    "for _ in range(12):\n",
    "    state, reward, terminated, truncated, info = env.step(right)\n",
    "    done = terminated or truncated\n",
    "    acc_reward+=reward\n",
    "    # print(f'reward=:{reward}, done:{done}')\n",
    "state, reward, terminated, truncated, info = env.step(down)\n",
    "done = terminated or truncated\n",
    "acc_reward+=reward\n",
    "print(f'total reward={acc_reward}, done={done}')\n",
    "state"
   ]
  },
  {
   "cell_type": "markdown",
   "metadata": {},
   "source": [
    "## 定義 ε-greedy策略"
   ]
  },
  {
   "cell_type": "code",
   "execution_count": 15,
   "metadata": {},
   "outputs": [],
   "source": [
    "def make_epsilon_greedy_policy(Q, epsilon, nA):\n",
    "    def policy_fn(observation):\n",
    "        # 每個行動的機率初始化，均為 ε / n\n",
    "        A = np.ones(nA, dtype=float) * epsilon / nA\n",
    "        best_action = np.argmax(Q[observation])\n",
    "        # 最佳行動的機率再加 1 - ε \n",
    "        A[best_action] += (1.0 - epsilon)\n",
    "        return A\n",
    "    return policy_fn"
   ]
  },
  {
   "cell_type": "markdown",
   "metadata": {},
   "source": [
    "## 定義 SARSA 策略"
   ]
  },
  {
   "cell_type": "code",
   "execution_count": 16,
   "metadata": {},
   "outputs": [],
   "source": [
    "from collections import defaultdict\n",
    "from lib import plotting\n",
    "import itertools\n",
    "\n",
    "def sarsa(env, num_episodes, discount_factor=1.0, alpha=0.5, epsilon=0.1):\n",
    "    # 行動值函數初始化\n",
    "    Q = defaultdict(lambda: np.zeros(env.action_space.n))\n",
    "    # 記錄 所有回合的長度及獎勵\n",
    "    stats = plotting.EpisodeStats(\n",
    "        episode_lengths=np.zeros(num_episodes),\n",
    "        episode_rewards=np.zeros(num_episodes))\n",
    "\n",
    "    # 使用 ε-greedy策略\n",
    "    policy = make_epsilon_greedy_policy(Q, epsilon, env.action_space.n)\n",
    "    \n",
    "    # 實驗 N 回合\n",
    "    for i_episode in range(num_episodes):\n",
    "        # 每 100 回合顯示除錯訊息\n",
    "        if (i_episode + 1) % 100 == 0:\n",
    "            print(f\"\\r {(i_episode + 1)}/{num_episodes}回合.\", end=\"\")\n",
    "            sys.stdout.flush() # 清除畫面\n",
    "        \n",
    "        # 開始依策略實驗\n",
    "        state, _ = env.reset()\n",
    "        action_probs = policy(state)\n",
    "        action = np.random.choice(np.arange(len(action_probs)), p=action_probs)\n",
    "        \n",
    "        # 每次走一步就更新狀態值\n",
    "        for t in itertools.count():\n",
    "            # 走一步\n",
    "            next_state, reward, terminated, truncated, info = env.step(action)\n",
    "            done = terminated or truncated\n",
    "            \n",
    "            # 選擇下一步行動\n",
    "            next_action_probs = policy(next_state)\n",
    "            next_action = np.random.choice(np.arange(len(next_action_probs))\n",
    "                                           , p=next_action_probs)\n",
    "            \n",
    "            # 更新長度及獎勵\n",
    "            stats.episode_rewards[i_episode] += reward\n",
    "            stats.episode_lengths[i_episode] = t\n",
    "            \n",
    "            # 更新狀態值\n",
    "            td_target = reward + discount_factor * Q[next_state][next_action]\n",
    "            td_delta = td_target - Q[state][action]\n",
    "            Q[state][action] += alpha * td_delta\n",
    "    \n",
    "            if done:\n",
    "                break\n",
    "                \n",
    "            action = next_action\n",
    "            state = next_state        \n",
    "    \n",
    "    return Q, stats"
   ]
  },
  {
   "cell_type": "markdown",
   "metadata": {},
   "source": [
    "## 執行 SARSA 策略"
   ]
  },
  {
   "cell_type": "code",
   "execution_count": 17,
   "metadata": {
    "scrolled": true
   },
   "outputs": [
    {
     "name": "stdout",
     "output_type": "stream",
     "text": [
      " 1000/1000回合."
     ]
    }
   ],
   "source": [
    "Q, stats = sarsa(env, 1000, discount_factor=0.9, alpha=0.5, epsilon=0.1)"
   ]
  },
  {
   "cell_type": "markdown",
   "metadata": {},
   "source": [
    "## 顯示執行結果"
   ]
  },
  {
   "cell_type": "code",
   "execution_count": 18,
   "metadata": {},
   "outputs": [
    {
     "data": {
      "image/png": "[encoded data removed]",
      "text/plain": [
       "<Figure size 600x400 with 1 Axes>"
      ]
     },
     "metadata": {},
     "output_type": "display_data"
    },
    {
     "data": {
      "image/png": "[encoded data removed]",
      "text/plain": [
       "<Figure size 600x400 with 1 Axes>"
      ]
     },
     "metadata": {},
     "output_type": "display_data"
    }
   ],
   "source": [
    "fig = plotting.plot_episode_stats(stats)"
   ]
  },
  {
   "cell_type": "code",
   "execution_count": 19,
   "metadata": {
    "scrolled": true
   },
   "outputs": [
    {
     "data": {
      "text/plain": [
       "defaultdict(<function __main__.sarsa.<locals>.<lambda>()>,\n",
       "            {36: array([  -8.80558842, -110.75524797,  -14.95092947,  -10.52764585]),\n",
       "             24: array([-8.52556426, -9.54490643, -9.19589582, -9.41885639]),\n",
       "             12: array([-8.34525375, -9.03103478, -9.37660822, -9.05429546]),\n",
       "             0: array([-9.42221266, -8.13337548, -9.92480421, -8.96604484]),\n",
       "             1: array([-8.4195816 , -7.75377989, -8.86233242, -8.90127555]),\n",
       "             2: array([-7.9752682 , -7.52097664, -9.86131707, -8.69142615]),\n",
       "             13: array([ -8.16932983, -14.66225034,  -9.401973  ,  -9.2953247 ]),\n",
       "             14: array([ -8.62731164,  -7.87655174, -10.67288344,  -8.79511921]),\n",
       "             3: array([-8.13093087, -7.26933045, -7.96830993, -8.27444386]),\n",
       "             4: array([-7.38537585, -6.94874951, -7.49175493, -7.90822295]),\n",
       "             5: array([-7.33868379, -6.50861672, -7.67600935, -7.86047323]),\n",
       "             6: array([-7.26408207, -5.96322797, -7.05557404, -7.49359316]),\n",
       "             7: array([-6.46497231, -5.40391362, -7.16930066, -7.11357311]),\n",
       "             8: array([-6.499966  , -4.85533837, -6.75296444, -6.68128992]),\n",
       "             9: array([-5.18341435, -4.25231873, -5.61088862, -6.27003035]),\n",
       "             10: array([-4.3629328 , -4.41113888, -3.55430745, -5.53470629]),\n",
       "             21: array([ -4.9820615 , -12.57720315,  -8.05613385,  -7.21695323]),\n",
       "             20: array([-5.94850873, -7.92686244, -7.77972225, -7.52956456]),\n",
       "             22: array([-4.40479119, -2.76562266, -4.06707273, -5.55999412]),\n",
       "             33: array([-13.04334387, -11.23538411, -51.42249406,  -6.44368796]),\n",
       "             19: array([-6.22564242, -8.37265694, -7.79931827, -7.81369232]),\n",
       "             18: array([-6.49242163, -7.90662433, -8.19327106, -7.98152698]),\n",
       "             17: array([ -7.29407628,  -9.4901899 , -54.13924418,  -9.66621593]),\n",
       "             16: array([-7.27056715, -8.32990991, -8.53976988, -8.33415604]),\n",
       "             15: array([ -7.55383543,  -8.2038204 , -11.13947609,  -8.45694552]),\n",
       "             32: array([ -7.02269919, -20.1288637 , -92.84910137, -24.7989107 ]),\n",
       "             31: array([ -7.50093754, -38.82582381, -78.11764366, -38.89201835]),\n",
       "             30: array([ -7.70250052,  -7.74752825, -92.39469635, -22.00900364]),\n",
       "             34: array([ -3.75701546,  -1.90050946, -99.8619179 ,  -4.83037414]),\n",
       "             11: array([-3.80401314, -4.14805669, -3.06342402, -5.54339484]),\n",
       "             23: array([-4.24583439, -3.21542433, -1.912242  , -3.47042331]),\n",
       "             35: array([-3.90498161, -1.92844671, -1.        , -2.72597321]),\n",
       "             47: array([0., 0., 0., 0.]),\n",
       "             25: array([ -17.83911455,  -40.8596835 , -106.49681258,   -8.98044046]),\n",
       "             26: array([ -9.97463597,  -8.21664785, -94.13068767, -23.4916536 ]),\n",
       "             27: array([ -8.04862909, -39.39315827, -91.73074032, -12.18373506]),\n",
       "             28: array([ -8.03069128,  -8.47359636, -92.83905074,  -8.67385332]),\n",
       "             29: array([ -8.38902785, -20.37371641, -99.79341787, -24.58585602])})"
      ]
     },
     "execution_count": 19,
     "metadata": {},
     "output_type": "execute_result"
    }
   ],
   "source": [
    "Q"
   ]
  },
  {
   "cell_type": "markdown",
   "metadata": {},
   "source": [
    "## 將行動策略轉換為最佳行動"
   ]
  },
  {
   "cell_type": "code",
   "execution_count": 20,
   "metadata": {},
   "outputs": [
    {
     "name": "stdout",
     "output_type": "stream",
     "text": [
      "R  R  R  R  R  R  R  R  R  R  D  D  \n",
      "U  U  R  U  U  U  U  U  U  U  R  D  \n",
      "U  L  R  U  U  U  U  U  U  L  R  D  \n",
      "U  U  U  U  U  U  U  U  U  U  U  U  \n"
     ]
    }
   ],
   "source": [
    "dict1 = {0:'U', 1:'R', 2:'D', 3:'L'}\n",
    "for row in range(4):\n",
    "    for column in range(12):\n",
    "        print(dict1[np.argmax(Q[row * 12 + column])], ' ', end='')\n",
    "    print()"
   ]
  },
  {
   "cell_type": "code",
   "execution_count": 21,
   "metadata": {},
   "outputs": [
    {
     "data": {
      "text/plain": [
       "'U'"
      ]
     },
     "execution_count": 21,
     "metadata": {},
     "output_type": "execute_result"
    }
   ],
   "source": [
    "column\n",
    "dict1[np.argmax(Q[column * 12 + row])]"
   ]
  },
  {
   "cell_type": "markdown",
   "metadata": {},
   "source": [
    "## 測試行動策略"
   ]
  },
  {
   "cell_type": "code",
   "execution_count": 22,
   "metadata": {},
   "outputs": [
    {
     "name": "stdout",
     "output_type": "stream",
     "text": [
      "number of wins over 1000 episodes = 1000\n",
      "average reward over 1000 episodes = -17.0 \n",
      "\n",
      "\n"
     ]
    }
   ],
   "source": [
    "def play_episodes(environment, n_episodes, policy):\n",
    "    wins = 0\n",
    "    total_reward = 0\n",
    "    for episode in range(n_episodes):\n",
    "            done = False\n",
    "            state, info = environment.reset()\n",
    "            while not done:\n",
    "                    # Select best action to perform in a current state\n",
    "                    action = np.argmax(policy[state])\n",
    "                    # Perform an action an observe how environment acted in response\n",
    "                    next_state, reward, terminated, truncated, info = environment.step(action)\n",
    "                    done = terminated or truncated\n",
    "                    # Summarize total reward\n",
    "                    total_reward += reward\n",
    "                    # Update current state\n",
    "                    state = next_state\n",
    "                    # Calculate number of wins over episodes\n",
    "                    if done and reward > -100:\n",
    "                            wins += 1\n",
    "    average_reward = total_reward / n_episodes\n",
    "    return wins, total_reward, average_reward\n",
    "\n",
    "# 測試 1000 回合\n",
    "n_episodes = 1000\n",
    "wins, total_reward, average_reward = play_episodes(env, n_episodes, Q)\n",
    "print(f'number of wins over {n_episodes} episodes = {wins}')\n",
    "print(f'average reward over {n_episodes} episodes = {average_reward} \\n\\n')"
   ]
  },
  {
   "cell_type": "code",
   "execution_count": null,
   "metadata": {},
   "outputs": [],
   "source": []
  }
 ],
 "metadata": {
  "kernelspec": {
   "display_name": "Python 3 (ipykernel)",
   "language": "python",
   "name": "python3"
  },
  "language_info": {
   "codemirror_mode": {
    "name": "ipython",
    "version": 3
   },
   "file_extension": ".py",
   "mimetype": "text/x-python",
   "name": "python",
   "nbconvert_exporter": "python",
   "pygments_lexer": "ipython3",
   "version": "3.12.3"
  }
 },
 "nbformat": 4,
 "nbformat_minor": 4
}
