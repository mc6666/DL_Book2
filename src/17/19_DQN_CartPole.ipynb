{
 "cells": [
  {
   "cell_type": "markdown",
   "id": "423bbd61-2697-4745-a918-904ec378cca1",
   "metadata": {},
   "source": [
    "# [Deep Q-Learning (DQN) by Samina Amin](https://medium.com/@samina.amin/deep-q-learning-dqn-71c109586bae)"
   ]
  },
  {
   "cell_type": "markdown",
   "id": "70ec410a-399a-4d52-ab58-7c0f793fabdf",
   "metadata": {},
   "source": [
    "## 載入套件"
   ]
  },
  {
   "cell_type": "code",
   "execution_count": 1,
   "id": "4c341504-c1c7-4e35-90c3-0a450ca8cc5b",
   "metadata": {},
   "outputs": [],
   "source": [
    "import gymnasium as gym\n",
    "import torch\n",
    "import torch.nn as nn\n",
    "import torch.optim as optim\n",
    "import random\n",
    "import numpy as np\n",
    "from collections import deque"
   ]
  },
  {
   "cell_type": "markdown",
   "id": "4ffa813c-8159-429e-a312-7ea8341c5e97",
   "metadata": {},
   "source": [
    "## 載入木棒台車遊戲"
   ]
  },
  {
   "cell_type": "code",
   "execution_count": 2,
   "id": "4ae52ef0-795b-437e-a0ef-af1fcfc93fb9",
   "metadata": {},
   "outputs": [],
   "source": [
    "env = gym.make(\"CartPole-v1\")"
   ]
  },
  {
   "cell_type": "markdown",
   "id": "6e0b698a-5842-4589-96c2-9731c4df729d",
   "metadata": {},
   "source": [
    "## 定義神經網路模型"
   ]
  },
  {
   "cell_type": "code",
   "execution_count": 3,
   "id": "0ff0885b-1c30-495d-aeb1-16c504af9fb8",
   "metadata": {},
   "outputs": [],
   "source": [
    "class DQN(nn.Module):\n",
    "    def __init__(self, input_dim, output_dim):\n",
    "        super(DQN, self).__init__()\n",
    "        self.fc1 = nn.Linear(input_dim, 128)\n",
    "        self.fc2 = nn.Linear(128, 128)\n",
    "        self.fc3 = nn.Linear(128, output_dim)\n",
    "    \n",
    "    def forward(self, x):\n",
    "        x = torch.relu(self.fc1(x))\n",
    "        x = torch.relu(self.fc2(x))\n",
    "        return self.fc3(x)"
   ]
  },
  {
   "cell_type": "markdown",
   "id": "59217bca-10fa-47af-9105-6c23291fa560",
   "metadata": {},
   "source": [
    "## 超參數設定"
   ]
  },
  {
   "cell_type": "code",
   "execution_count": 4,
   "id": "0548226d-70ed-4da7-b827-d0c836ee94d6",
   "metadata": {},
   "outputs": [],
   "source": [
    "learning_rate = 0.001 # 學習率\n",
    "gamma = 0.99  # 折扣率\n",
    "epsilon = 1.0 # ε-greedy的ε\n",
    "epsilon_min = 0.01 # ε 最小值\n",
    "epsilon_decay = 0.995 # 衰退率\n",
    "batch_size = 64 # 訓練批量\n",
    "target_update_freq = 1000  # 模型權重複製頻率\n",
    "memory_size = 10000 # 緩衝區大小\n",
    "episodes = 1000 # 回合數"
   ]
  },
  {
   "cell_type": "markdown",
   "id": "748ac1b0-1eb1-43b7-8dc8-6df9b93a950c",
   "metadata": {},
   "source": [
    "## 建立策略(policy)及目標(target)2個Q-network"
   ]
  },
  {
   "cell_type": "code",
   "execution_count": 5,
   "id": "b76893c7-50da-4be0-9dd2-23aff5b3e0b3",
   "metadata": {},
   "outputs": [],
   "source": [
    "input_dim = env.observation_space.shape[0]\n",
    "output_dim = env.action_space.n\n",
    "policy_net = DQN(input_dim, output_dim)\n",
    "target_net = DQN(input_dim, output_dim)\n",
    "target_net.load_state_dict(policy_net.state_dict())\n",
    "target_net.eval()\n",
    "optimizer = optim.Adam(policy_net.parameters(), lr=learning_rate)"
   ]
  },
  {
   "cell_type": "markdown",
   "id": "0fcedb80-f2d3-4df7-a072-aab8007cf170",
   "metadata": {},
   "source": [
    "## 建立 Experience Replay Memory"
   ]
  },
  {
   "cell_type": "code",
   "execution_count": 6,
   "id": "c2921564-2981-435d-8ea4-aedbe9c0bf7a",
   "metadata": {},
   "outputs": [],
   "source": [
    "memory = deque(maxlen=memory_size)"
   ]
  },
  {
   "cell_type": "markdown",
   "id": "2286d256-11a3-4fda-bd44-6da35a7324bf",
   "metadata": {},
   "source": [
    "## 定義行動選擇的函數"
   ]
  },
  {
   "cell_type": "code",
   "execution_count": 7,
   "id": "24bebca3-13c7-4f88-9692-5cd7f371b8e1",
   "metadata": {},
   "outputs": [],
   "source": [
    "# Function to choose action using epsilon-greedy policy\n",
    "def select_action(state, epsilon):\n",
    "    if random.random() < epsilon:\n",
    "        return env.action_space.sample()  # Explore\n",
    "    else:\n",
    "        state = torch.FloatTensor(state).unsqueeze(0)\n",
    "        q_values = policy_net(state)\n",
    "        return torch.argmax(q_values).item()  # Exploit"
   ]
  },
  {
   "cell_type": "markdown",
   "id": "348ee13f-4cde-4fda-9e99-d5beed86d163",
   "metadata": {},
   "source": [
    "## 定義模型訓練的函數"
   ]
  },
  {
   "cell_type": "code",
   "execution_count": 8,
   "id": "a8a307ac-a5c9-4358-8d92-f18d504aee1e",
   "metadata": {},
   "outputs": [],
   "source": [
    "def optimize_model():\n",
    "    if len(memory) < batch_size:\n",
    "        return\n",
    "\n",
    "    # 自Experience Replay Memory抽樣\n",
    "    batch = random.sample(memory, batch_size)\n",
    "    state_batch, action_batch, reward_batch, next_state_batch, done_batch = zip(*batch)\n",
    "\n",
    "    state_batch = torch.FloatTensor(np.array(state_batch))\n",
    "    action_batch = torch.LongTensor(action_batch).unsqueeze(1)\n",
    "    reward_batch = torch.FloatTensor(reward_batch)\n",
    "    next_state_batch = torch.FloatTensor(np.array(next_state_batch))\n",
    "    done_batch = torch.FloatTensor(done_batch)\n",
    "\n",
    "    # 計算 Q-values for current states\n",
    "    q_values = policy_net(state_batch).gather(1, action_batch).squeeze()\n",
    "\n",
    "    # 計算  target Q-values using the target network\n",
    "    with torch.no_grad():\n",
    "        max_next_q_values = target_net(next_state_batch).max(1)[0]\n",
    "        target_q_values = reward_batch + gamma * max_next_q_values * (1 - done_batch)\n",
    "\n",
    "    # 模型訓練\n",
    "    loss = nn.MSELoss()(q_values, target_q_values)\n",
    "    optimizer.zero_grad()\n",
    "    loss.backward()\n",
    "    optimizer.step()"
   ]
  },
  {
   "cell_type": "markdown",
   "id": "f1f30127-9f94-4f88-9748-e95a7c291ffc",
   "metadata": {},
   "source": [
    "## 模型訓練"
   ]
  },
  {
   "cell_type": "code",
   "execution_count": 9,
   "id": "9428b2a1-46ae-473c-808f-a04b35e9839e",
   "metadata": {},
   "outputs": [
    {
     "name": "stdout",
     "output_type": "stream",
     "text": [
      "0:04:02.498146\n"
     ]
    }
   ],
   "source": [
    "import datetime\n",
    "\n",
    "rewards_per_episode = []\n",
    "steps_done = 0\n",
    "start = datetime.datetime.now()\n",
    "for episode in range(episodes):\n",
    "    state, info = env.reset()\n",
    "    episode_reward = 0\n",
    "    done = False\n",
    "    \n",
    "    while not done:\n",
    "        # 使用 Policy network 選擇行動\n",
    "        action = select_action(state, epsilon)\n",
    "        next_state, reward, terminated, truncated, info = env.step(action)\n",
    "        done = terminated or truncated\n",
    "        \n",
    "        # 將交易存入緩衝區\n",
    "        memory.append((state, action, reward, next_state, done))\n",
    "        \n",
    "        # 更新狀態\n",
    "        state = next_state\n",
    "        episode_reward += reward\n",
    "        \n",
    "        # 模型訓練\n",
    "        optimize_model()\n",
    "\n",
    "        # 每隔一段時間更新 Target network\n",
    "        if steps_done % target_update_freq == 0:\n",
    "            target_net.load_state_dict(policy_net.state_dict())\n",
    "\n",
    "        steps_done += 1\n",
    "\n",
    "    # ε-greedy的ε(epsilon)逐漸衰退，趨近greedy\n",
    "    epsilon = max(epsilon_min, epsilon_decay * epsilon)    \n",
    "    rewards_per_episode.append(episode_reward)\n",
    "print(datetime.datetime.now()-start)    "
   ]
  },
  {
   "cell_type": "markdown",
   "id": "1dcbaf56-b2a5-4504-8924-421817e192fc",
   "metadata": {},
   "source": [
    "## 繪圖"
   ]
  },
  {
   "cell_type": "code",
   "execution_count": 15,
   "id": "531a95d9-a175-4b78-a70c-a49d29d7b011",
   "metadata": {
    "scrolled": true
   },
   "outputs": [
    {
     "data": {
      "image/png": "[encoded data removed]",
      "text/plain": [
       "<Figure size 600x400 with 1 Axes>"
      ]
     },
     "metadata": {},
     "output_type": "display_data"
    }
   ],
   "source": [
    "import matplotlib.pyplot as plt\n",
    "\n",
    "plt.figure(figsize=(6,4))\n",
    "plt.plot(rewards_per_episode)\n",
    "plt.xlabel('Episode')\n",
    "plt.ylabel('Reward')\n",
    "plt.title('DQN on CartPole')\n",
    "plt.show()"
   ]
  },
  {
   "cell_type": "markdown",
   "id": "a0c5ef90-0b76-444e-8361-45344a7d33d1",
   "metadata": {},
   "source": [
    "## 測試行動策略"
   ]
  },
  {
   "cell_type": "code",
   "execution_count": 13,
   "id": "38e8b18f-1a63-42c3-b126-930ff4e366bf",
   "metadata": {},
   "outputs": [
    {
     "name": "stdout",
     "output_type": "stream",
     "text": [
      "number of wins over 1000 episodes = 992\n",
      "average reward over 1000 episodes = 497.704 \n",
      "\n",
      "\n"
     ]
    }
   ],
   "source": [
    "def play_episodes(environment, n_episodes):\n",
    "    wins = 0\n",
    "    acc_reward = 0\n",
    "    for episode in range(n_episodes):\n",
    "        total_reward = 0\n",
    "        done = False\n",
    "        state, info = environment.reset()\n",
    "        while not done:\n",
    "            # Select best action to perform in a current state\n",
    "            action = select_action(state, epsilon)\n",
    "            # Perform an action an observe how environment acted in response\n",
    "            next_state, reward, terminated, truncated, info = environment.step(action)\n",
    "            done = terminated or truncated\n",
    "            # Summarize total reward\n",
    "            total_reward += reward\n",
    "            acc_reward += reward\n",
    "            # Update current state\n",
    "            state = next_state\n",
    "            # Calculate number of wins over episodes\n",
    "            if done and total_reward >= 500:\n",
    "                wins += 1\n",
    "    average_reward = acc_reward / n_episodes\n",
    "    return wins, acc_reward, average_reward\n",
    "\n",
    "# 測試 1000 回合\n",
    "n_episodes = 1000\n",
    "wins, total_reward, average_reward = play_episodes(env, n_episodes)\n",
    "print(f'number of wins over {n_episodes} episodes = {wins}')\n",
    "print(f'average reward over {n_episodes} episodes = {average_reward} \\n\\n')"
   ]
  },
  {
   "cell_type": "code",
   "execution_count": null,
   "id": "44b007de-ba1e-4a0f-8b4c-9dfba3151065",
   "metadata": {},
   "outputs": [],
   "source": []
  }
 ],
 "metadata": {
  "kernelspec": {
   "display_name": "Python 3 (ipykernel)",
   "language": "python",
   "name": "python3"
  },
  "language_info": {
   "codemirror_mode": {
    "name": "ipython",
    "version": 3
   },
   "file_extension": ".py",
   "mimetype": "text/x-python",
   "name": "python",
   "nbconvert_exporter": "python",
   "pygments_lexer": "ipython3",
   "version": "3.12.3"
  }
 },
 "nbformat": 4,
 "nbformat_minor": 5
}
