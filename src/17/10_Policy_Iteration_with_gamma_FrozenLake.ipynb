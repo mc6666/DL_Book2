{
 "cells": [
  {
   "cell_type": "markdown",
   "metadata": {},
   "source": [
    "# FrozenLake之策略循環(Policy Iteration)"
   ]
  },
  {
   "cell_type": "markdown",
   "metadata": {},
   "source": [
    "## 載入套件"
   ]
  },
  {
   "cell_type": "code",
   "execution_count": 1,
   "metadata": {},
   "outputs": [],
   "source": [
    "import numpy as np\n",
    "import gymnasium as gym"
   ]
  },
  {
   "cell_type": "markdown",
   "metadata": {},
   "source": [
    "## 載入遊戲"
   ]
  },
  {
   "cell_type": "code",
   "execution_count": 2,
   "metadata": {},
   "outputs": [
    {
     "data": {
      "text/plain": [
       "(0, {'prob': 1})"
      ]
     },
     "execution_count": 2,
     "metadata": {},
     "output_type": "execute_result"
    }
   ],
   "source": [
    "env = gym.make('FrozenLake-v1', is_slippery=False, desc=[\"SFFF\", \"FFFH\", \"FFFF\", \"FFFG\"])\n",
    "env.reset()"
   ]
  },
  {
   "cell_type": "code",
   "execution_count": 3,
   "metadata": {
    "scrolled": true
   },
   "outputs": [
    {
     "data": {
      "text/plain": [
       "(16, 4)"
      ]
     },
     "execution_count": 3,
     "metadata": {},
     "output_type": "execute_result"
    }
   ],
   "source": [
    "nS = env.observation_space.n\n",
    "nA = env.action_space.n\n",
    "nS, nA"
   ]
  },
  {
   "cell_type": "markdown",
   "metadata": {},
   "source": [
    "## 顯示行動策略機率"
   ]
  },
  {
   "cell_type": "code",
   "execution_count": 4,
   "metadata": {},
   "outputs": [
    {
     "data": {
      "text/plain": [
       "{0: {0: [(1.0, 0, 0.0, False)],\n",
       "  1: [(1.0, 4, 0.0, False)],\n",
       "  2: [(1.0, 1, 0.0, False)],\n",
       "  3: [(1.0, 0, 0.0, False)]},\n",
       " 1: {0: [(1.0, 0, 0.0, False)],\n",
       "  1: [(1.0, 5, 0.0, False)],\n",
       "  2: [(1.0, 2, 0.0, False)],\n",
       "  3: [(1.0, 1, 0.0, False)]},\n",
       " 2: {0: [(1.0, 1, 0.0, False)],\n",
       "  1: [(1.0, 6, 0.0, False)],\n",
       "  2: [(1.0, 3, 0.0, False)],\n",
       "  3: [(1.0, 2, 0.0, False)]},\n",
       " 3: {0: [(1.0, 2, 0.0, False)],\n",
       "  1: [(1.0, 7, 0.0, True)],\n",
       "  2: [(1.0, 3, 0.0, False)],\n",
       "  3: [(1.0, 3, 0.0, False)]},\n",
       " 4: {0: [(1.0, 4, 0.0, False)],\n",
       "  1: [(1.0, 8, 0.0, False)],\n",
       "  2: [(1.0, 5, 0.0, False)],\n",
       "  3: [(1.0, 0, 0.0, False)]},\n",
       " 5: {0: [(1.0, 4, 0.0, False)],\n",
       "  1: [(1.0, 9, 0.0, False)],\n",
       "  2: [(1.0, 6, 0.0, False)],\n",
       "  3: [(1.0, 1, 0.0, False)]},\n",
       " 6: {0: [(1.0, 5, 0.0, False)],\n",
       "  1: [(1.0, 10, 0.0, False)],\n",
       "  2: [(1.0, 7, 0.0, True)],\n",
       "  3: [(1.0, 2, 0.0, False)]},\n",
       " 7: {0: [(1.0, 7, 0, True)],\n",
       "  1: [(1.0, 7, 0, True)],\n",
       "  2: [(1.0, 7, 0, True)],\n",
       "  3: [(1.0, 7, 0, True)]},\n",
       " 8: {0: [(1.0, 8, 0.0, False)],\n",
       "  1: [(1.0, 12, 0.0, False)],\n",
       "  2: [(1.0, 9, 0.0, False)],\n",
       "  3: [(1.0, 4, 0.0, False)]},\n",
       " 9: {0: [(1.0, 8, 0.0, False)],\n",
       "  1: [(1.0, 13, 0.0, False)],\n",
       "  2: [(1.0, 10, 0.0, False)],\n",
       "  3: [(1.0, 5, 0.0, False)]},\n",
       " 10: {0: [(1.0, 9, 0.0, False)],\n",
       "  1: [(1.0, 14, 0.0, False)],\n",
       "  2: [(1.0, 11, 0.0, False)],\n",
       "  3: [(1.0, 6, 0.0, False)]},\n",
       " 11: {0: [(1.0, 10, 0.0, False)],\n",
       "  1: [(1.0, 15, 1.0, True)],\n",
       "  2: [(1.0, 11, 0.0, False)],\n",
       "  3: [(1.0, 7, 0.0, True)]},\n",
       " 12: {0: [(1.0, 12, 0.0, False)],\n",
       "  1: [(1.0, 12, 0.0, False)],\n",
       "  2: [(1.0, 13, 0.0, False)],\n",
       "  3: [(1.0, 8, 0.0, False)]},\n",
       " 13: {0: [(1.0, 12, 0.0, False)],\n",
       "  1: [(1.0, 13, 0.0, False)],\n",
       "  2: [(1.0, 14, 0.0, False)],\n",
       "  3: [(1.0, 9, 0.0, False)]},\n",
       " 14: {0: [(1.0, 13, 0.0, False)],\n",
       "  1: [(1.0, 14, 0.0, False)],\n",
       "  2: [(1.0, 15, 1.0, True)],\n",
       "  3: [(1.0, 10, 0.0, False)]},\n",
       " 15: {0: [(1.0, 15, 0, True)],\n",
       "  1: [(1.0, 15, 0, True)],\n",
       "  2: [(1.0, 15, 0, True)],\n",
       "  3: [(1.0, 15, 0, True)]}}"
      ]
     },
     "execution_count": 4,
     "metadata": {},
     "output_type": "execute_result"
    }
   ],
   "source": [
    "env.unwrapped.P"
   ]
  },
  {
   "cell_type": "markdown",
   "metadata": {},
   "source": [
    "## 策略評估函數"
   ]
  },
  {
   "cell_type": "code",
   "execution_count": 5,
   "metadata": {},
   "outputs": [],
   "source": [
    "# 策略評估函數\n",
    "def policy_eval(policy, env, discount_factor=1.0, theta=0.00001):\n",
    "    # 狀態值函數初始化\n",
    "    V = np.zeros(nS)\n",
    "    V1 = np.copy(V)\n",
    "    while True:\n",
    "        delta = 0\n",
    "        # 更新每個狀態值的函數\n",
    "        for s in range(nS):\n",
    "            v = 0\n",
    "            # 計算每個行動後的狀態值函數\n",
    "            for a, action_prob in enumerate(policy[s]):\n",
    "                # 取得所有可能的下一狀態值\n",
    "                for  prob, next_state, reward, done in env.unwrapped.P[s][a]:\n",
    "                    # 狀態值函數公式，依照所有可能的下一狀態值函數加總 \n",
    "                    v += action_prob * prob * (reward + \n",
    "                                   discount_factor * V[next_state])\n",
    "            # 比較更新前後的差值，取最大值\n",
    "            delta = max(delta, np.abs(v - V[s]))\n",
    "            V1[s] = v\n",
    "        V = np.copy(V1)\n",
    "        # 若最大差值 < 門檻值，則停止評估\n",
    "        if delta < theta:\n",
    "            break\n",
    "    return np.array(V)"
   ]
  },
  {
   "cell_type": "code",
   "execution_count": 6,
   "metadata": {},
   "outputs": [
    {
     "name": "stdout",
     "output_type": "stream",
     "text": [
      "狀態值函數:\n",
      "[[0.33057206 0.29638556 0.22039882 0.11019328]\n",
      " [0.36479661 0.33821814 0.25464004 0.        ]\n",
      " [0.42563702 0.4370814  0.45996217 0.4866518 ]\n",
      " [0.47506976 0.52453871 0.66149455 0.        ]]\n"
     ]
    }
   ],
   "source": [
    "# 隨機策略，機率均等\n",
    "random_policy = np.ones([env.observation_space.n, env.action_space.n]) / env.action_space.n\n",
    "# 評估\n",
    "v = policy_eval(random_policy, env)\n",
    "print(\"狀態值函數:\")\n",
    "print(v.reshape((int(nS ** 0.5), int(nS ** 0.5))))"
   ]
  },
  {
   "cell_type": "markdown",
   "metadata": {},
   "source": [
    "## 策略改善函數"
   ]
  },
  {
   "cell_type": "code",
   "execution_count": 7,
   "metadata": {},
   "outputs": [],
   "source": [
    "def policy_improvement(env, policy_eval_fn=policy_eval, discount_factor=1.0):\n",
    "    # 計算行動值函數\n",
    "    def one_step_lookahead(state, V):\n",
    "        A = np.zeros(nA)\n",
    "        for a in range(nA):\n",
    "            for prob, next_state, reward, done in env.unwrapped.P[state][a]:\n",
    "                A[a] += prob * (reward + discount_factor * V[next_state])\n",
    "        return A\n",
    "    \n",
    "    # 一開始採隨機策略，往上/下/左/右走的機率(π)均等\n",
    "    policy = np.ones([nS, nA]) / nA\n",
    "    \n",
    "    while True:\n",
    "        # 策略評估\n",
    "        V = policy_eval_fn(policy, env, discount_factor)\n",
    "        \n",
    "        # 若要改變策略，會設定 policy_stable = False\n",
    "        policy_stable = True\n",
    "        \n",
    "        for s in range(nS):\n",
    "            # 依 P 選擇最佳行動\n",
    "            chosen_a = np.argmax(policy[s])\n",
    "            \n",
    "            # 計算下一步的行動值函數\n",
    "            action_values = one_step_lookahead(s, V)\n",
    "            # 選擇最佳行動\n",
    "            best_a = np.argmax(action_values)\n",
    "            \n",
    "            # 貪婪策略：若有新的最佳行動，修改行動策略\n",
    "            if chosen_a != best_a:\n",
    "                policy_stable = False\n",
    "            policy[s] = np.eye(nA)[best_a]\n",
    "        \n",
    "        # 如果已無較佳行動策略，則回傳策略及狀態值函數\n",
    "        if policy_stable:\n",
    "            return policy, V"
   ]
  },
  {
   "cell_type": "code",
   "execution_count": 9,
   "metadata": {},
   "outputs": [],
   "source": [
    "# 執行策略循環\n",
    "policy, v = policy_improvement(env, discount_factor=0.9)"
   ]
  },
  {
   "cell_type": "code",
   "execution_count": 10,
   "metadata": {},
   "outputs": [
    {
     "name": "stdout",
     "output_type": "stream",
     "text": [
      "策略機率分配:\n",
      "[[0. 1. 0. 0.]\n",
      " [0. 1. 0. 0.]\n",
      " [0. 1. 0. 0.]\n",
      " [1. 0. 0. 0.]\n",
      " [0. 1. 0. 0.]\n",
      " [0. 1. 0. 0.]\n",
      " [0. 1. 0. 0.]\n",
      " [1. 0. 0. 0.]\n",
      " [0. 1. 0. 0.]\n",
      " [0. 1. 0. 0.]\n",
      " [0. 1. 0. 0.]\n",
      " [0. 1. 0. 0.]\n",
      " [0. 0. 1. 0.]\n",
      " [0. 0. 1. 0.]\n",
      " [0. 0. 1. 0.]\n",
      " [1. 0. 0. 0.]]\n",
      "\n",
      "4x4 策略機率分配 (0~3：左/下/右/上):\n",
      "[[1 1 1 0]\n",
      " [1 1 1 0]\n",
      " [1 1 1 1]\n",
      " [2 2 2 0]]\n",
      "\n",
      "4x4 狀態值函數:\n",
      "[[0.59049 0.6561  0.729   0.6561 ]\n",
      " [0.6561  0.729   0.81    0.     ]\n",
      " [0.729   0.81    0.9     1.     ]\n",
      " [0.81    0.9     1.      0.     ]]\n"
     ]
    }
   ],
   "source": [
    "# 顯示結果\n",
    "print(\"策略機率分配:\")\n",
    "print(policy)\n",
    "print(\"\")\n",
    "\n",
    "print(\"4x4 策略機率分配 (0~3：左/下/右/上):\")\n",
    "print(np.reshape(np.argmax(policy, axis=1), (int(nS ** 0.5), int(nS ** 0.5))))\n",
    "print(\"\")\n",
    "\n",
    "print(\"4x4 狀態值函數:\")\n",
    "print(v.reshape((int(nS ** 0.5), int(nS ** 0.5))))"
   ]
  },
  {
   "cell_type": "markdown",
   "metadata": {},
   "source": [
    "## 測試行動策略"
   ]
  },
  {
   "cell_type": "code",
   "execution_count": 11,
   "metadata": {},
   "outputs": [
    {
     "name": "stdout",
     "output_type": "stream",
     "text": [
      "number of wins over 10000 episodes = 10000\n",
      "average reward over 10000 episodes = 1.0 \n",
      "\n",
      "\n"
     ]
    }
   ],
   "source": [
    "def play_episodes(environment, n_episodes, policy):\n",
    "    wins = 0\n",
    "    total_reward = 0\n",
    "    for episode in range(n_episodes):\n",
    "            done = False\n",
    "            state, info = environment.reset()\n",
    "            while not done:\n",
    "                    # Select best action to perform in a current state\n",
    "                    action = np.argmax(policy[state])\n",
    "                    # Perform an action an observe how environment acted in response\n",
    "                    next_state, reward, terminated, truncated, info = environment.step(action)\n",
    "                    done = terminated or truncated\n",
    "                    # Summarize total reward\n",
    "                    total_reward += reward\n",
    "                    # Update current state\n",
    "                    state = next_state\n",
    "                    # Calculate number of wins over episodes\n",
    "                    if done and reward == 1.0:\n",
    "                            wins += 1\n",
    "    average_reward = total_reward / n_episodes\n",
    "    return wins, total_reward, average_reward\n",
    "\n",
    "# 測試 10000 回合\n",
    "n_episodes = 10000\n",
    "wins, total_reward, average_reward = play_episodes(env, n_episodes, policy)\n",
    "print(f'number of wins over {n_episodes} episodes = {wins}')\n",
    "print(f'average reward over {n_episodes} episodes = {average_reward} \\n\\n')"
   ]
  },
  {
   "cell_type": "markdown",
   "metadata": {},
   "source": [
    "## 隨機行動策略"
   ]
  },
  {
   "cell_type": "code",
   "execution_count": 12,
   "metadata": {},
   "outputs": [
    {
     "name": "stdout",
     "output_type": "stream",
     "text": [
      "number of wins over 10000 episodes = 3233\n",
      "average reward over 10000 episodes = 0.3233 \n",
      "\n",
      "\n"
     ]
    }
   ],
   "source": [
    "def random_play(environment, n_episodes):\n",
    "    wins = 0\n",
    "    total_reward = 0\n",
    "    for episode in range(n_episodes):\n",
    "        done = False\n",
    "        state, info = environment.reset()\n",
    "        while not done:\n",
    "            # 隨機行動\n",
    "            action = environment.action_space.sample()\n",
    "            # Perform an action an observe how environment acted in response\n",
    "            next_state, reward, terminated, truncated, info = environment.step(action)\n",
    "            done = terminated or truncated\n",
    "            # Summarize total reward\n",
    "            total_reward += reward\n",
    "            # Update current state\n",
    "            state = next_state\n",
    "            # Calculate number of wins over episodes\n",
    "            if done and reward == 1.0:\n",
    "                wins += 1\n",
    "    average_reward = total_reward / n_episodes\n",
    "    return wins, total_reward, average_reward\n",
    "\n",
    "# 測試 10000 回合\n",
    "n_episodes = 10000\n",
    "wins, total_reward, average_reward = random_play(env, n_episodes)\n",
    "print(f'number of wins over {n_episodes} episodes = {wins}')\n",
    "print(f'average reward over {n_episodes} episodes = {average_reward} \\n\\n')"
   ]
  },
  {
   "cell_type": "code",
   "execution_count": null,
   "metadata": {},
   "outputs": [],
   "source": []
  }
 ],
 "metadata": {
  "kernelspec": {
   "display_name": "Python 3 (ipykernel)",
   "language": "python",
   "name": "python3"
  },
  "language_info": {
   "codemirror_mode": {
    "name": "ipython",
    "version": 3
   },
   "file_extension": ".py",
   "mimetype": "text/x-python",
   "name": "python",
   "nbconvert_exporter": "python",
   "pygments_lexer": "ipython3",
   "version": "3.12.3"
  }
 },
 "nbformat": 4,
 "nbformat_minor": 4
}
