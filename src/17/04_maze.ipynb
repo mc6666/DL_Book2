{
 "cells": [
  {
   "cell_type": "markdown",
   "metadata": {},
   "source": [
    "## 迷宮遊戲：以狀態值函數大者為行動依據"
   ]
  },
  {
   "cell_type": "code",
   "execution_count": 23,
   "metadata": {},
   "outputs": [
    {
     "data": {
      "image/png": "[encoded data removed]",
      "text/plain": [
       "<IPython.core.display.Image object>"
      ]
     },
     "execution_count": 23,
     "metadata": {
      "image/png": {
       "width": 300
      }
     },
     "output_type": "execute_result"
    }
   ],
   "source": [
    "from IPython.display import Image\n",
    "Image('./images/maze.png', width=300)"
   ]
  },
  {
   "cell_type": "markdown",
   "metadata": {},
   "source": [
    "### 起點為(1, 1)，終點為(4, 3)或(4, 2)，走到(4, 3)獎勵為1，走到(4, 2)獎勵為 -1，每走一步獎勵均為 -0.04。"
   ]
  },
  {
   "cell_type": "code",
   "execution_count": 24,
   "metadata": {},
   "outputs": [],
   "source": [
    "# 載入相關套件\n",
    "import numpy as np\n",
    "import random"
   ]
  },
  {
   "cell_type": "code",
   "execution_count": 25,
   "metadata": {},
   "outputs": [],
   "source": [
    "# 參數設定\n",
    "ROW_COUNT, COLUMN_COUNT = 3, 4         # 3列 x 4行\n",
    "NODE_COUNT = ROW_COUNT * COLUMN_COUNT  # 節點總數\n",
    "NORMAL_REWARD = -0.04 # 每走一步扣分 -0.04\n",
    "WIN_REWARD = 1    # 終點(4, 3)的得分\n",
    "LOSS_REWARD = -1  # 終點(4, 2)的失分\n",
    "\n",
    "# 特殊節點\n",
    "WIN_TERMINAL = NODE_COUNT-1    # 得分的終點\n",
    "LOSS_TERMINAL = NODE_COUNT-1-COLUMN_COUNT # 失分的終點\n",
    "WALL_NODES = [5]                # 牆節點，不能駐留的節點\n",
    "# 行動空間\n",
    "(UP, DOWN, LEFT, RIGHT) = range(4) # 上/下/左/右"
   ]
  },
  {
   "cell_type": "code",
   "execution_count": 26,
   "metadata": {},
   "outputs": [
    {
     "data": {
      "text/plain": [
       "{0, 1, 2, 3, 4, 7}"
      ]
     },
     "execution_count": 26,
     "metadata": {},
     "output_type": "execute_result"
    }
   ],
   "source": [
    "x = [0, 4, 0, 1, 2, 1, 0, 4, 0, 1, 2, 1, 2, 3, 7]\n",
    "set(x)"
   ]
  },
  {
   "cell_type": "code",
   "execution_count": 27,
   "metadata": {},
   "outputs": [
    {
     "data": {
      "text/plain": [
       "[7, 3, 2, 1, 2, 1, 0, 4, 0, 1, 2, 1, 0, 4, 0]"
      ]
     },
     "execution_count": 27,
     "metadata": {},
     "output_type": "execute_result"
    }
   ],
   "source": [
    "x = [0, 4, 0, 1, 2, 1, 0, 4, 0, 1, 2, 1, 2, 3, 7]\n",
    "x.reverse() \n",
    "x"
   ]
  },
  {
   "cell_type": "code",
   "execution_count": 28,
   "metadata": {},
   "outputs": [],
   "source": [
    "# 環境類別\n",
    "class Environment():\n",
    "    # 初始化\n",
    "    def __init__(self):\n",
    "        # 儲存狀態值函數\n",
    "        self.state_value = np.full(NODE_COUNT, 0.0)\n",
    "\n",
    "        # 更新次數\n",
    "        self.state_value_count = np.full(NODE_COUNT, 0)\n",
    "        \n",
    "    # 初始化\n",
    "    def reset(self):\n",
    "        self.poistion = 0  # 玩家開始的位置\n",
    "        self.trajectory=[self.poistion] # 行動軌跡\n",
    "\n",
    "    def get_states(self):\n",
    "        # 狀態空間(State Space)\n",
    "        return [i for i in range(NODE_COUNT)]\n",
    "\n",
    "    def get_actions(self):  \n",
    "        # 行動空間(Action Space)\n",
    "        return [UP, DOWN, LEFT, RIGHT] # 上/下/左/右\n",
    "\n",
    "    def is_done(self): # 判斷比賽回合是否結束\n",
    "        # 是否走到終點\n",
    "        return self.poistion == WIN_TERMINAL or self.poistion == LOSS_TERMINAL\n",
    "    \n",
    "    # 更新位置\n",
    "    def update_poistion(self, action):\n",
    "        if action == DOWN:\n",
    "            new_poistion = self.poistion - COLUMN_COUNT\n",
    "        if action == UP:\n",
    "            new_poistion = self.poistion + COLUMN_COUNT\n",
    "        if action == LEFT:\n",
    "            new_poistion = self.poistion - 1\n",
    "        if action == RIGHT:\n",
    "            new_poistion = self.poistion + 1\n",
    "            \n",
    "        if new_poistion < 0 or new_poistion > NODE_COUNT \\\n",
    "            or new_poistion in WALL_NODES: \n",
    "            return self.poistion\n",
    "        \n",
    "        return new_poistion\n",
    "    \n",
    "    # 步驟\n",
    "    def step(self, action):\n",
    "        # 是否回合已結束\n",
    "        if self.is_done():\n",
    "            raise Exception(\"Game over\")\n",
    "            \n",
    "        self.poistion = self.update_poistion(action)\n",
    "        self.trajectory.append(self.poistion)        \n",
    "        if self.poistion == WIN_TERMINAL:\n",
    "            reward = WIN_REWARD\n",
    "        elif self.poistion == LOSS_TERMINAL:\n",
    "            reward = LOSS_REWARD\n",
    "        else:    \n",
    "            reward = NORMAL_REWARD\n",
    "\n",
    "        return self.poistion, reward\n",
    "\n",
    "    def update_state_value(self, final_value):\n",
    "        # 考慮節點被走過兩次或以上，分數會被重複扣分\n",
    "        # 採首次訪問(first visit)的報酬更新狀態值 \n",
    "        distinct_node_list = list(set(self.trajectory))\n",
    "        # print('distinct_node_list:', distinct_node_list)\n",
    "        distinct_state_value = np.full(len(distinct_node_list), 0.0)\n",
    "        # 倒推，更新狀態值函數\n",
    "        reverse_trajectory = self.trajectory.copy()\n",
    "        reverse_trajectory.reverse()  \n",
    "        for i in reverse_trajectory:\n",
    "            final_value += NORMAL_REWARD\n",
    "            # 如有訪問多次的節點，狀態值會被蓋掉\n",
    "            index = distinct_node_list.index(i) # 取得索引值\n",
    "            distinct_state_value[index] = final_value # 暫存狀態值函數\n",
    "            \n",
    "        # 更新軌跡的狀態值函數\n",
    "        # print('distinct_state_value:', distinct_state_value)\n",
    "        for index, val in enumerate(distinct_node_list):\n",
    "            # 更新狀態值函數\n",
    "            self.state_value[val] += distinct_state_value[index] \n",
    "            self.state_value_count[val] += 1        \n",
    "                \n",
    "    # 取得狀態值函數期望值\n",
    "    def get_observation(self):\n",
    "        mean1 = np.full(NODE_COUNT, 0.0)\n",
    "        for i in range(NODE_COUNT):\n",
    "            if self.state_value_count[i] == 0: \n",
    "                mean1[i] = 0\n",
    "            else:\n",
    "                mean1[i] = self.state_value[i] / self.state_value_count[i]\n",
    "        return mean1"
   ]
  },
  {
   "cell_type": "code",
   "execution_count": 29,
   "metadata": {},
   "outputs": [],
   "source": [
    "# 代理人類別\n",
    "class Agent():\n",
    "    # 初始化\n",
    "    def __init__(self):\n",
    "        pass\n",
    "        \n",
    "    # 取得可以行走的方向\n",
    "    def check_possible_action(self, env):\n",
    "        possible_actions = env.get_actions()\n",
    "        if env.poistion < COLUMN_COUNT: # 最下一列不可向下\n",
    "            possible_actions.remove(DOWN)\n",
    "        if env.poistion % COLUMN_COUNT == 0: # 第一行不可向左\n",
    "            possible_actions.remove(LEFT)\n",
    "        if env.poistion >= NODE_COUNT - COLUMN_COUNT : # 最上一列不可向上\n",
    "            possible_actions.remove(UP)\n",
    "        if env.poistion % COLUMN_COUNT == COLUMN_COUNT -1 : # 最右一行不可向右\n",
    "            possible_actions.remove(RIGHT)\n",
    "            \n",
    "        if env.poistion -1 in WALL_NODES : # 向左若遇牆，不可向左\n",
    "            possible_actions.remove(LEFT)\n",
    "        if env.poistion +1 in WALL_NODES : # 向右若遇牆，不可向右\n",
    "            possible_actions.remove(RIGHT)\n",
    "        if env.poistion + COLUMN_COUNT in WALL_NODES : # 向上若遇牆，不可向上\n",
    "            possible_actions.remove(UP)\n",
    "        if env.poistion - COLUMN_COUNT in WALL_NODES : # 向下若遇牆，不可向下\n",
    "            possible_actions.remove(DOWN)\n",
    "            \n",
    "        return possible_actions\n",
    "        \n",
    "    def action(self, env):\n",
    "        # 取得狀態值函數期望值\n",
    "        state_value = env.get_observation()\n",
    "\n",
    "        # 找到最大的狀態值函數\n",
    "        max_value = -999\n",
    "        next_action_list = [] \n",
    "        possible_actions = self.check_possible_action(env)\n",
    "        # print('possible_actions:', possible_actions)\n",
    "        for i in possible_actions:\n",
    "            if state_value[env.update_poistion(i)] > max_value:\n",
    "                max_value = state_value[env.update_poistion(i)]\n",
    "                next_action_list = [i]\n",
    "            elif state_value[env.update_poistion(i)] == max_value:\n",
    "                next_action_list += [i]\n",
    "            # print('next_action:', next_action_list, ', max_value:', max_value)\n",
    "                \n",
    "        if len(next_action_list) == 0:\n",
    "            next_action = random.choice(possible_actions) \n",
    "        else: # 有多個最大狀態值函數的節點，隨機抽樣\n",
    "            next_action = random.choice(next_action_list)\n",
    "            new_poistion = env.update_poistion(next_action)\n",
    "            \n",
    "        # 若發生循環，隨機抽樣\n",
    "        while len(possible_actions) > 1 and len(env.trajectory)>=4 and \\\n",
    "            new_poistion == env.trajectory[-2] and \\\n",
    "            new_poistion == env.trajectory[-4] :\n",
    "            # print('loop:', env.trajectory[-4:], new_poistion)\n",
    "            possible_actions.remove(next_action)          # 去除造成循環的行動\n",
    "            next_action = random.choice(possible_actions) # 選擇其他的行動\n",
    "            new_poistion = env.update_poistion(next_action)\n",
    "            # print('change action:', new_poistion)\n",
    "            \n",
    "        # print('next_action:', next_action_list, ', max_value:', max_value)\n",
    "        return next_action           "
   ]
  },
  {
   "cell_type": "code",
   "execution_count": 30,
   "metadata": {},
   "outputs": [
    {
     "name": "stdout",
     "output_type": "stream",
     "text": [
      "trajectory 0 : [0, 4, 8, 9, 8, 9, 10, 6, 7]\n",
      "trajectory 1 : [0, 1, 2, 3, 2, 1, 0, 1, 2, 3, 2, 1, 0, 1, 2, 3, 2, 1, 0, 1, 2, 3, 2, 1, 0, 1, 2, 3, 2, 3, 7]\n",
      "trajectory 2 : [0, 4, 8, 9, 10, 11]\n",
      "trajectory 3 : [0, 4, 8, 9, 10, 11]\n",
      "trajectory 4 : [0, 4, 8, 9, 10, 11]\n",
      "trajectory 5 : [0, 4, 8, 9, 10, 11]\n",
      "trajectory 6 : [0, 4, 8, 9, 10, 11]\n",
      "trajectory 7 : [0, 4, 8, 9, 10, 11]\n",
      "trajectory 8 : [0, 4, 8, 9, 10, 11]\n",
      "trajectory 9 : [0, 4, 8, 9, 10, 11]\n",
      "trajectory 10 : [0, 4, 8, 9, 10, 11]\n",
      "trajectory 11 : [0, 4, 8, 9, 10, 11]\n",
      "trajectory 12 : [0, 4, 8, 9, 10, 11]\n",
      "trajectory 13 : [0, 4, 8, 9, 10, 11]\n",
      "trajectory 14 : [0, 4, 8, 9, 10, 11]\n",
      "trajectory 15 : [0, 4, 8, 9, 10, 11]\n",
      "trajectory 16 : [0, 4, 8, 9, 10, 11]\n",
      "trajectory 17 : [0, 4, 8, 9, 10, 11]\n",
      "trajectory 18 : [0, 4, 8, 9, 10, 11]\n",
      "trajectory 19 : [0, 4, 8, 9, 10, 11]\n",
      "trajectory 20 : [0, 4, 8, 9, 10, 11]\n",
      "trajectory 21 : [0, 4, 8, 9, 10, 11]\n",
      "trajectory 22 : [0, 4, 8, 9, 10, 11]\n",
      "trajectory 23 : [0, 4, 8, 9, 10, 11]\n",
      "trajectory 24 : [0, 4, 8, 9, 10, 11]\n",
      "trajectory 25 : [0, 4, 8, 9, 10, 11]\n",
      "trajectory 26 : [0, 4, 8, 9, 10, 11]\n",
      "trajectory 27 : [0, 4, 8, 9, 10, 11]\n",
      "trajectory 28 : [0, 4, 8, 9, 10, 11]\n",
      "trajectory 29 : [0, 4, 8, 9, 10, 11]\n",
      "trajectory 30 : [0, 4, 8, 9, 10, 11]\n",
      "trajectory 31 : [0, 4, 8, 9, 10, 11]\n",
      "trajectory 32 : [0, 4, 8, 9, 10, 11]\n",
      "trajectory 33 : [0, 4, 8, 9, 10, 11]\n",
      "trajectory 34 : [0, 4, 8, 9, 10, 11]\n",
      "trajectory 35 : [0, 4, 8, 9, 10, 11]\n",
      "trajectory 36 : [0, 4, 8, 9, 10, 11]\n",
      "trajectory 37 : [0, 4, 8, 9, 10, 11]\n",
      "trajectory 38 : [0, 4, 8, 9, 10, 11]\n",
      "trajectory 39 : [0, 4, 8, 9, 10, 11]\n",
      "trajectory 40 : [0, 4, 8, 9, 10, 11]\n",
      "累計報酬: [-1.28, -1.28, -2.16, -2.16, 0.84, 0.84, 0.84, 0.84, 0.84, 0.84, 0.84, 0.84, 0.84, 0.84, 0.84, 0.84, 0.84, 0.84, 0.84, 0.84, 0.84, 0.84, 0.84, 0.84, 0.84, 0.84, 0.84, 0.84, 0.84, 0.84, 0.84, 0.84, 0.84, 0.84, 0.84, 0.84, 0.84, 0.84, 0.84, 0.84, 0.84, 0.84, 0.84, 0.84, 0.84, 0.84, 0.84, 0.84, 0.84, 0.84, 0.84, 0.84, 0.84, 0.84, 0.84, 0.84, 0.84, 0.84, 0.84, 0.84, 0.84, 0.84, 0.84, 0.84, 0.84, 0.84, 0.84, 0.84, 0.84, 0.84, 0.84, 0.84, 0.84, 0.84, 0.84, 0.84, 0.84, 0.84, 0.84, 0.84, 0.84, 0.84]\n"
     ]
    }
   ],
   "source": [
    "# 建立實驗，含環境、代理人物件\n",
    "env = Environment()\n",
    "agent = Agent()\n",
    "\n",
    "# 進行實驗\n",
    "total_reward_list = []\n",
    "no = 0\n",
    "done_no = 0\n",
    "while no < 100 and done_no < 41:\n",
    "    no += 1\n",
    "    env.reset()  # 重置\n",
    "    total_reward=0  # 累計報酬\n",
    "    action_count = 0\n",
    "    while not env.is_done():\n",
    "        # 採取行動\n",
    "        action = agent.action(env)\n",
    "        action_count+=1\n",
    "        \n",
    "        # 更新下一步\n",
    "        state, reward = env.step(action)\n",
    "        #print(state, reward)\n",
    "        # 計算累計報酬\n",
    "        total_reward += reward\n",
    "        \n",
    "        # 避免一直循環，跑不完\n",
    "        if action_count > 100:\n",
    "            env.poistion = 0\n",
    "            break\n",
    "    \n",
    "    print('trajectory', done_no, ':', env.trajectory)\n",
    "    # 未達終點不更新值函數，以免過度降低循環節點的值函數\n",
    "    if action_count <= 100:\n",
    "        env.update_state_value(total_reward)\n",
    "        total_reward_list.append(round(total_reward, 2))\n",
    "        done_no += 1\n",
    "        \n",
    "    # state_value = np.around(env.get_observation().reshape(ROW_COUNT, COLUMN_COUNT),2)\n",
    "    # print(f\"state value:\\n{np.flip(state_value, axis=0)}\") # 列反轉，與圖一致，便於觀察\n",
    "    total_reward_list.append(round(total_reward, 2))\n",
    "    \n",
    "# 顯示累計報酬\n",
    "print(f\"累計報酬: {total_reward_list}\")"
   ]
  },
  {
   "cell_type": "code",
   "execution_count": 31,
   "metadata": {},
   "outputs": [
    {
     "data": {
      "text/plain": [
       "[<matplotlib.lines.Line2D at 0x2b06dc00770>]"
      ]
     },
     "execution_count": 31,
     "metadata": {},
     "output_type": "execute_result"
    },
    {
     "data": {
      "image/png": "[encoded data removed]",
      "text/plain": [
       "<Figure size 1000x600 with 1 Axes>"
      ]
     },
     "metadata": {},
     "output_type": "display_data"
    }
   ],
   "source": [
    "# 繪圖\n",
    "import matplotlib.pyplot as plt\n",
    "\n",
    "plt.figure(figsize=(10,6))\n",
    "plt.plot(total_reward_list)"
   ]
  },
  {
   "cell_type": "code",
   "execution_count": 32,
   "metadata": {},
   "outputs": [
    {
     "data": {
      "text/plain": [
       "array([[ 0.44780488, -3.36      , -3.32      , -3.28      ],\n",
       "       [ 0.584     ,  0.        , -1.36      , -1.76      ],\n",
       "       [ 0.624     ,  0.664     ,  0.706     ,  0.8       ]])"
      ]
     },
     "execution_count": 32,
     "metadata": {},
     "output_type": "execute_result"
    }
   ],
   "source": [
    "# 觀察最後的狀態期望值\n",
    "env.get_observation().reshape(3,4)"
   ]
  },
  {
   "cell_type": "code",
   "execution_count": null,
   "metadata": {},
   "outputs": [],
   "source": []
  }
 ],
 "metadata": {
  "kernelspec": {
   "display_name": "Python 3 (ipykernel)",
   "language": "python",
   "name": "python3"
  },
  "language_info": {
   "codemirror_mode": {
    "name": "ipython",
    "version": 3
   },
   "file_extension": ".py",
   "mimetype": "text/x-python",
   "name": "python",
   "nbconvert_exporter": "python",
   "pygments_lexer": "ipython3",
   "version": "3.12.3"
  }
 },
 "nbformat": 4,
 "nbformat_minor": 4
}
