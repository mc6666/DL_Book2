{
 "cells": [
  {
   "cell_type": "markdown",
   "metadata": {},
   "source": [
    "# 優化器(Optimizer)"
   ]
  },
  {
   "cell_type": "code",
   "execution_count": 2,
   "metadata": {},
   "outputs": [],
   "source": [
    "import tensorflow as tf\n",
    "from tensorflow.keras import optimizers\n",
    "import numpy as np\n",
    "import matplotlib.pyplot as plt"
   ]
  },
  {
   "cell_type": "markdown",
   "metadata": {},
   "source": [
    "## SGD語法"
   ]
  },
  {
   "cell_type": "code",
   "execution_count": 4,
   "metadata": {},
   "outputs": [
    {
     "data": {
      "text/plain": [
       "<tensorflow.python.keras.optimizer_v2.gradient_descent.SGD at 0x255968ce130>"
      ]
     },
     "execution_count": 4,
     "metadata": {},
     "output_type": "execute_result"
    }
   ],
   "source": [
    "# SGD\n",
    "tf.keras.optimizers.SGD(\n",
    "    learning_rate=0.01, momentum=0.0, nesterov=False, name=\"SGD\"\n",
    ")"
   ]
  },
  {
   "cell_type": "markdown",
   "metadata": {},
   "source": [
    "## 範例1. 隨機梯度下降法 (Stochastic Gradient Descent, SGD) "
   ]
  },
  {
   "cell_type": "code",
   "execution_count": 11,
   "metadata": {},
   "outputs": [
    {
     "name": "stdout",
     "output_type": "stream",
     "text": [
      "優化的步驟:11, 變數:0.3138105869293213\n",
      "優化的步驟:21, 變數:0.10941897332668304\n",
      "優化的步驟:31, 變數:0.03815203905105591\n",
      "優化的步驟:41, 變數:0.01330279465764761\n",
      "優化的步驟:51, 變數:0.0046383971348404884\n"
     ]
    }
   ],
   "source": [
    "# SGD\n",
    "opt = tf.keras.optimizers.SGD(learning_rate=0.1)\n",
    "\n",
    "# 任意變數\n",
    "var = tf.Variable(1.0)\n",
    "\n",
    "# 損失函數\n",
    "loss = lambda: (var ** 2)/2.0\n",
    "\n",
    "# step_count：優化的步驟\n",
    "for i in range(51):\n",
    "    step_count = opt.minimize(loss, [var]).numpy()\n",
    "    if i % 10 == 0 and i > 0:\n",
    "        print(f'優化的步驟:{step_count}, 變數:{var.numpy()}')"
   ]
  },
  {
   "cell_type": "markdown",
   "metadata": {},
   "source": [
    "## 範例2. 優化三次測試隨機梯度下降法的動能"
   ]
  },
  {
   "cell_type": "code",
   "execution_count": 6,
   "metadata": {},
   "outputs": [
    {
     "name": "stdout",
     "output_type": "stream",
     "text": [
      "val0:1.0\n",
      "優化的步驟:1, val1:0.8999999761581421, 變化值:0.10000002384185791\n",
      "優化的步驟:2, val2:0.7199999690055847, 變化值:0.18000000715255737\n",
      "優化的步驟:3, val3:0.4860000014305115, 變化值:0.23399996757507324\n"
     ]
    }
   ],
   "source": [
    "opt = tf.keras.optimizers.SGD(learning_rate=0.1, momentum=0.9)\n",
    "var = tf.Variable(1.0)\n",
    "\n",
    "# 損失函數起始值\n",
    "val0 = var.value()\n",
    "print(f'val0:{val0}')\n",
    "# 損失函數\n",
    "loss = lambda: (var ** 2)/2.0\n",
    "\n",
    "# 優化第一次  \n",
    "step_count = opt.minimize(loss, [var]).numpy()\n",
    "val1 = var.value()\n",
    "print(f'優化的步驟:{step_count}, val1:{val1}, 變化值:{(val0 - val1).numpy()}')\n",
    "\n",
    "# 優化第二次  \n",
    "step_count = opt.minimize(loss, [var]).numpy()\n",
    "val2 = var.value()\n",
    "print(f'優化的步驟:{step_count}, val2:{val2}, 變化值:{(val1 - val2).numpy()}')\n",
    "\n",
    "# 優化第三次  \n",
    "step_count = opt.minimize(loss, [var]).numpy()\n",
    "val3 = var.value()\n",
    "print(f'優化的步驟:{step_count}, val3:{val3}, 變化值:{(val2 - val3).numpy()}')"
   ]
  },
  {
   "cell_type": "markdown",
   "metadata": {},
   "source": [
    "## Adam 語法"
   ]
  },
  {
   "cell_type": "code",
   "execution_count": 17,
   "metadata": {},
   "outputs": [
    {
     "data": {
      "text/plain": [
       "<tensorflow.python.keras.optimizer_v2.adam.Adam at 0x25597325520>"
      ]
     },
     "execution_count": 17,
     "metadata": {},
     "output_type": "execute_result"
    }
   ],
   "source": [
    "# Adam\n",
    "tf.keras.optimizers.Adam(\n",
    "    learning_rate=0.001,\n",
    "    beta_1=0.9,\n",
    "    beta_2=0.999,\n",
    "    epsilon=1e-07,\n",
    "    amsgrad=False,\n",
    "    name=\"Adam\",\n",
    ")"
   ]
  },
  {
   "cell_type": "markdown",
   "metadata": {},
   "source": [
    "## 範例3. Adam 簡單測試"
   ]
  },
  {
   "cell_type": "code",
   "execution_count": 20,
   "metadata": {},
   "outputs": [
    {
     "name": "stdout",
     "output_type": "stream",
     "text": [
      "優化的步驟:2, 變數:0.7015826106071472\n",
      "優化的步驟:4, 變數:0.5079597234725952\n",
      "優化的步驟:6, 變數:0.3234168291091919\n",
      "優化的步驟:8, 變數:0.15358148515224457\n",
      "優化的步驟:10, 變數:0.005128741264343262\n"
     ]
    }
   ],
   "source": [
    "# Adam\n",
    "opt = tf.keras.optimizers.Adam(learning_rate=0.1)\n",
    "\n",
    "# 任意變數\n",
    "var = tf.Variable(1.0)\n",
    "\n",
    "# 損失函數\n",
    "loss = lambda: (var ** 2)/2.0\n",
    "\n",
    "# step_count：優化的步驟\n",
    "for i in range(11):\n",
    "    step_count = opt.minimize(loss, [var]).numpy()\n",
    "    if i % 2 == 0 and i > 0:\n",
    "        print(f'優化的步驟:{step_count-1}, 變數:{var.numpy()}')"
   ]
  },
  {
   "cell_type": "code",
   "execution_count": null,
   "metadata": {},
   "outputs": [],
   "source": []
  }
 ],
 "metadata": {
  "kernelspec": {
   "display_name": "Python 3",
   "language": "python",
   "name": "python3"
  },
  "language_info": {
   "codemirror_mode": {
    "name": "ipython",
    "version": 3
   },
   "file_extension": ".py",
   "mimetype": "text/x-python",
   "name": "python",
   "nbconvert_exporter": "python",
   "pygments_lexer": "ipython3",
   "version": "3.8.3"
  }
 },
 "nbformat": 4,
 "nbformat_minor": 4
}
