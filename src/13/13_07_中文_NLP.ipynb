{
 "cells": [
  {
   "cell_type": "markdown",
   "metadata": {},
   "source": [
    "# 中文 NLP"
   ]
  },
  {
   "cell_type": "markdown",
   "metadata": {},
   "source": [
    "## 簡體字分詞"
   ]
  },
  {
   "cell_type": "code",
   "execution_count": 2,
   "metadata": {},
   "outputs": [
    {
     "name": "stdout",
     "output_type": "stream",
     "text": [
      "Collecting jieba\n",
      "  Downloading jieba-0.42.1.tar.gz (19.2 MB)\n",
      "     ---------------------------------------- 0.0/19.2 MB ? eta -:--:--\n",
      "     - -------------------------------------- 0.8/19.2 MB 8.3 MB/s eta 0:00:03\n",
      "     ------------ --------------------------- 6.0/19.2 MB 24.6 MB/s eta 0:00:01\n",
      "     ---------------------- ---------------- 11.3/19.2 MB 23.5 MB/s eta 0:00:01\n",
      "     ------------------------------------ -- 17.8/19.2 MB 26.1 MB/s eta 0:00:01\n",
      "     --------------------------------------- 19.2/19.2 MB 26.4 MB/s eta 0:00:00\n",
      "  Preparing metadata (setup.py): started\n",
      "  Preparing metadata (setup.py): finished with status 'done'\n",
      "Building wheels for collected packages: jieba\n",
      "  Building wheel for jieba (setup.py): started\n",
      "  Building wheel for jieba (setup.py): finished with status 'done'\n",
      "  Created wheel for jieba: filename=jieba-0.42.1-py3-none-any.whl size=19314474 sha256=5d87893d7ccbe42f856ee5a8e66b4afffeff28f76529fcbbe55b6a8c5d4179b3\n",
      "  Stored in directory: c:\\users\\mikec\\appdata\\local\\pip\\cache\\wheels\\08\\a1\\a3\\5c8ac52cc2f5782ffffc34c95c57c8e5ecb3063dc69541ee7c\n",
      "Successfully built jieba\n",
      "Installing collected packages: jieba\n",
      "Successfully installed jieba-0.42.1\n"
     ]
    }
   ],
   "source": [
    "!pip install jieba"
   ]
  },
  {
   "cell_type": "code",
   "execution_count": 3,
   "metadata": {},
   "outputs": [
    {
     "name": "stderr",
     "output_type": "stream",
     "text": [
      "Building prefix dict from the default dictionary ...\n",
      "Dumping model to file cache C:\\Users\\mikec\\AppData\\Local\\Temp\\jieba.cache\n",
      "Loading model cost 0.784 seconds.\n",
      "Prefix dict has been built successfully.\n"
     ]
    },
    {
     "name": "stdout",
     "output_type": "stream",
     "text": [
      "全模式: 小/ 明/ 硕士/ 毕业/ 于/ 中国/ 中国科学院/ 科学/ 科学院/ 学院/ 计算/ 计算所/ ，/ 后/ 在/ 日本/ 日本京都大学/ 京都/ 京都大学/ 大学/ 深造\n",
      "精確模式: 小明/ 硕士/ 毕业/ 于/ 中国科学院/ 计算所/ ，/ 后/ 在/ 日本京都大学/ 深造\n",
      "搜索引擎模式:  小明, 硕士, 毕业, 于, 中国, 科学, 学院, 科学院, 中国科学院, 计算, 计算所, ，, 后, 在, 日本, 京都, 大学, 日本京都大学, 深造\n"
     ]
    }
   ],
   "source": [
    "# 載入相關套件\n",
    "import numpy as np\n",
    "import jieba\n",
    "\n",
    "# 分詞\n",
    "text = \"小明硕士毕业于中国科学院计算所，后在日本京都大学深造\"\n",
    "# cut_all=True：全模式\n",
    "seg_list = jieba.cut(text, cut_all=True)\n",
    "print(\"全模式: \" + \"/ \".join(seg_list))  \n",
    "\n",
    "# cut_all=False：精確模式\n",
    "seg_list = jieba.cut(text, cut_all=False)\n",
    "print(\"精確模式: \" + \"/ \".join(seg_list))  \n",
    "\n",
    "# cut_for_search：搜索引擎模式\n",
    "seg_list = jieba.cut_for_search(text)  \n",
    "print('搜索引擎模式: ', ', '.join(seg_list))"
   ]
  },
  {
   "cell_type": "markdown",
   "metadata": {},
   "source": [
    "## 繁體字分詞"
   ]
  },
  {
   "cell_type": "code",
   "execution_count": 5,
   "metadata": {},
   "outputs": [
    {
     "name": "stderr",
     "output_type": "stream",
     "text": [
      "Building prefix dict from D:\\0_AI\\Books\\Tensorflow\\00_V2\\src\\jieba\\dict.txt ...\n",
      "Dumping model to file cache C:\\Users\\mikec\\AppData\\Local\\Temp\\jieba.u517a36f7f6d8b67f5dd99a9ed7543d1d.cache\n",
      "Loading model cost 0.699 seconds.\n",
      "Prefix dict has been built successfully.\n"
     ]
    },
    {
     "name": "stdout",
     "output_type": "stream",
     "text": [
      "全模式: 新竹/ 的/ 交通/ 交通大/ 大學/ 在/ 新竹/ 的/ 大學/ 大學路/ 學路/ 路上\n",
      "精確模式: 新竹/ 的/ 交通/ 大學/ 在/ 新竹/ 的/ 大學路/ 上\n",
      "搜索引擎模式:  新竹, 的, 交通, 大學, 在, 新竹, 的, 大學, 學路, 大學路, 上\n"
     ]
    }
   ],
   "source": [
    "# 設定繁體字典\n",
    "jieba.set_dictionary('../jieba/dict.txt')\n",
    "\n",
    "# 分詞\n",
    "text = \"新竹的交通大學在新竹的大學路上\"\n",
    "\n",
    "# cut_all=True：全模式\n",
    "seg_list = jieba.cut(text, cut_all=True)\n",
    "print(\"全模式: \" + \"/ \".join(seg_list))  \n",
    "\n",
    "# cut_all=False：精確模式\n",
    "seg_list = jieba.cut(text, cut_all=False)\n",
    "print(\"精確模式: \" + \"/ \".join(seg_list))  \n",
    "\n",
    "# cut_for_search：搜索引擎模式\n",
    "seg_list = jieba.cut_for_search(text)  \n",
    "print('搜索引擎模式: ', ', '.join(seg_list))"
   ]
  },
  {
   "cell_type": "markdown",
   "metadata": {},
   "source": [
    "## 分詞，並顯示字詞位置"
   ]
  },
  {
   "cell_type": "code",
   "execution_count": 6,
   "metadata": {
    "scrolled": true
   },
   "outputs": [
    {
     "name": "stdout",
     "output_type": "stream",
     "text": [
      "單字\t開始位置\t結束位置\n",
      "新竹\t 0\t 2\n",
      "的\t 2\t 3\n",
      "交通\t 3\t 5\n",
      "大學\t 5\t 7\n",
      "在\t 7\t 8\n",
      "新竹\t 8\t10\n",
      "的\t10\t11\n",
      "大學路\t11\t14\n",
      "上\t14\t15\n"
     ]
    }
   ],
   "source": [
    "text = \"新竹的交通大學在新竹的大學路上\"\n",
    "result = jieba.tokenize(text)\n",
    "print(\"單字\\t開始位置\\t結束位置\")\n",
    "for tk in result:\n",
    "    print(f\"{tk[0]}\\t{tk[1]:-2d}\\t{tk[2]:-2d}\")"
   ]
  },
  {
   "cell_type": "markdown",
   "metadata": {},
   "source": [
    "## 加詞"
   ]
  },
  {
   "cell_type": "code",
   "execution_count": 7,
   "metadata": {},
   "outputs": [
    {
     "name": "stdout",
     "output_type": "stream",
     "text": [
      "加詞前的分詞: 張惠妹/ 在/ 演唱會/ 演唱/ 三天三/ 夜\n",
      "加詞後的分詞: 張惠妹/ 在/ 演唱會/ 演唱/ 三天三夜\n"
     ]
    }
   ],
   "source": [
    "# 測試語句\n",
    "text = \"張惠妹在演唱會演唱三天三夜\"\n",
    "\n",
    "# 加詞前的分詞\n",
    "seg_list = jieba.cut(text, cut_all=False)\n",
    "print(\"加詞前的分詞: \" + \"/ \".join(seg_list))  \n",
    "\n",
    "# 加詞\n",
    "jieba.add_word('三天三夜')\n",
    "\n",
    "seg_list = jieba.cut(text, cut_all=False)\n",
    "print(\"加詞後的分詞: \" + \"/ \".join(seg_list))  "
   ]
  },
  {
   "cell_type": "markdown",
   "metadata": {},
   "source": [
    "## 關鍵字萃取"
   ]
  },
  {
   "cell_type": "code",
   "execution_count": 9,
   "metadata": {},
   "outputs": [
    {
     "data": {
      "text/plain": [
       "['水車', '因應', '停水', '用水', '百貨公司', '20', '餐廳', '中友', '限水', '封閉']"
      ]
     },
     "execution_count": 9,
     "metadata": {},
     "output_type": "execute_result"
    }
   ],
   "source": [
    "# 測試語句來自新聞 https://news.ltn.com.tw/news/life/breakingnews/3497315\n",
    "with open('../jieba/news.txt', encoding='utf8') as f:\n",
    "    text = f.read()\n",
    "\n",
    "# 加詞前的分詞\n",
    "import jieba.analyse\n",
    "\n",
    "jieba.analyse.extract_tags(text, topK=10)  "
   ]
  },
  {
   "cell_type": "markdown",
   "metadata": {},
   "source": [
    "## 關鍵字萃取"
   ]
  },
  {
   "cell_type": "code",
   "execution_count": 11,
   "metadata": {},
   "outputs": [
    {
     "data": {
      "text/plain": [
       "['百貨公司', '水車', '中友', '用水', '限水', '封閉', '數間', '公廁', '百貨', '週二']"
      ]
     },
     "execution_count": 11,
     "metadata": {},
     "output_type": "execute_result"
    }
   ],
   "source": [
    "# 測試語句來自新聞 https://news.ltn.com.tw/news/life/breakingnews/3497315\n",
    "with open('../jieba/news.txt', encoding='utf8') as f:\n",
    "    text = f.read()\n",
    "\n",
    "import jieba.analyse\n",
    "\n",
    "# 設定停用詞\n",
    "jieba.analyse.set_stop_words('../jieba/stop_words.txt')     \n",
    "    \n",
    "# 加詞前的分詞\n",
    "jieba.analyse.extract_tags(text, topK=10)  "
   ]
  },
  {
   "cell_type": "markdown",
   "metadata": {},
   "source": [
    "## 詞性(POS)標註"
   ]
  },
  {
   "cell_type": "code",
   "execution_count": 12,
   "metadata": {},
   "outputs": [
    {
     "name": "stdout",
     "output_type": "stream",
     "text": [
      "張惠妹 N\n",
      "在 P\n",
      "演唱會 N\n",
      "演唱 Vt\n",
      "三天三夜 x\n"
     ]
    }
   ],
   "source": [
    "# 測試語句\n",
    "text = \"張惠妹在演唱會演唱三天三夜\"\n",
    "\n",
    "# 詞性(POS)標註\n",
    "words = jieba.posseg.cut(text)     \n",
    "for word, flag in words:\n",
    "    print(f'{word} {flag}')"
   ]
  },
  {
   "cell_type": "code",
   "execution_count": null,
   "metadata": {},
   "outputs": [],
   "source": []
  }
 ],
 "metadata": {
  "kernelspec": {
   "display_name": "Python 3 (ipykernel)",
   "language": "python",
   "name": "python3"
  },
  "language_info": {
   "codemirror_mode": {
    "name": "ipython",
    "version": 3
   },
   "file_extension": ".py",
   "mimetype": "text/x-python",
   "name": "python",
   "nbconvert_exporter": "python",
   "pygments_lexer": "ipython3",
   "version": "3.12.3"
  }
 },
 "nbformat": 4,
 "nbformat_minor": 4
}
