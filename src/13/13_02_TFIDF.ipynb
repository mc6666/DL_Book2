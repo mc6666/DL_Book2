{
 "cells": [
  {
   "cell_type": "markdown",
   "metadata": {},
   "source": [
    "# 以TF-IDF實作問答配對"
   ]
  },
  {
   "cell_type": "code",
   "execution_count": 1,
   "metadata": {},
   "outputs": [],
   "source": [
    "# 載入相關套件\n",
    "from sklearn.feature_extraction.text import TfidfVectorizer\n",
    "from sklearn.metrics.pairwise import cosine_similarity"
   ]
  },
  {
   "cell_type": "code",
   "execution_count": 2,
   "metadata": {},
   "outputs": [],
   "source": [
    "# 語料\n",
    "corpus = [\n",
    "    \"The quick brown fox jumps over the lazy dog.\",\n",
    "    \"Never jump over the lazy dog quickly.\",\n",
    "    \"A completely different sentence unrelated to the dog or fox.\"\n",
    "]"
   ]
  },
  {
   "cell_type": "code",
   "execution_count": 3,
   "metadata": {},
   "outputs": [
    {
     "name": "stdout",
     "output_type": "stream",
     "text": [
      "Vocabulary： ['brown' 'completely' 'different' 'dog' 'fox' 'jump' 'jumps' 'lazy'\n",
      " 'never' 'or' 'over' 'quick' 'quickly' 'sentence' 'the' 'to' 'unrelated']\n"
     ]
    }
   ],
   "source": [
    "# 將語料轉換為詞頻矩陣，計算各個字詞出現的次數。\n",
    "vectorizer = TfidfVectorizer()\n",
    "tfidf_matrix = vectorizer.fit_transform(corpus)\n",
    "\n",
    "# 生字表\n",
    "word = vectorizer.get_feature_names_out()\n",
    "print (\"Vocabulary：\", word)"
   ]
  },
  {
   "cell_type": "code",
   "execution_count": 4,
   "metadata": {},
   "outputs": [
    {
     "name": "stdout",
     "output_type": "stream",
     "text": [
      "TF-IDF vector=\n",
      " [[0.39285725 0.         0.         0.23202782 0.29877806 0.\n",
      "  0.39285725 0.29877806 0.         0.         0.29877806 0.39285725\n",
      "  0.         0.         0.46405564 0.         0.        ]\n",
      " [0.         0.         0.         0.26806191 0.         0.45386827\n",
      "  0.         0.34517852 0.45386827 0.         0.34517852 0.\n",
      "  0.45386827 0.         0.26806191 0.         0.        ]\n",
      " [0.         0.37072514 0.37072514 0.21895624 0.28194602 0.\n",
      "  0.         0.         0.         0.37072514 0.         0.\n",
      "  0.         0.37072514 0.21895624 0.37072514 0.37072514]]\n"
     ]
    }
   ],
   "source": [
    "# 查看3句話的 TF-IDF 向量\n",
    "print (\"TF-IDF vector=\\n\", tfidf_matrix.toarray())"
   ]
  },
  {
   "cell_type": "code",
   "execution_count": 6,
   "metadata": {},
   "outputs": [
    {
     "data": {
      "text/plain": [
       "array([[1.        , 0.392857  , 0.2366511 ],\n",
       "       [0.392857  , 1.        , 0.11738766],\n",
       "       [0.2366511 , 0.11738766, 1.        ]])"
      ]
     },
     "execution_count": 6,
     "metadata": {},
     "output_type": "execute_result"
    }
   ],
   "source": [
    "# 混淆矩陣\n",
    "cosine_similarity(tfidf_matrix)"
   ]
  },
  {
   "cell_type": "code",
   "execution_count": 10,
   "metadata": {},
   "outputs": [
    {
     "name": "stdout",
     "output_type": "stream",
     "text": [
      "  (0, 1)\t0.23665110399591885\n",
      "  (0, 0)\t0.39285699958564646\n"
     ]
    }
   ],
   "source": [
    "# 比較第一句與其他例句的相似度\n",
    "print(cosine_similarity(tfidf_matrix[0], tfidf_matrix[1:], dense_output=False))"
   ]
  },
  {
   "cell_type": "code",
   "execution_count": null,
   "metadata": {},
   "outputs": [],
   "source": []
  }
 ],
 "metadata": {
  "kernelspec": {
   "display_name": "Python 3 (ipykernel)",
   "language": "python",
   "name": "python3"
  },
  "language_info": {
   "codemirror_mode": {
    "name": "ipython",
    "version": 3
   },
   "file_extension": ".py",
   "mimetype": "text/x-python",
   "name": "python",
   "nbconvert_exporter": "python",
   "pygments_lexer": "ipython3",
   "version": "3.12.3"
  }
 },
 "nbformat": 4,
 "nbformat_minor": 4
}
