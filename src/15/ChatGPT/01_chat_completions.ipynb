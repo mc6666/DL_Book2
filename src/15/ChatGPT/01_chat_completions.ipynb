{
 "cells": [
  {
   "cell_type": "markdown",
   "id": "b4aefc7d",
   "metadata": {},
   "source": [
    "# Text completion 測試"
   ]
  },
  {
   "cell_type": "markdown",
   "id": "b912c71d",
   "metadata": {},
   "source": [
    "## 載入套件，建立 OpenAI 用戶端"
   ]
  },
  {
   "cell_type": "code",
   "execution_count": 4,
   "id": "bb719656-4fb9-49b7-85f7-5e6adc146efb",
   "metadata": {},
   "outputs": [],
   "source": [
    "from openai import OpenAI\n",
    "client = OpenAI()"
   ]
  },
  {
   "cell_type": "markdown",
   "id": "d63bafac",
   "metadata": {},
   "source": [
    "## 文本生成(Text generation)"
   ]
  },
  {
   "cell_type": "code",
   "execution_count": 5,
   "id": "146b9cd3-79e9-443a-9309-b3994601c94d",
   "metadata": {},
   "outputs": [
    {
     "data": {
      "text/plain": [
       "ChatCompletionMessage(content='\"Scoop into Happiness!\"', refusal=None, role='assistant', audio=None, function_call=None, tool_calls=None)"
      ]
     },
     "execution_count": 5,
     "metadata": {},
     "output_type": "execute_result"
    }
   ],
   "source": [
    "# 提示 \n",
    "messages=[\n",
    "    {\"role\": \"system\", \"content\": \"You are a marketing expert.\"},\n",
    "    {\"role\": \"user\", \"content\": 'Write a tagline for an ice cream shop.'}\n",
    "]\n",
    "\n",
    "# 呼叫 OpenAI API\n",
    "response = client.chat.completions.create(\n",
    "    model=\"gpt-4o-mini\",\n",
    "    messages=messages,\n",
    ")\n",
    "response.choices[0].message"
   ]
  },
  {
   "cell_type": "code",
   "execution_count": 6,
   "id": "be4f76e6-853e-4836-8bcc-aeeb26fb7095",
   "metadata": {},
   "outputs": [
    {
     "data": {
      "text/plain": [
       "'\"Scoop into Happiness!\"'"
      ]
     },
     "execution_count": 6,
     "metadata": {},
     "output_type": "execute_result"
    }
   ],
   "source": [
    "response.choices[0].message.content"
   ]
  },
  {
   "cell_type": "markdown",
   "id": "df26ebb2",
   "metadata": {},
   "source": [
    "## 測試中文問題"
   ]
  },
  {
   "cell_type": "code",
   "execution_count": 7,
   "id": "be173036",
   "metadata": {},
   "outputs": [
    {
     "data": {
      "text/plain": [
       "'「冰涼一口，甜蜜每刻！」'"
      ]
     },
     "execution_count": 7,
     "metadata": {},
     "output_type": "execute_result"
    }
   ],
   "source": [
    "# 提示 \n",
    "messages=[\n",
    "    {\"role\": \"system\", \"content\": \"你是行銷專家.\"},\n",
    "    {\"role\": \"user\", \"content\": '幫冰淇淋店寫一個標語'}\n",
    "]\n",
    "\n",
    "# 呼叫 OpenAI API\n",
    "response = client.chat.completions.create(\n",
    "    model=\"gpt-4o-mini\",\n",
    "    messages=messages,\n",
    ")\n",
    "response.choices[0].message.content"
   ]
  },
  {
   "cell_type": "markdown",
   "id": "24c97d0f",
   "metadata": {},
   "source": [
    "## 測試算術題"
   ]
  },
  {
   "cell_type": "code",
   "execution_count": 10,
   "id": "ff6e639c",
   "metadata": {},
   "outputs": [
    {
     "data": {
      "text/plain": [
       "'98765 multiplied by 1234 equals 121,925,410.'"
      ]
     },
     "execution_count": 10,
     "metadata": {},
     "output_type": "execute_result"
    }
   ],
   "source": [
    "# 提示 \n",
    "messages=[\n",
    "    {\"role\": \"user\", \"content\": '98765*1234=?'}\n",
    "]\n",
    "\n",
    "# 呼叫 OpenAI API\n",
    "response = client.chat.completions.create(\n",
    "    model=\"gpt-4o-mini\",\n",
    "    messages=messages,\n",
    ")\n",
    "response.choices[0].message.content"
   ]
  },
  {
   "cell_type": "code",
   "execution_count": 12,
   "id": "0ec6dc9f",
   "metadata": {},
   "outputs": [
    {
     "data": {
      "text/plain": [
       "121876010"
      ]
     },
     "execution_count": 12,
     "metadata": {},
     "output_type": "execute_result"
    }
   ],
   "source": [
    "98765*1234"
   ]
  },
  {
   "cell_type": "markdown",
   "id": "2de5e2f7",
   "metadata": {},
   "source": [
    "### 解決算術問題"
   ]
  },
  {
   "cell_type": "code",
   "execution_count": 13,
   "id": "14a0a434-d8d7-48c1-94b7-149ff4e98513",
   "metadata": {},
   "outputs": [
    {
     "data": {
      "text/plain": [
       "\"To calculate \\\\(98765 \\\\times 1234\\\\) step by step, we can break it down using the long multiplication method.\\n\\n1. **Write the numbers vertically** (alignment):\\n   ```\\n         98765\\n       ×  1234\\n   ```\\n\\n2. **Multiply the bottom number's last digit by the top number**:\\n   - \\\\(98765 \\\\times 4 = 395060\\\\)\\n\\n3. **Multiply by the next digit (3), remembering to shift left one place**:\\n   - \\\\(98765 \\\\times 3 = 296295\\\\)\\n   - Write it one position to the left:\\n   ```\\n         2962950\\n   ```\\n\\n4. **Multiply by the next digit (2), shifting left two places**:\\n   - \\\\(98765 \\\\times 2 = 197530\\\\)\\n   - Write it two positions to the left:\\n   ```\\n         19753000\\n   ```\\n\\n5. **Multiply by the next digit (1), shifting left three places**:\\n   - \\\\(98765 \\\\times 1 = 98765\\\\)\\n   - Write it three positions to the left:\\n   ```\\n         98765000\\n   ```\\n\\n6. **Now, add all these values together**:\\n   ```\\n          395060\\n        2962950\\n      19753000\\n     98765000\\n   -----------------\\n     121926810\\n   ```\\n\\nSo, \\\\(98765 \\\\times 1234 = 121926810\\\\).\""
      ]
     },
     "execution_count": 13,
     "metadata": {},
     "output_type": "execute_result"
    }
   ],
   "source": [
    "# 提示 \n",
    "messages=[\n",
    "    {\"role\": \"user\", \"content\": 'think step by step. 98765*1234=?'}\n",
    "]\n",
    "\n",
    "# 呼叫 OpenAI API\n",
    "response = client.chat.completions.create(\n",
    "    model=\"gpt-4o-mini\",\n",
    "    messages=messages,\n",
    ")\n",
    "print(response.choices[0].message.content)"
   ]
  },
  {
   "cell_type": "code",
   "execution_count": 15,
   "id": "b14f5c67-27b1-4fa3-9727-cbaf13d6030e",
   "metadata": {},
   "outputs": [
    {
     "data": {
      "text/plain": [
       "(395060, 296295, 197530, 98765)"
      ]
     },
     "execution_count": 15,
     "metadata": {},
     "output_type": "execute_result"
    }
   ],
   "source": [
    "98765 *4, 98765*3, 98765*2, 98765"
   ]
  },
  {
   "cell_type": "code",
   "execution_count": 17,
   "id": "8bb1ee7c-5f3a-456e-bada-800848e2ac8a",
   "metadata": {},
   "outputs": [
    {
     "data": {
      "text/plain": [
       "121876010"
      ]
     },
     "execution_count": 17,
     "metadata": {},
     "output_type": "execute_result"
    }
   ],
   "source": [
    "98765 *4 * 1 + 98765*3 * 10 + 98765*2 * 100 + 98765 * 1000"
   ]
  },
  {
   "cell_type": "markdown",
   "id": "5d1188eb",
   "metadata": {},
   "source": [
    "## 情緒分析"
   ]
  },
  {
   "cell_type": "code",
   "execution_count": 18,
   "id": "34b76824",
   "metadata": {},
   "outputs": [
    {
     "data": {
      "text/plain": [
       "'這句話表達了對蝙蝠俠電影的喜愛，因此情緒分析為正面。'"
      ]
     },
     "execution_count": 18,
     "metadata": {},
     "output_type": "execute_result"
    }
   ],
   "source": [
    "# 提示 \n",
    "messages=[\n",
    "    {\"role\": \"system\", \"content\": \"判斷情緒分析是正面或負面\"},\n",
    "    {\"role\": \"user\", \"content\": '我喜歡這部蝙蝠俠電影.'}\n",
    "]\n",
    "\n",
    "# 呼叫 OpenAI API\n",
    "response = client.chat.completions.create(\n",
    "    model=\"gpt-4o-mini\",\n",
    "    messages=messages,\n",
    ")\n",
    "response.choices[0].message.content"
   ]
  },
  {
   "cell_type": "markdown",
   "id": "c4e5fe2d",
   "metadata": {},
   "source": [
    "## 多筆分析"
   ]
  },
  {
   "cell_type": "code",
   "execution_count": 19,
   "id": "0ed3f4d6",
   "metadata": {},
   "outputs": [
    {
     "name": "stdout",
     "output_type": "stream",
     "text": [
      "1. Negative\n",
      "2. Negative\n",
      "3. Positive\n",
      "4. Positive\n",
      "5. Negative\n"
     ]
    }
   ],
   "source": [
    "# 提示 \n",
    "prompt = '''\n",
    "Classify the sentiment in these tweets:\n",
    "\n",
    "1. \"I can't stand homework\"\n",
    "2. \"This sucks. I'm bored 😠\"\n",
    "3. \"I can't wait for Halloween!!!\"\n",
    "4. \"My cat is adorable ❤️❤️\"\n",
    "5. \"I hate chocolate\"\n",
    "\n",
    "Tweet sentiment ratings:\n",
    "'''\n",
    "\n",
    "task = \"Decide whether a Tweet's sentiment is positive, neutral, or negative.\"\n",
    "\n",
    "messages=[\n",
    "    {\"role\": \"system\", \"content\": task},\n",
    "    {\"role\": \"user\", \"content\": prompt}\n",
    "]\n",
    "\n",
    "# 呼叫 OpenAI API\n",
    "response = client.chat.completions.create(\n",
    "    model=\"gpt-4o-mini\",\n",
    "    messages=messages,\n",
    ")\n",
    "print(response.choices[0].message.content)"
   ]
  },
  {
   "cell_type": "markdown",
   "id": "fecfd2e5",
   "metadata": {},
   "source": [
    "## 創意發想"
   ]
  },
  {
   "cell_type": "code",
   "execution_count": 20,
   "id": "cb650401",
   "metadata": {},
   "outputs": [
    {
     "name": "stdout",
     "output_type": "stream",
     "text": [
      "當擬定台積電的行銷計畫時，可以考慮以下幾個主要要素來建立一個全面的行銷策略，以便強調其創新、技術領先地位和市場佔有率。我將從市場分析、目標設定、行銷策略、執行計畫及評估指標等方面來進行詳細說明。\n",
      "\n",
      "### 一、市場分析\n",
      "\n",
      "1. **行業狀況**：\n",
      "   - 全球半導體市場持續增長，尤其是5G、AI、物聯網等技術推動下。\n",
      "   - 專業代工市場競爭激烈，主要競爭對手包括Samsung、GlobalFoundries等。\n",
      "\n",
      "2. **消費者分析**：\n",
      "   - 主要客戶包括大型科技公司（如Apple、NVIDIA、Qualcomm等），需了解他們的需求與未來趨勢。\n",
      "   - 目標市場的需求趨勢，包括高效能與低能耗晶片的需求上升。\n",
      "\n",
      "3. **SWOT分析**：\n",
      "   - **優勢**：技術領先、產能充足、穩定的客戶關係。\n",
      "   - **劣勢**：對少數客戶依賴度高。\n",
      "   - **機會**：AI、5G等新興應用的需求增長。\n",
      "   - **威脅**：競爭對手的進步、全球經濟波動。\n",
      "\n",
      "### 二、目標設定\n",
      "\n",
      "1. **短期目標 (1年內)**：\n",
      "   - 提升品牌知名度，特別是在新興市場。\n",
      "   - 增加與新客戶的合作，例如人工智慧與自動駕駛領域的企業。\n",
      "\n",
      "2. **中期目標 (1-3年)**：\n",
      "   - 擴展產能以滿足增長需求。\n",
      "   - 提高研發投資，維持技術領先。\n",
      "\n",
      "3. **長期目標 (3-5年)**：\n",
      "   - 成為全球最具影響力的半導體供應商。\n",
      "   - 推動可持續發展的綠色晶片製造技術。\n",
      "\n",
      "### 三、行銷策略\n",
      "\n",
      "1. **產品策略**：\n",
      "   - 強調先進製程技術，如3nm製程的優勢，針對高效能計算市場進行宣傳。\n",
      "   - 推出針對特定應用的定制化解決方案，滿足客戶需求。\n",
      "\n",
      "2. **價格策略**：\n",
      "   - 在高端市場採取溢價策略，強調價值與技術。\n",
      "   - 對於小型客戶，可考慮採取靈活的定價策略，以吸引更多合作。\n",
      "\n",
      "3. **推廣策略**：\n",
      "   - 參與國際性的電子產業博覽會，如CES、SEMICON等，展示最新技術。\n",
      "   - 與科技媒體合作，發布研究報告和技術文章，提高專業形象。\n",
      "\n",
      "4. **渠道策略**：\n",
      "   - 加強與主要客戶的合作關係，提供技術支援和客製化服務。\n",
      "   - 探索新的市場，如東南亞、印度等新興經濟體。\n",
      "\n",
      "### 四、執行計畫\n",
      "\n",
      "1. 制定具體的行動計畫和時間表，指派負責團隊。\n",
      "2. 儘可能整合內部資源，調動各部門協作。\n",
      "3. 預算編列，確保資金合理分配。\n",
      "\n",
      "### 五、評估指標\n",
      "\n",
      "1. **品牌知名度**：透過市場調查評估品牌影響力的變化。\n",
      "2. **銷售成長率**：定期評估銷售數據與目標的對比。\n",
      "3. **客戶滿意度**：收集客戶反饋，以改進產品與服務。\n",
      "4. **市場佔有率**：每年追蹤與主要競爭對手的市場佔有率變化。\n",
      "\n",
      "這份行銷計畫目的是為了提升台積電的市場競爭力，同時保護其在快速變化的科技環境中的領先地位。透過這些策略，期望能夠有效吸引新客戶並維持現有客戶關係，並持續創新以應對未來挑戰。\n"
     ]
    }
   ],
   "source": [
    "# 提示 \n",
    "messages=[\n",
    "    {\"role\": \"system\", \"content\": \"你是行銷專家.\"},\n",
    "    {\"role\": \"user\", \"content\": '請擬定台積電的行銷計畫:'}\n",
    "]\n",
    "\n",
    "# 呼叫 OpenAI API\n",
    "response = client.chat.completions.create(\n",
    "    model=\"gpt-4o-mini\",\n",
    "    messages=messages,\n",
    ")\n",
    "print(response.choices[0].message.content)"
   ]
  },
  {
   "cell_type": "markdown",
   "id": "93baad74",
   "metadata": {},
   "source": [
    "# 對話(Conversation)"
   ]
  },
  {
   "cell_type": "code",
   "execution_count": 5,
   "id": "a4c5a56d",
   "metadata": {
    "scrolled": true
   },
   "outputs": [
    {
     "name": "stdout",
     "output_type": "stream",
     "text": [
      "美國的首都是華盛頓特區（Washington, D.C.）。\n"
     ]
    }
   ],
   "source": [
    "# 提示 \n",
    "messages=[\n",
    "    {\"role\": \"user\", \"content\": '美國首都是?'}\n",
    "]\n",
    "\n",
    "# 呼叫 OpenAI API\n",
    "response = client.chat.completions.create(\n",
    "    model=\"gpt-4o-mini\",\n",
    "    messages=messages,\n",
    ")\n",
    "print(response.choices[0].message.content)"
   ]
  },
  {
   "cell_type": "markdown",
   "id": "9f2f724b",
   "metadata": {},
   "source": [
    "## 追問(Follow up)"
   ]
  },
  {
   "cell_type": "code",
   "execution_count": 8,
   "id": "c641c57a",
   "metadata": {},
   "outputs": [
    {
     "name": "stdout",
     "output_type": "stream",
     "text": [
      "法國的首都是巴黎（Paris）。\n"
     ]
    }
   ],
   "source": [
    "# 把上一題的問答插入提示中\n",
    "last_reply = messages + [{\"role\": \"assistant\", \"content\": response.choices[0].message.content}]\n",
    "messages=last_reply + [\n",
    "    {\"role\": \"user\", \"content\": '法國呢?'}\n",
    "]\n",
    "\n",
    "# 呼叫 OpenAI API\n",
    "response = client.chat.completions.create(\n",
    "    model=\"gpt-4o-mini\",\n",
    "    messages=messages,\n",
    ")\n",
    "print(response.choices[0].message.content)"
   ]
  },
  {
   "cell_type": "markdown",
   "id": "863f2512",
   "metadata": {},
   "source": [
    "# 溫度(Temperature)測試"
   ]
  },
  {
   "cell_type": "code",
   "execution_count": 10,
   "id": "293a87dc",
   "metadata": {
    "scrolled": true
   },
   "outputs": [
    {
     "data": {
      "text/plain": [
       "'98765 * 1234 = 121,739,110.'"
      ]
     },
     "execution_count": 10,
     "metadata": {},
     "output_type": "execute_result"
    }
   ],
   "source": [
    "# 提示 \n",
    "messages=[\n",
    "    {\"role\": \"user\", \"content\": '98765*1234=?'}\n",
    "]\n",
    "\n",
    "# 呼叫 OpenAI API\n",
    "response = client.chat.completions.create(\n",
    "    model=\"gpt-4o-mini\",\n",
    "    messages=messages,\n",
    "    temperature=0.8\n",
    ")\n",
    "response.choices[0].message.content"
   ]
  },
  {
   "cell_type": "code",
   "execution_count": 17,
   "id": "54a24007-8c0a-477d-94b7-37620b63d1a2",
   "metadata": {
    "scrolled": true
   },
   "outputs": [
    {
     "data": {
      "text/plain": [
       "array([0.39069383, 0.31987306, 0.28943311])"
      ]
     },
     "execution_count": 17,
     "metadata": {},
     "output_type": "execute_result"
    }
   ],
   "source": [
    "# Temperature testing\n",
    "import math, numpy as np\n",
    "list = [5, 3, 2]\n",
    "T = 1\n",
    "temperature = np.array([math.e ** (x/T) for x in p])\n",
    "temperature / np.sum(temperature)"
   ]
  },
  {
   "cell_type": "code",
   "execution_count": 18,
   "id": "084a8420-5983-42a3-a707-8ec3810dd29f",
   "metadata": {},
   "outputs": [
    {
     "data": {
      "text/plain": [
       "array([9.99999998e-01, 2.06115362e-09, 9.35762295e-14])"
      ]
     },
     "execution_count": 18,
     "metadata": {},
     "output_type": "execute_result"
    }
   ],
   "source": [
    "T = 0.01\n",
    "temperature = np.array([math.e ** (x/T) for x in p])\n",
    "temperature / np.sum(temperature)"
   ]
  },
  {
   "cell_type": "markdown",
   "id": "1a3a7b60-86fb-4a1e-8ff2-95f8a31486d1",
   "metadata": {},
   "source": [
    " 翻譯(Translation)"
   ]
  },
  {
   "cell_type": "code",
   "execution_count": 25,
   "id": "9692a7ca-61bd-4a81-9c26-b437a7b82bdb",
   "metadata": {
    "scrolled": true
   },
   "outputs": [
    {
     "name": "stdout",
     "output_type": "stream",
     "text": [
      "French: Quelles chambres avez-vous disponibles ?  \n",
      "Traditional Chinese: 你們有哪些可用的房間？  \n",
      "Japanese: どの部屋が空いていますか？  \n"
     ]
    }
   ],
   "source": [
    "# 提示 \n",
    "messages=[\n",
    "    {\"role\": \"system\", \"content\": \"Translate this into French, Traditional Chinese and Japanese:\"},\n",
    "    {\"role\": \"user\", \"content\": 'What rooms do you have available?:'}\n",
    "]\n",
    "\n",
    "# 呼叫 OpenAI API\n",
    "response = client.chat.completions.create(\n",
    "    model=\"gpt-4o-mini\",\n",
    "    messages=messages,\n",
    ")\n",
    "print(response.choices[0].message.content)"
   ]
  },
  {
   "cell_type": "markdown",
   "id": "87c4acb3",
   "metadata": {},
   "source": [
    "## 生成表情符號(emoji)"
   ]
  },
  {
   "cell_type": "code",
   "execution_count": 31,
   "id": "810005ce",
   "metadata": {
    "scrolled": true
   },
   "outputs": [
    {
     "name": "stdout",
     "output_type": "stream",
     "text": [
      "Star Wars: ⭐️🗡️👽👨‍🚀🚀\n"
     ]
    }
   ],
   "source": [
    "# 提示 \n",
    "prompt = 'Star Wars:'\n",
    "messages=[\n",
    "    {\"role\": \"system\", \"content\": \"Convert movie titles into emoji.\"},\n",
    "    {\"role\": \"user\", \"content\": \"Hello, who are you?\"},\n",
    "    {\"role\": \"assistant\", \"content\": \"Back to the Future: 👨👴🚗🕒\"},\n",
    "    {\"role\": \"assistant\", \"content\": \"Batman: 🤵🦇\"},\n",
    "    {\"role\": \"assistant\", \"content\": \"Transformers: 🚗🤖\"},\n",
    "    {\"role\": \"user\", \"content\": prompt}\n",
    "]\n",
    "\n",
    "# 呼叫 OpenAI API\n",
    "response = client.chat.completions.create(\n",
    "    model=\"gpt-4o-mini\",\n",
    "    messages=messages,\n",
    ")\n",
    "print(response.choices[0].message.content)"
   ]
  },
  {
   "cell_type": "markdown",
   "id": "9b070fac",
   "metadata": {},
   "source": [
    "# 摘要(Summarization)"
   ]
  },
  {
   "cell_type": "code",
   "execution_count": 33,
   "id": "e1e619a2",
   "metadata": {
    "scrolled": true
   },
   "outputs": [
    {
     "name": "stdout",
     "output_type": "stream",
     "text": [
      "Jupiter is a really big planet in our Solar System that's fifth from the Sun. It's much larger than all the other planets combined and is really bright in the night sky. People knew about Jupiter for a long time because it's named after a Roman god. When you look at Jupiter from Earth, it can be so bright that it makes shadows! It's usually the third-brightest thing we see at night, after the Moon and Venus.\n"
     ]
    }
   ],
   "source": [
    "# 提示 \n",
    "prompt = '''\n",
    "Jupiter is the fifth planet from the Sun and the largest in the Solar System. \n",
    "It is a gas giant with a mass one-thousandth that of the Sun, \n",
    "but two-and-a-half times that of all the other planets in the Solar System combined. \n",
    "Jupiter is one of the brightest objects visible to the naked eye in the night sky, \n",
    "and has been known to ancient civilizations since before recorded history. \n",
    "It is named after the Roman god Jupiter.[19] When viewed from Earth, \n",
    "Jupiter can be bright enough for its reflected light to cast visible shadows,[20] \n",
    "and is on average the third-brightest natural object in the night sky after the Moon and Venus.\n",
    "'''\n",
    "messages=[\n",
    "    {\"role\": \"system\", \"content\": \"Summarize this for a second-grade student:\"},\n",
    "    {\"role\": \"user\", \"content\": prompt}\n",
    "]\n",
    "\n",
    "# 呼叫 OpenAI API\n",
    "response = client.chat.completions.create(\n",
    "    model=\"gpt-4o-mini\",\n",
    "    messages=messages,\n",
    ")\n",
    "print(response.choices[0].message.content)"
   ]
  },
  {
   "cell_type": "markdown",
   "id": "7f85f935",
   "metadata": {},
   "source": [
    "# 摘要(Summarization)"
   ]
  },
  {
   "cell_type": "code",
   "execution_count": 35,
   "id": "95327374",
   "metadata": {},
   "outputs": [
    {
     "name": "stdout",
     "output_type": "stream",
     "text": [
      "本文摘要指出，今年全球最大的變數是美國聯準會升息速度的調整。美元在上半年相對其他國家升值近1成，這反映了聯準會升息速度的加快。接下來，日本仍持續寬鬆，歐洲央行很可能也會跟著升息，新興國家已經開始升息。因此，從利差的角度來看，美元在第3季可能仍然相對強勢。然而，第3季可能會是美元觸頂的時候，因為升息速度和幅度預計會在9月份之後，通膨有機會在第3季達到頂峰後往下，甚至市場已經開始反應景氣軟著陸和衰退的機率上升到4成。接下來關鍵將是聯準會的經濟預估，也就是2023年失業率預計上升到3.9%。\n"
     ]
    }
   ],
   "source": [
    "# 提示 \n",
    "prompt = '''\n",
    "全球今年最大的變數就是美國聯準會不斷調整升息的幅度跟速度，從3月升息1碼，到5月份2碼、6月份升息3碼，\n",
    "目前預估7月份再升息3碼的機率也是超過8成，也就是說市場在今年持續的反應從聯準會由鴿轉鷹，變成說主動打擊通膨的意識開始轉強。\n",
    "上半年美元指數相對其他國家升值了將近1成，所以這麼快的幅度也反應了聯準會升息的速度，\n",
    "相對於其他國家，尤其日本還是持續寬鬆沒有任何升息的計畫，而歐洲央行7月份應該也會跟著升息，\n",
    "新興國家因為通膨出現所以更早升息，所以如果全球反應的是一個利差的角度，美元在今年第3季還是有機會相對強勢。\n",
    "但是這個強勢可能在第3季就會觸頂，主要是因為目前市場預估的升息速度跟幅度應該就是在9月份之後，\n",
    "看升息半年後，經濟的表現狀況，而通膨有機會在第3季觸頂後往下，因為從經濟數據來看，商品價格已經開始往下，\n",
    "而供應鏈斷鏈的情況也開始舒緩，甚至市場開始反應景氣軟著陸，衰退的機率也上升到4成，所以接下來我們反應的是聯準會的經濟預估，\n",
    "也就是2023年失業率會往上到3.9%，等同於是減少對勞動市場的刺激，來換取壓抑通膨高一點的利率，所以這個部分相對於失業率的升高，\n",
    "也可以壓抑通膨。'''\n",
    "messages=[\n",
    "    {\"role\": \"system\", \"content\": \"彙整全文摘要:\"},\n",
    "    {\"role\": \"user\", \"content\": prompt}\n",
    "]\n",
    "\n",
    "# 呼叫 OpenAI API\n",
    "response = client.chat.completions.create(\n",
    "    model=\"gpt-4o-mini\",\n",
    "    messages=messages,\n",
    ")\n",
    "print(response.choices[0].message.content)"
   ]
  },
  {
   "cell_type": "code",
   "execution_count": null,
   "id": "01e7aaf4",
   "metadata": {},
   "outputs": [],
   "source": []
  }
 ],
 "metadata": {
  "kernelspec": {
   "display_name": "Python 3 (ipykernel)",
   "language": "python",
   "name": "python3"
  },
  "language_info": {
   "codemirror_mode": {
    "name": "ipython",
    "version": 3
   },
   "file_extension": ".py",
   "mimetype": "text/x-python",
   "name": "python",
   "nbconvert_exporter": "python",
   "pygments_lexer": "ipython3",
   "version": "3.12.3"
  }
 },
 "nbformat": 4,
 "nbformat_minor": 5
}
