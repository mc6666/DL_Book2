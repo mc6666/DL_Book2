{
 "cells": [
  {
   "cell_type": "markdown",
   "id": "b91536c2-a0fb-4b72-a69b-fb416004abb9",
   "metadata": {},
   "source": [
    "# RAG 基本測試"
   ]
  },
  {
   "cell_type": "markdown",
   "id": "9d0112a2-dc9b-434e-947b-da4fc7788fea",
   "metadata": {},
   "source": [
    "## 建立 OpenAI 用戶端"
   ]
  },
  {
   "cell_type": "code",
   "execution_count": 1,
   "id": "e4e7911f-f5e1-43e4-a328-c7d8a8a478bb",
   "metadata": {},
   "outputs": [],
   "source": [
    "from openai import OpenAI\n",
    "client = OpenAI()"
   ]
  },
  {
   "cell_type": "markdown",
   "id": "199db2b8-f9c2-42d2-b812-78ac3266a7d8",
   "metadata": {},
   "source": [
    "## 準備資料"
   ]
  },
  {
   "cell_type": "code",
   "execution_count": 2,
   "id": "fe0716f7-d3b6-4408-980d-7a031d5927c4",
   "metadata": {
    "scrolled": true
   },
   "outputs": [
    {
     "name": "stdout",
     "output_type": "stream",
     "text": [
      "考駕照須年滿18歲。\n"
     ]
    }
   ],
   "source": [
    "# 企業文件：駕駛人手冊部分內容\n",
    "context = \"\"\"\n",
    "普通機車的考照資格條件、考照科目及流程相同，皆須年滿18 歲，且經公立醫院、衛生機關或公路監理機關指定醫院(診所、團體) \n",
    "完成體格檢查。報考機車駕照者需先至監理服務網完成機車危險感知體驗後，始可預約報名考照。考照報到後須先參加初考領機車駕照\n",
    "安全講習才可考照，通過筆試與路考( 場地駕駛考驗) 即可發給駕照；任一考驗不合格者，可於7 日後再次報考；講習紀錄與筆試測驗\n",
    "及格成績皆可保留1 年有效，1 年內不用再次參加或重考。\n",
    "\"\"\"\n",
    "\n",
    "# 查詢\n",
    "query = \"考駕照須年滿幾歲?\"\n",
    "\n",
    "# 提示範本\n",
    "prompt = f\"Context: {context}\\n\\nQuestion: {query}\\n\\nAnswer:\"\n"
   ]
  },
  {
   "cell_type": "markdown",
   "id": "22084a42-8bf7-4cbb-9626-eaf22ec7eb7a",
   "metadata": {},
   "source": [
    "## 查詢企業文件"
   ]
  },
  {
   "cell_type": "code",
   "execution_count": null,
   "id": "8b449292-1923-43ba-a669-05dcd008c9ce",
   "metadata": {},
   "outputs": [],
   "source": [
    "response = client.chat.completions.create(\n",
    "    model=\"gpt-4o-mini\",\n",
    "    messages=[\n",
    "        {\"role\": \"user\", \"content\": prompt}\n",
    "    ],\n",
    "    max_tokens=100\n",
    ")\n",
    "\n",
    "print(response.choices[0].message.content)"
   ]
  }
 ],
 "metadata": {
  "kernelspec": {
   "display_name": "Python 3 (ipykernel)",
   "language": "python",
   "name": "python3"
  },
  "language_info": {
   "codemirror_mode": {
    "name": "ipython",
    "version": 3
   },
   "file_extension": ".py",
   "mimetype": "text/x-python",
   "name": "python",
   "nbconvert_exporter": "python",
   "pygments_lexer": "ipython3",
   "version": "3.12.3"
  }
 },
 "nbformat": 4,
 "nbformat_minor": 5
}
