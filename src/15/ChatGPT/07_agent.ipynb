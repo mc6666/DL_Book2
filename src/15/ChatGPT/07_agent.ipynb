{
 "cells": [
  {
   "cell_type": "markdown",
   "id": "b4aefc7d",
   "metadata": {},
   "source": [
    "# Text completion 測試"
   ]
  },
  {
   "cell_type": "markdown",
   "id": "b912c71d",
   "metadata": {},
   "source": [
    "## 載入套件，建立 OpenAI 用戶端"
   ]
  },
  {
   "cell_type": "code",
   "execution_count": 1,
   "id": "bb719656-4fb9-49b7-85f7-5e6adc146efb",
   "metadata": {},
   "outputs": [],
   "source": [
    "from openai import OpenAI\n",
    "import asyncio\n",
    "from llama_index.core.agent.workflow import AgentWorkflow\n",
    "from llama_index.llms.openai import OpenAI\n",
    "\n",
    "client = OpenAI()"
   ]
  },
  {
   "cell_type": "markdown",
   "id": "24c97d0f",
   "metadata": {},
   "source": [
    "## 定義乘法函數"
   ]
  },
  {
   "cell_type": "code",
   "execution_count": 2,
   "id": "18d215ef-b855-436d-a593-aa176dbb3fb6",
   "metadata": {},
   "outputs": [],
   "source": [
    "def multiply(a: float, b: float) -> float:\n",
    "    \"\"\"Useful for multiplying two numbers.\"\"\"\n",
    "    return a * b"
   ]
  },
  {
   "cell_type": "markdown",
   "id": "4f757a94-4be9-40dc-ae12-c10b7a8bfe99",
   "metadata": {},
   "source": [
    "## 建立 agent workflow，並引進 multiply 函數"
   ]
  },
  {
   "cell_type": "code",
   "execution_count": 7,
   "id": "a2feef05-d423-435b-9683-fcda8b25ef7a",
   "metadata": {},
   "outputs": [],
   "source": [
    "agent = AgentWorkflow.from_tools_or_functions(\n",
    "    [multiply],\n",
    "    llm=OpenAI(model=\"gpt-4o-mini\"),\n",
    "    system_prompt=\"你是協助計算的幫手\",\n",
    ")"
   ]
  },
  {
   "cell_type": "markdown",
   "id": "8442e9f3-308e-40f7-9b09-a9a856344d9c",
   "metadata": {},
   "source": [
    "## 執行 agent"
   ]
  },
  {
   "cell_type": "code",
   "execution_count": 8,
   "id": "ff6e639c",
   "metadata": {},
   "outputs": [
    {
     "name": "stdout",
     "output_type": "stream",
     "text": [
      "98765 * 1234 = 121,876,010。\n"
     ]
    }
   ],
   "source": [
    "async def main():\n",
    "    # Run the agent\n",
    "    response = await agent.run(\"請計算 98765 * 1234?\")\n",
    "    print(str(response))\n",
    "    \n",
    "await main()"
   ]
  },
  {
   "cell_type": "code",
   "execution_count": 9,
   "id": "0ec6dc9f",
   "metadata": {},
   "outputs": [
    {
     "name": "stdout",
     "output_type": "stream",
     "text": [
      "121,876,010\n"
     ]
    }
   ],
   "source": [
    "print(f'{98765*1234:,}')"
   ]
  },
  {
   "cell_type": "code",
   "execution_count": null,
   "id": "01e7aaf4",
   "metadata": {},
   "outputs": [],
   "source": []
  }
 ],
 "metadata": {
  "kernelspec": {
   "display_name": "Python 3 (ipykernel)",
   "language": "python",
   "name": "python3"
  },
  "language_info": {
   "codemirror_mode": {
    "name": "ipython",
    "version": 3
   },
   "file_extension": ".py",
   "mimetype": "text/x-python",
   "name": "python",
   "nbconvert_exporter": "python",
   "pygments_lexer": "ipython3",
   "version": "3.12.3"
  }
 },
 "nbformat": 4,
 "nbformat_minor": 5
}
