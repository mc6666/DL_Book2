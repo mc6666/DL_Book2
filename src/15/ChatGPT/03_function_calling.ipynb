{
 "cells": [
  {
   "cell_type": "markdown",
   "id": "60653090-f0cc-48cd-87ae-d1b749deaa04",
   "metadata": {},
   "source": [
    "# Function calling testing"
   ]
  },
  {
   "cell_type": "markdown",
   "id": "8da4e382-caf6-4806-8292-91e9de3256a1",
   "metadata": {},
   "source": [
    "## 載入套件，建立 OpenAI 用戶端"
   ]
  },
  {
   "cell_type": "code",
   "execution_count": 2,
   "id": "d042332a-6794-47dc-8570-abc5c7825f40",
   "metadata": {},
   "outputs": [],
   "source": [
    "from openai import OpenAI\n",
    "client = OpenAI()"
   ]
  },
  {
   "cell_type": "markdown",
   "id": "df44d5ee-aaa9-467b-9dd0-4d6e4805464c",
   "metadata": {},
   "source": [
    "## 定義自訂函數(get_weather)的規格"
   ]
  },
  {
   "cell_type": "code",
   "execution_count": null,
   "id": "c83bca51-2dc1-41ed-a999-8761ffcee8af",
   "metadata": {
    "scrolled": true
   },
   "outputs": [],
   "source": [
    "# 定義自訂函數(get_weather)的規格\n",
    "tools = [{\n",
    "    \"type\": \"function\",\n",
    "    \"function\": {\n",
    "        \"name\": \"get_weather\",\n",
    "        \"description\": \"Get current temperature for a given location.\",\n",
    "        \"parameters\": {\n",
    "            \"type\": \"object\",\n",
    "            \"properties\": {\n",
    "                \"location\": {\n",
    "                    \"type\": \"string\",\n",
    "                    \"description\": \"City and country e.g. Bogotá, Colombia\"\n",
    "                }\n",
    "            },\n",
    "            \"required\": [\n",
    "                \"location\"\n",
    "            ],\n",
    "            \"additionalProperties\": False\n",
    "        },\n",
    "        \"strict\": True\n",
    "    }\n",
    "}]"
   ]
  },
  {
   "cell_type": "markdown",
   "id": "dcc7501c-da6a-47e8-87ed-c6e7b2b2c2d2",
   "metadata": {},
   "source": [
    "## 測試"
   ]
  },
  {
   "cell_type": "code",
   "execution_count": null,
   "id": "1ead074e-22d2-46c7-b2e0-cba281b44235",
   "metadata": {
    "scrolled": true
   },
   "outputs": [
    {
     "name": "stdout",
     "output_type": "stream",
     "text": [
      "[ChatCompletionMessageToolCall(id='call_GvFSfm7tQFNVunFvkdh3EOEc', function=Function(arguments='{\"location\":\"Paris, France\"}', name='get_weather'), type='function')]\n"
     ]
    }
   ],
   "source": [
    "response = client.chat.completions.create(\n",
    "    model=\"gpt-4o-mini\",\n",
    "    messages=[{\"role\": \"user\", \"content\": \"What is the weather like in Paris today?\"}],\n",
    "    tools=tools\n",
    ")\n",
    "\n",
    "# 生成呼叫自訂函數的語法\n",
    "print(response.choices[0].message.tool_calls)"
   ]
  },
  {
   "cell_type": "markdown",
   "id": "d4dc807e-3237-4bff-8bf5-7cf9f077f6fd",
   "metadata": {},
   "source": [
    "## 定義自訂函數"
   ]
  },
  {
   "cell_type": "code",
   "execution_count": 13,
   "id": "10d3c9d0-a3f4-4721-b44c-84b3ca963f7a",
   "metadata": {},
   "outputs": [],
   "source": [
    "import requests\n",
    "\n",
    "# 定義自訂函數(get_weather)的規格，改以經緯度為參數\n",
    "tools = [{\n",
    "    \"type\": \"function\",\n",
    "    \"function\": {\n",
    "        \"name\": \"get_weather\",\n",
    "        \"description\": \"Get current temperature for provided coordinates in celsius.\",\n",
    "        \"parameters\": {\n",
    "            \"type\": \"object\",\n",
    "            \"properties\": {\n",
    "                \"latitude\": {\"type\": \"number\"},\n",
    "                \"longitude\": {\"type\": \"number\"}\n",
    "            },\n",
    "            \"required\": [\"latitude\", \"longitude\"],\n",
    "            \"additionalProperties\": False\n",
    "        },\n",
    "        \"strict\": True\n",
    "    }\n",
    "}]\n",
    "\n",
    "def get_weather(latitude, longitude):\n",
    "    response = requests.get(\n",
    "        \"https://api.open-meteo.com/v1/forecast\" + \\\n",
    "        f\"?latitude={latitude}&longitude={longitude}&current=temperature_2m\" + \\\n",
    "        \",wind_speed_10m&hourly=temperature_2m,relative_humidity_2m,wind_speed_10m\"\n",
    "    )\n",
    "    data = response.json()\n",
    "    return data['current']['temperature_2m']"
   ]
  },
  {
   "cell_type": "markdown",
   "id": "ab38c305-4a61-4280-bc17-15633bddfda2",
   "metadata": {},
   "source": [
    "## 測試"
   ]
  },
  {
   "cell_type": "code",
   "execution_count": null,
   "id": "b4ed647d-ac06-485a-b776-9ed4ea9d7856",
   "metadata": {},
   "outputs": [],
   "source": [
    "import json\n",
    "\n",
    "messages = [{\"role\": \"user\", \"content\": \"What's the weather like in Taipei today?\"}]\n",
    "response = client.chat.completions.create(\n",
    "    model=\"gpt-4o-mini\",\n",
    "    messages=messages,\n",
    "    tools=tools,\n",
    ")\n",
    "\n",
    "response.choices[0].message.tool_calls"
   ]
  },
  {
   "cell_type": "code",
   "execution_count": 16,
   "id": "c58ff2f5-1c28-4f92-9972-3acbe6a49789",
   "metadata": {},
   "outputs": [
    {
     "data": {
      "text/plain": [
       "'{\"latitude\":25.032969,\"longitude\":121.565418}'"
      ]
     },
     "execution_count": 16,
     "metadata": {},
     "output_type": "execute_result"
    }
   ],
   "source": [
    "response.choices[0].message.tool_calls[0].function.arguments"
   ]
  },
  {
   "cell_type": "code",
   "execution_count": 17,
   "id": "7a61ecad-036e-4e21-9860-c4014c2133b3",
   "metadata": {},
   "outputs": [
    {
     "data": {
      "text/plain": [
       "15.1"
      ]
     },
     "execution_count": 17,
     "metadata": {},
     "output_type": "execute_result"
    }
   ],
   "source": [
    "tool_call = response.choices[0].message.tool_calls[0]\n",
    "args = json.loads(tool_call.function.arguments)\n",
    "\n",
    "result = get_weather(args[\"latitude\"], args[\"longitude\"])\n",
    "result"
   ]
  },
  {
   "cell_type": "code",
   "execution_count": null,
   "id": "1de1d17f-547e-4c59-be38-09c6eaf6acf3",
   "metadata": {},
   "outputs": [],
   "source": []
  }
 ],
 "metadata": {
  "kernelspec": {
   "display_name": "Python 3 (ipykernel)",
   "language": "python",
   "name": "python3"
  },
  "language_info": {
   "codemirror_mode": {
    "name": "ipython",
    "version": 3
   },
   "file_extension": ".py",
   "mimetype": "text/x-python",
   "name": "python",
   "nbconvert_exporter": "python",
   "pygments_lexer": "ipython3",
   "version": "3.12.3"
  }
 },
 "nbformat": 4,
 "nbformat_minor": 5
}
