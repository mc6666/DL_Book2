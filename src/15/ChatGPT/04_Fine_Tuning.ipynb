{
 "cells": [
  {
   "cell_type": "markdown",
   "id": "b91536c2-a0fb-4b72-a69b-fb416004abb9",
   "metadata": {},
   "source": [
    "# 模型微調(Fine tuning)"
   ]
  },
  {
   "cell_type": "code",
   "execution_count": null,
   "id": "6a133ddd-2225-498d-ab3c-3dee47debf1e",
   "metadata": {},
   "outputs": [],
   "source": [
    "# 如果上傳檔案有誤，可使用下列指令刪除\n",
    "# 替換 @API-KEY 為你的 OpenAI API KEY\n",
    "# 由上一格執行結果取得 @FILE_ID\n",
    "# !curl https://api.openai.com/v1/files/@FILE_ID -X DELETE -H \"Authorization: Bearer @API-KEY\""
   ]
  },
  {
   "cell_type": "markdown",
   "id": "9d0112a2-dc9b-434e-947b-da4fc7788fea",
   "metadata": {},
   "source": [
    "## 建立 OpenAI 用戶端"
   ]
  },
  {
   "cell_type": "code",
   "execution_count": 1,
   "id": "e4e7911f-f5e1-43e4-a328-c7d8a8a478bb",
   "metadata": {},
   "outputs": [],
   "source": [
    "from openai import OpenAI\n",
    "client = OpenAI()"
   ]
  },
  {
   "cell_type": "markdown",
   "id": "199db2b8-f9c2-42d2-b812-78ac3266a7d8",
   "metadata": {},
   "source": [
    "## 上傳 jsonl 檔案至 to OpenAI，至少要有10筆，不可有空白行"
   ]
  },
  {
   "cell_type": "code",
   "execution_count": 3,
   "id": "fe0716f7-d3b6-4408-980d-7a031d5927c4",
   "metadata": {},
   "outputs": [
    {
     "data": {
      "text/plain": [
       "FileObject(id='file-Q4d9Mv7iYv19J184KdMxd8', bytes=1682, created_at=1737204421, filename='chat_data.jsonl', object='file', purpose='fine-tune', status='processed', status_details=None)"
      ]
     },
     "execution_count": 3,
     "metadata": {},
     "output_type": "execute_result"
    }
   ],
   "source": [
    "# method 1\n",
    "file_obj = client.files.create(\n",
    "  file=open(\"chat_data.jsonl\", \"rb\"),\n",
    "  purpose=\"fine-tune\"\n",
    ")\n",
    "file_obj"
   ]
  },
  {
   "cell_type": "code",
   "execution_count": null,
   "id": "aa37160d-b593-4278-95b7-ddf859923342",
   "metadata": {},
   "outputs": [],
   "source": [
    "# method 2\n",
    "# 替換 @API-KEY 為你的 OpenAI API KEY\n",
    "!curl https://api.openai.com/v1/files -H \"Authorization: Bearer @API-KEY\" -F purpose=\"fine-tune\" -F file=\"@chat_data.jsonl\""
   ]
  },
  {
   "cell_type": "markdown",
   "id": "7a0f2f56-1e38-42e9-808a-a041982d1567",
   "metadata": {},
   "source": [
    "## 送出訓練任務(Job)"
   ]
  },
  {
   "cell_type": "code",
   "execution_count": 4,
   "id": "5799eceb-fa37-4029-89f2-aa9888087566",
   "metadata": {},
   "outputs": [
    {
     "data": {
      "text/plain": [
       "'file-Q4d9Mv7iYv19J184KdMxd8'"
      ]
     },
     "execution_count": 4,
     "metadata": {},
     "output_type": "execute_result"
    }
   ],
   "source": [
    "file_obj.id"
   ]
  },
  {
   "cell_type": "code",
   "execution_count": 5,
   "id": "a5affbaa-d240-4d41-bafb-136a904562c1",
   "metadata": {},
   "outputs": [
    {
     "data": {
      "text/plain": [
       "FineTuningJob(id='ftjob-dXKOOqljiGphAhO3fyJ0DOKD', created_at=1737204522, error=Error(code=None, message=None, param=None), fine_tuned_model=None, finished_at=None, hyperparameters=Hyperparameters(batch_size='auto', learning_rate_multiplier='auto', n_epochs='auto'), model='gpt-4o-mini-2024-07-18', object='fine_tuning.job', organization_id='org-8b5wOBmK82BeorSFOMxwOTtc', result_files=[], seed=668140145, status='validating_files', trained_tokens=None, training_file='file-Q4d9Mv7iYv19J184KdMxd8', validation_file=None, estimated_finish=None, integrations=[], method=Method(dpo=None, supervised=MethodSupervised(hyperparameters=MethodSupervisedHyperparameters(batch_size='auto', learning_rate_multiplier='auto', n_epochs='auto')), type='supervised'), user_provided_suffix=None)"
      ]
     },
     "execution_count": 5,
     "metadata": {},
     "output_type": "execute_result"
    }
   ],
   "source": [
    "job = client.fine_tuning.jobs.create(\n",
    "    training_file=file_obj.id,\n",
    "    model=\"gpt-4o-mini-2024-07-18\"\n",
    ")\n",
    "job"
   ]
  },
  {
   "cell_type": "markdown",
   "id": "c663d8de-d81d-48fb-9fcd-daed783c1fd1",
   "metadata": {},
   "source": [
    "## 查詢模型訓練狀態"
   ]
  },
  {
   "cell_type": "code",
   "execution_count": 10,
   "id": "a5493855-08fd-4604-822f-34a030ec646b",
   "metadata": {},
   "outputs": [
    {
     "data": {
      "text/plain": [
       "FineTuningJob(id='ftjob-dXKOOqljiGphAhO3fyJ0DOKD', created_at=1737204522, error=Error(code=None, message=None, param=None), fine_tuned_model='ft:gpt-4o-mini-2024-07-18:digibank::Ar2eGYCW', finished_at=1737204926, hyperparameters=Hyperparameters(batch_size=1, learning_rate_multiplier=1.8, n_epochs=10), model='gpt-4o-mini-2024-07-18', object='fine_tuning.job', organization_id='org-8b5wOBmK82BeorSFOMxwOTtc', result_files=['file-QiHGkkEQAFkJ3tUvRQKqnf'], seed=668140145, status='succeeded', trained_tokens=2690, training_file='file-Q4d9Mv7iYv19J184KdMxd8', validation_file=None, estimated_finish=None, integrations=[], method=Method(dpo=None, supervised=MethodSupervised(hyperparameters=MethodSupervisedHyperparameters(batch_size=1, learning_rate_multiplier=1.8, n_epochs=10)), type='supervised'), user_provided_suffix=None)"
      ]
     },
     "execution_count": 10,
     "metadata": {},
     "output_type": "execute_result"
    }
   ],
   "source": [
    "job = client.fine_tuning.jobs.retrieve(job.id)\n",
    "job"
   ]
  },
  {
   "cell_type": "code",
   "execution_count": null,
   "id": "7f1d722b-372b-4595-996d-91b3c37f1447",
   "metadata": {},
   "outputs": [],
   "source": [
    "## 取消訓練任務(Job)\n",
    "# client.fine_tuning.jobs.cancel(job.id)"
   ]
  },
  {
   "cell_type": "markdown",
   "id": "4e74d375-a875-4715-b37f-31788e724e33",
   "metadata": {},
   "source": [
    "## 模型推論"
   ]
  },
  {
   "cell_type": "code",
   "execution_count": 13,
   "id": "d8e9d200-4f99-4c2b-8ba5-be21a5be53ec",
   "metadata": {},
   "outputs": [
    {
     "name": "stdout",
     "output_type": "stream",
     "text": [
      "London, as if everyone doesn't know that already.\n"
     ]
    }
   ],
   "source": [
    "completion = client.chat.completions.create(\n",
    "    model=job.fine_tuned_model,\n",
    "    messages=[\n",
    "        # {\"role\": \"system\", \"content\": \"\"},\n",
    "        {\"role\": \"user\", \"content\": \"tell me the capital of UK.\"}\n",
    "    ]\n",
    ")\n",
    "\n",
    "print(completion.choices[0].message.content)"
   ]
  },
  {
   "cell_type": "markdown",
   "id": "9254cae5-008e-491e-aa6e-9bff4400cd8a",
   "metadata": {},
   "source": [
    "## 刪除模型"
   ]
  },
  {
   "cell_type": "code",
   "execution_count": null,
   "id": "39d2cd80-b421-4f90-8b4d-a4c89922c189",
   "metadata": {},
   "outputs": [
    {
     "data": {
      "text/plain": [
       "ModelDeleted(id='ft:gpt-4o-mini-2024-07-18:digibank::Ar2eGYCW', deleted=True, object='model')"
      ]
     },
     "execution_count": 14,
     "metadata": {},
     "output_type": "execute_result"
    }
   ],
   "source": [
    "client.models.delete(job.fine_tuned_model)"
   ]
  },
  {
   "cell_type": "markdown",
   "id": "3864d978-b11f-498d-a290-bdcc89e036dd",
   "metadata": {},
   "source": [
    "## 刪除已上傳的資料檔"
   ]
  },
  {
   "cell_type": "code",
   "execution_count": 15,
   "id": "1fcba3bd-0118-4fc7-9a10-3f7964903f36",
   "metadata": {},
   "outputs": [
    {
     "data": {
      "text/plain": [
       "FileDeleted(id='file-Q4d9Mv7iYv19J184KdMxd8', deleted=True, object='file')"
      ]
     },
     "execution_count": 15,
     "metadata": {},
     "output_type": "execute_result"
    }
   ],
   "source": [
    "client.files.delete(file_obj.id)"
   ]
  },
  {
   "cell_type": "code",
   "execution_count": null,
   "id": "8b449292-1923-43ba-a669-05dcd008c9ce",
   "metadata": {},
   "outputs": [],
   "source": []
  }
 ],
 "metadata": {
  "kernelspec": {
   "display_name": "Python 3 (ipykernel)",
   "language": "python",
   "name": "python3"
  },
  "language_info": {
   "codemirror_mode": {
    "name": "ipython",
    "version": 3
   },
   "file_extension": ".py",
   "mimetype": "text/x-python",
   "name": "python",
   "nbconvert_exporter": "python",
   "pygments_lexer": "ipython3",
   "version": "3.12.3"
  }
 },
 "nbformat": 4,
 "nbformat_minor": 5
}
