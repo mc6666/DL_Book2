{
 "cells": [
  {
   "cell_type": "markdown",
   "id": "009fd8dd-efaf-47e1-80fa-489dd22b498a",
   "metadata": {},
   "source": [
    "# 自訂Callback顯示學習率變化"
   ]
  },
  {
   "cell_type": "code",
   "execution_count": 16,
   "id": "f5e137c7-b26c-48e1-9e8f-35f9262386b2",
   "metadata": {},
   "outputs": [],
   "source": [
    "import math\n",
    "import tensorflow as tf\n",
    "from tensorflow.keras.models import Sequential\n",
    "from tensorflow.keras.layers import Dense\n",
    "from tensorflow.keras.optimizers import SGD, Adam\n",
    "from sklearn.preprocessing import LabelEncoder\n",
    "from tensorflow.keras.callbacks import LearningRateScheduler\n",
    "from tensorflow.keras.optimizers.schedules import ExponentialDecay\n",
    "import numpy as np\n",
    "import pandas as pd"
   ]
  },
  {
   "cell_type": "markdown",
   "id": "977c516f-5ef1-4bcb-8d6e-02d4d7c0c3fb",
   "metadata": {},
   "source": [
    "## 測試資料"
   ]
  },
  {
   "cell_type": "code",
   "execution_count": 18,
   "id": "2b4e7e3d-a5ae-41b2-b0f8-d1472bc400aa",
   "metadata": {},
   "outputs": [],
   "source": [
    "# load dataset\n",
    "dataframe = pd.read_csv(\"../data/ionosphere.csv\", header=None)\n",
    "dataset = dataframe.values\n",
    "# split into input (X) and output (Y) variables\n",
    "X = dataset[:,0:34].astype(float)\n",
    "Y = dataset[:,34]\n",
    "# encode class values as integers\n",
    "encoder = LabelEncoder()\n",
    "encoder.fit(Y)\n",
    "Y = encoder.transform(Y)"
   ]
  },
  {
   "cell_type": "markdown",
   "id": "1ba3f87a-d7e5-4bbe-bcad-97bbace795ae",
   "metadata": {},
   "source": [
    "## 迴歸模型"
   ]
  },
  {
   "cell_type": "code",
   "execution_count": 28,
   "id": "32c20d47-9b13-4809-a391-da2b8f307214",
   "metadata": {},
   "outputs": [],
   "source": [
    "model = tf.keras.models.Sequential([\n",
    "    tf.keras.layers.Input((34,)),\n",
    "    tf.keras.layers.Dense(20, activation='relu'),\n",
    "    tf.keras.layers.Dense(1, activation='sigmoid')\n",
    "])"
   ]
  },
  {
   "cell_type": "markdown",
   "id": "770bc64a-5a01-438e-bbab-1e30ec2a12b5",
   "metadata": {},
   "source": [
    "## 自訂Callback"
   ]
  },
  {
   "cell_type": "code",
   "execution_count": 29,
   "id": "0d72a0a4-4ae1-4ab8-a065-c392778debf1",
   "metadata": {},
   "outputs": [],
   "source": [
    "learning_rate_list = []\n",
    "class MyCallback(tf.keras.callbacks.Callback):\n",
    "    def on_epoch_end(self, epoch, epoch_logs):\n",
    "        learning_rate_list.append(self.model.optimizer._get_current_learning_rate().numpy())"
   ]
  },
  {
   "cell_type": "markdown",
   "id": "f9471134-fa51-4da9-82f7-12041bbad99b",
   "metadata": {},
   "source": [
    "## 設定優化器、學習率"
   ]
  },
  {
   "cell_type": "code",
   "execution_count": 30,
   "id": "63ac395d-459a-429b-93e0-aca28e5d0574",
   "metadata": {},
   "outputs": [],
   "source": [
    "# 設定學習率變化\n",
    "def get_lr_metric(optimizer):\n",
    "    def lr(y_true, y_pred):\n",
    "        # return optimizer.learning_rate\n",
    "        return optimizer._get_current_learning_rate() \n",
    "    # learning_rate_list.append(lr)\n",
    "    return lr\n",
    "\n",
    "def step_decay(epoch):\n",
    "    initial_lrate = 0.1\n",
    "    drop = 0.5\n",
    "    epochs_drop = 10.0\n",
    "    lrate = initial_lrate * math.pow(drop, math.floor((1+epoch)/epochs_drop))\n",
    "    learning_rate_list.append(lrate)\n",
    "    return lrate\n",
    "\n",
    "learning_rate=1e-1\n",
    "lr_schedule = tf.keras.optimizers.schedules.ExponentialDecay(\n",
    "    initial_learning_rate=learning_rate,\n",
    "    decay_steps=10,\n",
    "    decay_rate=0.9)\n",
    "optimizer = Adam(lr_schedule)  \n",
    "lr_metric = get_lr_metric(optimizer)\n",
    "\n",
    "# Compile model\n",
    "model.compile(loss='binary_crossentropy', optimizer=optimizer, \n",
    "    metrics=['accuracy', lr_metric])"
   ]
  },
  {
   "cell_type": "markdown",
   "id": "c139cab3-00a3-45c1-bfc5-464afafb8633",
   "metadata": {},
   "source": [
    "## 模型訓練"
   ]
  },
  {
   "cell_type": "code",
   "execution_count": 31,
   "id": "1e810d4f-d32f-4814-871b-b5067be657c2",
   "metadata": {},
   "outputs": [
    {
     "name": "stdout",
     "output_type": "stream",
     "text": [
      "Epoch 1/50\n",
      "\u001b[1m9/9\u001b[0m \u001b[32m━━━━━━━━━━━━━━━━━━━━\u001b[0m\u001b[37m\u001b[0m \u001b[1m1s\u001b[0m 23ms/step - accuracy: 0.7485 - loss: 0.6268 - lr: 0.0967 - val_accuracy: 0.9296 - val_loss: 0.2368 - val_lr: 0.0910\n",
      "Epoch 2/50\n",
      "\u001b[1m9/9\u001b[0m \u001b[32m━━━━━━━━━━━━━━━━━━━━\u001b[0m\u001b[37m\u001b[0m \u001b[1m0s\u001b[0m 5ms/step - accuracy: 0.9020 - loss: 0.2789 - lr: 0.0880 - val_accuracy: 0.9577 - val_loss: 0.1433 - val_lr: 0.0827\n",
      "Epoch 3/50\n",
      "\u001b[1m9/9\u001b[0m \u001b[32m━━━━━━━━━━━━━━━━━━━━\u001b[0m\u001b[37m\u001b[0m \u001b[1m0s\u001b[0m 5ms/step - accuracy: 0.9417 - loss: 0.1752 - lr: 0.0799 - val_accuracy: 1.0000 - val_loss: 0.0652 - val_lr: 0.0752\n",
      "Epoch 4/50\n",
      "\u001b[1m9/9\u001b[0m \u001b[32m━━━━━━━━━━━━━━━━━━━━\u001b[0m\u001b[37m\u001b[0m \u001b[1m0s\u001b[0m 5ms/step - accuracy: 0.9621 - loss: 0.1273 - lr: 0.0728 - val_accuracy: 0.9859 - val_loss: 0.1079 - val_lr: 0.0684\n",
      "Epoch 5/50\n",
      "\u001b[1m9/9\u001b[0m \u001b[32m━━━━━━━━━━━━━━━━━━━━\u001b[0m\u001b[37m\u001b[0m \u001b[1m0s\u001b[0m 6ms/step - accuracy: 0.9647 - loss: 0.1110 - lr: 0.0660 - val_accuracy: 1.0000 - val_loss: 0.0368 - val_lr: 0.0622\n",
      "Epoch 6/50\n",
      "\u001b[1m9/9\u001b[0m \u001b[32m━━━━━━━━━━━━━━━━━━━━\u001b[0m\u001b[37m\u001b[0m \u001b[1m0s\u001b[0m 5ms/step - accuracy: 0.9676 - loss: 0.1001 - lr: 0.0599 - val_accuracy: 1.0000 - val_loss: 0.0306 - val_lr: 0.0566\n",
      "Epoch 7/50\n",
      "\u001b[1m9/9\u001b[0m \u001b[32m━━━━━━━━━━━━━━━━━━━━\u001b[0m\u001b[37m\u001b[0m \u001b[1m0s\u001b[0m 4ms/step - accuracy: 0.9711 - loss: 0.0747 - lr: 0.0548 - val_accuracy: 1.0000 - val_loss: 0.0643 - val_lr: 0.0515\n",
      "Epoch 8/50\n",
      "\u001b[1m9/9\u001b[0m \u001b[32m━━━━━━━━━━━━━━━━━━━━\u001b[0m\u001b[37m\u001b[0m \u001b[1m0s\u001b[0m 5ms/step - accuracy: 0.9770 - loss: 0.1018 - lr: 0.0498 - val_accuracy: 1.0000 - val_loss: 0.0213 - val_lr: 0.0468\n",
      "Epoch 9/50\n",
      "\u001b[1m9/9\u001b[0m \u001b[32m━━━━━━━━━━━━━━━━━━━━\u001b[0m\u001b[37m\u001b[0m \u001b[1m0s\u001b[0m 5ms/step - accuracy: 0.9485 - loss: 0.1303 - lr: 0.0453 - val_accuracy: 1.0000 - val_loss: 0.0632 - val_lr: 0.0426\n",
      "Epoch 10/50\n",
      "\u001b[1m9/9\u001b[0m \u001b[32m━━━━━━━━━━━━━━━━━━━━\u001b[0m\u001b[37m\u001b[0m \u001b[1m0s\u001b[0m 5ms/step - accuracy: 0.9799 - loss: 0.0798 - lr: 0.0412 - val_accuracy: 1.0000 - val_loss: 0.0406 - val_lr: 0.0387\n",
      "Epoch 11/50\n",
      "\u001b[1m9/9\u001b[0m \u001b[32m━━━━━━━━━━━━━━━━━━━━\u001b[0m\u001b[37m\u001b[0m \u001b[1m0s\u001b[0m 5ms/step - accuracy: 0.9865 - loss: 0.0591 - lr: 0.0374 - val_accuracy: 1.0000 - val_loss: 0.0318 - val_lr: 0.0352\n",
      "Epoch 12/50\n",
      "\u001b[1m9/9\u001b[0m \u001b[32m━━━━━━━━━━━━━━━━━━━━\u001b[0m\u001b[37m\u001b[0m \u001b[1m0s\u001b[0m 4ms/step - accuracy: 0.9686 - loss: 0.0969 - lr: 0.0341 - val_accuracy: 1.0000 - val_loss: 0.0365 - val_lr: 0.0320\n",
      "Epoch 13/50\n",
      "\u001b[1m9/9\u001b[0m \u001b[32m━━━━━━━━━━━━━━━━━━━━\u001b[0m\u001b[37m\u001b[0m \u001b[1m0s\u001b[0m 5ms/step - accuracy: 0.9916 - loss: 0.0479 - lr: 0.0310 - val_accuracy: 1.0000 - val_loss: 0.0276 - val_lr: 0.0291\n",
      "Epoch 14/50\n",
      "\u001b[1m9/9\u001b[0m \u001b[32m━━━━━━━━━━━━━━━━━━━━\u001b[0m\u001b[37m\u001b[0m \u001b[1m0s\u001b[0m 5ms/step - accuracy: 0.9852 - loss: 0.0590 - lr: 0.0281 - val_accuracy: 1.0000 - val_loss: 0.0342 - val_lr: 0.0265\n",
      "Epoch 15/50\n",
      "\u001b[1m9/9\u001b[0m \u001b[32m━━━━━━━━━━━━━━━━━━━━\u001b[0m\u001b[37m\u001b[0m \u001b[1m0s\u001b[0m 4ms/step - accuracy: 0.9878 - loss: 0.0538 - lr: 0.0256 - val_accuracy: 1.0000 - val_loss: 0.0288 - val_lr: 0.0241\n",
      "Epoch 16/50\n",
      "\u001b[1m9/9\u001b[0m \u001b[32m━━━━━━━━━━━━━━━━━━━━\u001b[0m\u001b[37m\u001b[0m \u001b[1m0s\u001b[0m 5ms/step - accuracy: 0.9881 - loss: 0.0584 - lr: 0.0233 - val_accuracy: 1.0000 - val_loss: 0.0245 - val_lr: 0.0219\n",
      "Epoch 17/50\n",
      "\u001b[1m9/9\u001b[0m \u001b[32m━━━━━━━━━━━━━━━━━━━━\u001b[0m\u001b[37m\u001b[0m \u001b[1m0s\u001b[0m 5ms/step - accuracy: 0.9925 - loss: 0.0420 - lr: 0.0212 - val_accuracy: 1.0000 - val_loss: 0.0255 - val_lr: 0.0199\n",
      "Epoch 18/50\n",
      "\u001b[1m9/9\u001b[0m \u001b[32m━━━━━━━━━━━━━━━━━━━━\u001b[0m\u001b[37m\u001b[0m \u001b[1m0s\u001b[0m 6ms/step - accuracy: 0.9918 - loss: 0.0394 - lr: 0.0192 - val_accuracy: 1.0000 - val_loss: 0.0324 - val_lr: 0.0181\n",
      "Epoch 19/50\n",
      "\u001b[1m9/9\u001b[0m \u001b[32m━━━━━━━━━━━━━━━━━━━━\u001b[0m\u001b[37m\u001b[0m \u001b[1m0s\u001b[0m 5ms/step - accuracy: 0.9919 - loss: 0.0454 - lr: 0.0175 - val_accuracy: 1.0000 - val_loss: 0.0306 - val_lr: 0.0165\n",
      "Epoch 20/50\n",
      "\u001b[1m9/9\u001b[0m \u001b[32m━━━━━━━━━━━━━━━━━━━━\u001b[0m\u001b[37m\u001b[0m \u001b[1m0s\u001b[0m 6ms/step - accuracy: 0.9903 - loss: 0.0428 - lr: 0.0159 - val_accuracy: 1.0000 - val_loss: 0.0285 - val_lr: 0.0150\n",
      "Epoch 21/50\n",
      "\u001b[1m9/9\u001b[0m \u001b[32m━━━━━━━━━━━━━━━━━━━━\u001b[0m\u001b[37m\u001b[0m \u001b[1m0s\u001b[0m 5ms/step - accuracy: 0.9842 - loss: 0.0599 - lr: 0.0145 - val_accuracy: 1.0000 - val_loss: 0.0286 - val_lr: 0.0137\n",
      "Epoch 22/50\n",
      "\u001b[1m9/9\u001b[0m \u001b[32m━━━━━━━━━━━━━━━━━━━━\u001b[0m\u001b[37m\u001b[0m \u001b[1m0s\u001b[0m 5ms/step - accuracy: 0.9873 - loss: 0.0506 - lr: 0.0132 - val_accuracy: 1.0000 - val_loss: 0.0269 - val_lr: 0.0124\n",
      "Epoch 23/50\n",
      "\u001b[1m9/9\u001b[0m \u001b[32m━━━━━━━━━━━━━━━━━━━━\u001b[0m\u001b[37m\u001b[0m \u001b[1m0s\u001b[0m 6ms/step - accuracy: 0.9905 - loss: 0.0434 - lr: 0.0120 - val_accuracy: 1.0000 - val_loss: 0.0273 - val_lr: 0.0113\n",
      "Epoch 24/50\n",
      "\u001b[1m9/9\u001b[0m \u001b[32m━━━━━━━━━━━━━━━━━━━━\u001b[0m\u001b[37m\u001b[0m \u001b[1m0s\u001b[0m 19ms/step - accuracy: 0.9928 - loss: 0.0319 - lr: 0.0109 - val_accuracy: 1.0000 - val_loss: 0.0253 - val_lr: 0.0103\n",
      "Epoch 25/50\n",
      "\u001b[1m9/9\u001b[0m \u001b[32m━━━━━━━━━━━━━━━━━━━━\u001b[0m\u001b[37m\u001b[0m \u001b[1m0s\u001b[0m 5ms/step - accuracy: 0.9864 - loss: 0.0492 - lr: 0.0099 - val_accuracy: 1.0000 - val_loss: 0.0274 - val_lr: 0.0093\n",
      "Epoch 26/50\n",
      "\u001b[1m9/9\u001b[0m \u001b[32m━━━━━━━━━━━━━━━━━━━━\u001b[0m\u001b[37m\u001b[0m \u001b[1m0s\u001b[0m 4ms/step - accuracy: 0.9895 - loss: 0.0439 - lr: 0.0090 - val_accuracy: 1.0000 - val_loss: 0.0273 - val_lr: 0.0085\n",
      "Epoch 27/50\n",
      "\u001b[1m9/9\u001b[0m \u001b[32m━━━━━━━━━━━━━━━━━━━━\u001b[0m\u001b[37m\u001b[0m \u001b[1m0s\u001b[0m 5ms/step - accuracy: 0.9818 - loss: 0.0558 - lr: 0.0082 - val_accuracy: 1.0000 - val_loss: 0.0282 - val_lr: 0.0077\n",
      "Epoch 28/50\n",
      "\u001b[1m9/9\u001b[0m \u001b[32m━━━━━━━━━━━━━━━━━━━━\u001b[0m\u001b[37m\u001b[0m \u001b[1m0s\u001b[0m 5ms/step - accuracy: 0.9934 - loss: 0.0320 - lr: 0.0075 - val_accuracy: 1.0000 - val_loss: 0.0255 - val_lr: 0.0070\n",
      "Epoch 29/50\n",
      "\u001b[1m9/9\u001b[0m \u001b[32m━━━━━━━━━━━━━━━━━━━━\u001b[0m\u001b[37m\u001b[0m \u001b[1m0s\u001b[0m 5ms/step - accuracy: 0.9858 - loss: 0.0451 - lr: 0.0068 - val_accuracy: 1.0000 - val_loss: 0.0252 - val_lr: 0.0064\n",
      "Epoch 30/50\n",
      "\u001b[1m9/9\u001b[0m \u001b[32m━━━━━━━━━━━━━━━━━━━━\u001b[0m\u001b[37m\u001b[0m \u001b[1m0s\u001b[0m 5ms/step - accuracy: 0.9899 - loss: 0.0406 - lr: 0.0062 - val_accuracy: 1.0000 - val_loss: 0.0250 - val_lr: 0.0058\n",
      "Epoch 31/50\n",
      "\u001b[1m9/9\u001b[0m \u001b[32m━━━━━━━━━━━━━━━━━━━━\u001b[0m\u001b[37m\u001b[0m \u001b[1m0s\u001b[0m 5ms/step - accuracy: 0.9923 - loss: 0.0299 - lr: 0.0056 - val_accuracy: 1.0000 - val_loss: 0.0252 - val_lr: 0.0053\n",
      "Epoch 32/50\n",
      "\u001b[1m9/9\u001b[0m \u001b[32m━━━━━━━━━━━━━━━━━━━━\u001b[0m\u001b[37m\u001b[0m \u001b[1m0s\u001b[0m 5ms/step - accuracy: 0.9905 - loss: 0.0390 - lr: 0.0051 - val_accuracy: 1.0000 - val_loss: 0.0256 - val_lr: 0.0048\n",
      "Epoch 33/50\n",
      "\u001b[1m9/9\u001b[0m \u001b[32m━━━━━━━━━━━━━━━━━━━━\u001b[0m\u001b[37m\u001b[0m \u001b[1m0s\u001b[0m 5ms/step - accuracy: 0.9901 - loss: 0.0360 - lr: 0.0047 - val_accuracy: 1.0000 - val_loss: 0.0257 - val_lr: 0.0044\n",
      "Epoch 34/50\n",
      "\u001b[1m9/9\u001b[0m \u001b[32m━━━━━━━━━━━━━━━━━━━━\u001b[0m\u001b[37m\u001b[0m \u001b[1m0s\u001b[0m 4ms/step - accuracy: 0.9907 - loss: 0.0302 - lr: 0.0042 - val_accuracy: 1.0000 - val_loss: 0.0252 - val_lr: 0.0040\n",
      "Epoch 35/50\n",
      "\u001b[1m9/9\u001b[0m \u001b[32m━━━━━━━━━━━━━━━━━━━━\u001b[0m\u001b[37m\u001b[0m \u001b[1m0s\u001b[0m 5ms/step - accuracy: 0.9825 - loss: 0.0469 - lr: 0.0038 - val_accuracy: 1.0000 - val_loss: 0.0252 - val_lr: 0.0036\n",
      "Epoch 36/50\n",
      "\u001b[1m9/9\u001b[0m \u001b[32m━━━━━━━━━━━━━━━━━━━━\u001b[0m\u001b[37m\u001b[0m \u001b[1m0s\u001b[0m 5ms/step - accuracy: 0.9875 - loss: 0.0393 - lr: 0.0035 - val_accuracy: 1.0000 - val_loss: 0.0256 - val_lr: 0.0033\n",
      "Epoch 37/50\n",
      "\u001b[1m9/9\u001b[0m \u001b[32m━━━━━━━━━━━━━━━━━━━━\u001b[0m\u001b[37m\u001b[0m \u001b[1m0s\u001b[0m 5ms/step - accuracy: 0.9877 - loss: 0.0354 - lr: 0.0032 - val_accuracy: 1.0000 - val_loss: 0.0251 - val_lr: 0.0030\n",
      "Epoch 38/50\n",
      "\u001b[1m9/9\u001b[0m \u001b[32m━━━━━━━━━━━━━━━━━━━━\u001b[0m\u001b[37m\u001b[0m \u001b[1m0s\u001b[0m 5ms/step - accuracy: 0.9906 - loss: 0.0309 - lr: 0.0029 - val_accuracy: 1.0000 - val_loss: 0.0246 - val_lr: 0.0027\n",
      "Epoch 39/50\n",
      "\u001b[1m9/9\u001b[0m \u001b[32m━━━━━━━━━━━━━━━━━━━━\u001b[0m\u001b[37m\u001b[0m \u001b[1m0s\u001b[0m 5ms/step - accuracy: 0.9847 - loss: 0.0569 - lr: 0.0026 - val_accuracy: 1.0000 - val_loss: 0.0250 - val_lr: 0.0025\n",
      "Epoch 40/50\n",
      "\u001b[1m9/9\u001b[0m \u001b[32m━━━━━━━━━━━━━━━━━━━━\u001b[0m\u001b[37m\u001b[0m \u001b[1m0s\u001b[0m 6ms/step - accuracy: 0.9898 - loss: 0.0366 - lr: 0.0024 - val_accuracy: 1.0000 - val_loss: 0.0252 - val_lr: 0.0023\n",
      "Epoch 41/50\n",
      "\u001b[1m9/9\u001b[0m \u001b[32m━━━━━━━━━━━━━━━━━━━━\u001b[0m\u001b[37m\u001b[0m \u001b[1m0s\u001b[0m 5ms/step - accuracy: 0.9815 - loss: 0.0601 - lr: 0.0022 - val_accuracy: 1.0000 - val_loss: 0.0256 - val_lr: 0.0020\n",
      "Epoch 42/50\n",
      "\u001b[1m9/9\u001b[0m \u001b[32m━━━━━━━━━━━━━━━━━━━━\u001b[0m\u001b[37m\u001b[0m \u001b[1m0s\u001b[0m 6ms/step - accuracy: 0.9789 - loss: 0.0630 - lr: 0.0020 - val_accuracy: 1.0000 - val_loss: 0.0256 - val_lr: 0.0019\n",
      "Epoch 43/50\n",
      "\u001b[1m9/9\u001b[0m \u001b[32m━━━━━━━━━━━━━━━━━━━━\u001b[0m\u001b[37m\u001b[0m \u001b[1m0s\u001b[0m 5ms/step - accuracy: 0.9934 - loss: 0.0349 - lr: 0.0018 - val_accuracy: 1.0000 - val_loss: 0.0246 - val_lr: 0.0017\n",
      "Epoch 44/50\n",
      "\u001b[1m9/9\u001b[0m \u001b[32m━━━━━━━━━━━━━━━━━━━━\u001b[0m\u001b[37m\u001b[0m \u001b[1m0s\u001b[0m 5ms/step - accuracy: 0.9879 - loss: 0.0387 - lr: 0.0016 - val_accuracy: 1.0000 - val_loss: 0.0249 - val_lr: 0.0015\n",
      "Epoch 45/50\n",
      "\u001b[1m9/9\u001b[0m \u001b[32m━━━━━━━━━━━━━━━━━━━━\u001b[0m\u001b[37m\u001b[0m \u001b[1m0s\u001b[0m 5ms/step - accuracy: 0.9866 - loss: 0.0475 - lr: 0.0015 - val_accuracy: 1.0000 - val_loss: 0.0248 - val_lr: 0.0014\n",
      "Epoch 46/50\n",
      "\u001b[1m9/9\u001b[0m \u001b[32m━━━━━━━━━━━━━━━━━━━━\u001b[0m\u001b[37m\u001b[0m \u001b[1m0s\u001b[0m 4ms/step - accuracy: 0.9802 - loss: 0.0591 - lr: 0.0014 - val_accuracy: 1.0000 - val_loss: 0.0248 - val_lr: 0.0013\n",
      "Epoch 47/50\n",
      "\u001b[1m9/9\u001b[0m \u001b[32m━━━━━━━━━━━━━━━━━━━━\u001b[0m\u001b[37m\u001b[0m \u001b[1m0s\u001b[0m 4ms/step - accuracy: 0.9970 - loss: 0.0226 - lr: 0.0012 - val_accuracy: 1.0000 - val_loss: 0.0242 - val_lr: 0.0012\n",
      "Epoch 48/50\n",
      "\u001b[1m9/9\u001b[0m \u001b[32m━━━━━━━━━━━━━━━━━━━━\u001b[0m\u001b[37m\u001b[0m \u001b[1m0s\u001b[0m 5ms/step - accuracy: 0.9860 - loss: 0.0474 - lr: 0.0011 - val_accuracy: 1.0000 - val_loss: 0.0245 - val_lr: 0.0011\n",
      "Epoch 49/50\n",
      "\u001b[1m9/9\u001b[0m \u001b[32m━━━━━━━━━━━━━━━━━━━━\u001b[0m\u001b[37m\u001b[0m \u001b[1m0s\u001b[0m 5ms/step - accuracy: 0.9884 - loss: 0.0436 - lr: 0.0010 - val_accuracy: 1.0000 - val_loss: 0.0246 - val_lr: 9.5961e-04\n",
      "Epoch 50/50\n",
      "\u001b[1m9/9\u001b[0m \u001b[32m━━━━━━━━━━━━━━━━━━━━\u001b[0m\u001b[37m\u001b[0m \u001b[1m0s\u001b[0m 5ms/step - accuracy: 0.9832 - loss: 0.0534 - lr: 9.2804e-04 - val_accuracy: 1.0000 - val_loss: 0.0247 - val_lr: 8.7280e-04\n"
     ]
    }
   ],
   "source": [
    "history = model.fit(X, Y, epochs=50, validation_split=0.2, callbacks = [MyCallback()])"
   ]
  },
  {
   "cell_type": "code",
   "execution_count": 32,
   "id": "7a1e796d-f1ae-43ba-84d5-70b64f33b5c8",
   "metadata": {},
   "outputs": [
    {
     "name": "stdout",
     "output_type": "stream",
     "text": [
      "[0.09095325, 0.08272495, 0.07524103, 0.06843417, 0.062243104, 0.05661213, 0.051490575, 0.046832357, 0.042595547, 0.03874204, 0.03523715, 0.03204933, 0.02914991, 0.026512792, 0.02411425, 0.021932695, 0.0199485, 0.018143808, 0.016502386, 0.015009457, 0.01365159, 0.012416566, 0.011293269, 0.010271597, 0.009342352, 0.008497174, 0.007728456, 0.007029281, 0.0063933604, 0.0058149695, 0.005288904, 0.004810431, 0.004375243, 0.003979426, 0.0036194175, 0.0032919776, 0.0029941616, 0.0027232869, 0.0024769187, 0.0022528379, 0.002049029, 0.001863659, 0.0016950583, 0.001541711, 0.0014022362, 0.0012753792, 0.0011599993, 0.0010550569, 0.0009596088, 0.0008727953]\n"
     ]
    }
   ],
   "source": [
    "print(learning_rate_list)"
   ]
  },
  {
   "cell_type": "code",
   "execution_count": 34,
   "id": "e0d25799-0dc0-42b0-a98f-bf7eb9917557",
   "metadata": {},
   "outputs": [
    {
     "data": {
      "image/png": "[encoded data removed]",
      "text/plain": [
       "<Figure size 640x480 with 1 Axes>"
      ]
     },
     "metadata": {},
     "output_type": "display_data"
    }
   ],
   "source": [
    "import matplotlib.pyplot as plt\n",
    "\n",
    "plt.title('Learning rate changes')\n",
    "plt.ylabel('Learning rate')\n",
    "plt.plot(range(1, len(learning_rate_list)+1), learning_rate_list, 5)\n",
    "plt.ylim(learning_rate/100., learning_rate)\n",
    "plt.show()"
   ]
  },
  {
   "cell_type": "code",
   "execution_count": null,
   "id": "fc195f83-a19a-4d08-930e-59b76b86c72d",
   "metadata": {},
   "outputs": [],
   "source": []
  }
 ],
 "metadata": {
  "kernelspec": {
   "display_name": "Python 3 (ipykernel)",
   "language": "python",
   "name": "python3"
  },
  "language_info": {
   "codemirror_mode": {
    "name": "ipython",
    "version": 3
   },
   "file_extension": ".py",
   "mimetype": "text/x-python",
   "name": "python",
   "nbconvert_exporter": "python",
   "pygments_lexer": "ipython3",
   "version": "3.12.7"
  }
 },
 "nbformat": 4,
 "nbformat_minor": 5
}
