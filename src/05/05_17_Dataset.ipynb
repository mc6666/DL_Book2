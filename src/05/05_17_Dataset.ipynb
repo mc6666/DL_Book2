{
 "cells": [
  {
   "cell_type": "markdown",
   "metadata": {},
   "source": [
    "# TensorFlow Dataset 測試"
   ]
  },
  {
   "cell_type": "markdown",
   "metadata": {},
   "source": [
    "## 程式參考來源：\n",
    "- https://www.tensorflow.org/guide/data\n",
    "- https://www.tensorflow.org/api_docs/python/tf/data/Dataset\n",
    "- https://www.tensorflow.org/guide/data_performance\n",
    "- https://www.tensorflow.org/tutorials/keras/text_classification"
   ]
  },
  {
   "cell_type": "markdown",
   "metadata": {},
   "source": [
    "## 範例1. 自 list 轉入 Dataset"
   ]
  },
  {
   "cell_type": "code",
   "execution_count": 1,
   "metadata": {},
   "outputs": [],
   "source": [
    "import tensorflow as tf\n",
    "\n",
    "# 自 list 轉入\n",
    "dataset = tf.data.Dataset.from_tensor_slices([8, 3, 0, 8, 2, 1])"
   ]
  },
  {
   "cell_type": "markdown",
   "metadata": {},
   "source": [
    "## 取出所有資料"
   ]
  },
  {
   "cell_type": "code",
   "execution_count": 2,
   "metadata": {},
   "outputs": [
    {
     "name": "stdout",
     "output_type": "stream",
     "text": [
      "8\n",
      "3\n",
      "0\n",
      "8\n",
      "2\n",
      "1\n"
     ]
    }
   ],
   "source": [
    "# 使用 for 迴圈可自 Dataset 取出所有資料\n",
    "for elem in dataset:\n",
    "    print(elem.numpy())"
   ]
  },
  {
   "cell_type": "markdown",
   "metadata": {},
   "source": [
    "## 取出所有資料"
   ]
  },
  {
   "cell_type": "code",
   "execution_count": 3,
   "metadata": {},
   "outputs": [
    {
     "name": "stdout",
     "output_type": "stream",
     "text": [
      "8\n",
      "3\n"
     ]
    }
   ],
   "source": [
    "# 轉成 iterator\n",
    "it = iter(dataset)\n",
    "\n",
    "# 一次取一筆\n",
    "print(next(it).numpy())\n",
    "print(next(it).numpy())"
   ]
  },
  {
   "cell_type": "markdown",
   "metadata": {},
   "source": [
    "## 範例2. 依照維度小計(reduce)"
   ]
  },
  {
   "cell_type": "code",
   "execution_count": 4,
   "metadata": {},
   "outputs": [
    {
     "name": "stdout",
     "output_type": "stream",
     "text": [
      "15\n"
     ]
    }
   ],
   "source": [
    "# 依照維度小計(reduce)\n",
    "import numpy as np\n",
    "\n",
    "# 一維資料\n",
    "ds = tf.data.Dataset.from_tensor_slices([1, 2, 3, 4, 5]) \n",
    "\n",
    "initial_state=0    # 起始值\n",
    "print(ds.reduce(initial_state, lambda state, value: state + value).numpy()) "
   ]
  },
  {
   "cell_type": "code",
   "execution_count": 5,
   "metadata": {},
   "outputs": [
    {
     "name": "stdout",
     "output_type": "stream",
     "text": [
      "[ 7  9 11 13 15]\n"
     ]
    }
   ],
   "source": [
    "# 依照第一維度小計(reduce)\n",
    "import numpy as np\n",
    "\n",
    "# 二維資料\n",
    "ds = tf.data.Dataset.from_tensor_slices(np.arange(1,11).reshape(2,5)) \n",
    "\n",
    "initial_state=0    # 起始值\n",
    "print(ds.reduce(initial_state, lambda state, value: state + value).numpy()) "
   ]
  },
  {
   "cell_type": "code",
   "execution_count": 6,
   "metadata": {
    "scrolled": true
   },
   "outputs": [
    {
     "name": "stdout",
     "output_type": "stream",
     "text": [
      "原始資料:\n",
      " [[[ 1  2  3]\n",
      "  [ 4  5  6]]\n",
      "\n",
      " [[ 7  8  9]\n",
      "  [10 11 12]]] \n",
      "\n",
      "計算結果:\n",
      " [[ 8 10 12]\n",
      " [14 16 18]]\n"
     ]
    }
   ],
   "source": [
    "# 依照第一維度小計(reduce)\n",
    "import numpy as np\n",
    "\n",
    "# 三維資料\n",
    "ds = tf.data.Dataset.from_tensor_slices(np.arange(1,13).reshape(2,2,3)) \n",
    "\n",
    "print('原始資料:\\n', np.arange(1,13).reshape(2,2,3), '\\n')\n",
    "\n",
    "initial_state=0    # 起始值\n",
    "print('計算結果:\\n', ds.reduce(initial_state, lambda state, value: state + value).numpy()) "
   ]
  },
  {
   "cell_type": "markdown",
   "metadata": {},
   "source": [
    "## 範例3. 對每個元素應用函數(map)"
   ]
  },
  {
   "cell_type": "code",
   "execution_count": 7,
   "metadata": {},
   "outputs": [
    {
     "name": "stdout",
     "output_type": "stream",
     "text": [
      "[2, 4, 6, 8, 10]\n"
     ]
    }
   ],
   "source": [
    "# 對每個元素應用函數(map)\n",
    "import numpy as np\n",
    "\n",
    "# 測試資料\n",
    "ds = tf.data.Dataset.from_tensor_slices([1, 2, 3, 4, 5]) \n",
    "\n",
    "# 對每個元素應用函數(map)\n",
    "ds = ds.map(lambda x: x * 2)\n",
    "\n",
    "# 轉成 iterator，再顯示\n",
    "print(list(ds.as_numpy_iterator())) "
   ]
  },
  {
   "cell_type": "markdown",
   "metadata": {},
   "source": [
    "## 範例4. 過濾(filter)"
   ]
  },
  {
   "cell_type": "code",
   "execution_count": 8,
   "metadata": {},
   "outputs": [
    {
     "name": "stdout",
     "output_type": "stream",
     "text": [
      "[2, 4]\n"
     ]
    }
   ],
   "source": [
    "# 過濾(filter)\n",
    "import numpy as np\n",
    "\n",
    "# 測試資料\n",
    "ds = tf.data.Dataset.from_tensor_slices([1, 2, 3, 4, 5]) \n",
    "\n",
    "# 對每個元素應用函數(map)\n",
    "ds = ds.filter(lambda x: x % 2 == 0)\n",
    "\n",
    "# 轉成 iterator，再顯示\n",
    "print(list(ds.as_numpy_iterator())) "
   ]
  },
  {
   "cell_type": "markdown",
   "metadata": {},
   "source": [
    "## 範例 5. 資料複製(repeat)"
   ]
  },
  {
   "cell_type": "code",
   "execution_count": 9,
   "metadata": {},
   "outputs": [
    {
     "name": "stdout",
     "output_type": "stream",
     "text": [
      "[1, 2, 3, 4, 5, 1, 2, 3, 4, 5, 1, 2, 3, 4, 5]\n"
     ]
    }
   ],
   "source": [
    "# 資料複製(repeat)\n",
    "import numpy as np\n",
    "\n",
    "# 測試資料\n",
    "ds = tf.data.Dataset.from_tensor_slices([1, 2, 3, 4, 5]) \n",
    "\n",
    "# 重複 3 次\n",
    "ds = ds.repeat(3)\n",
    "\n",
    "# 轉成 iterator，再顯示\n",
    "print(list(ds.as_numpy_iterator())) "
   ]
  },
  {
   "cell_type": "markdown",
   "metadata": {},
   "source": [
    "## 範例6. Dataset分片(Shard)：將資料依固定間隔取樣"
   ]
  },
  {
   "cell_type": "code",
   "execution_count": 10,
   "metadata": {},
   "outputs": [
    {
     "name": "stdout",
     "output_type": "stream",
     "text": [
      "原始資料:\n",
      " [0, 1, 2, 3, 4, 5, 6, 7, 8, 9, 10]\n",
      "\n",
      "計算結果:\n",
      " [0, 3, 6, 9]\n"
     ]
    }
   ],
   "source": [
    "# 分片(Shard)\n",
    "import numpy as np\n",
    "\n",
    "# 測試資料：0~10\n",
    "ds = tf.data.Dataset.range(11)\n",
    "print('原始資料:\\n', list(ds.as_numpy_iterator())) \n",
    "\n",
    "# 每 3 筆間隔取樣一筆，從第一筆開始\n",
    "ds = ds.shard(num_shards=3, index=0)\n",
    "\n",
    "# 轉成 iterator，再顯示\n",
    "print('\\n計算結果:\\n', list(ds.as_numpy_iterator())) "
   ]
  },
  {
   "cell_type": "markdown",
   "metadata": {},
   "source": [
    "## 範例7. 將MNIST資料轉入Dataset"
   ]
  },
  {
   "cell_type": "code",
   "execution_count": 11,
   "metadata": {},
   "outputs": [
    {
     "name": "stdout",
     "output_type": "stream",
     "text": [
      "<_TensorSliceDataset element_spec=(TensorSpec(shape=(28, 28), dtype=tf.float64, name=None), TensorSpec(shape=(), dtype=tf.uint8, name=None))>\n"
     ]
    }
   ],
   "source": [
    "import tensorflow as tf\n",
    "\n",
    "mnist = tf.keras.datasets.mnist\n",
    "\n",
    "# 載入 MNIST 手寫阿拉伯數字資料\n",
    "(x_train, y_train),(x_test, y_test) = mnist.load_data()\n",
    "\n",
    "# 特徵縮放，使用常態化(Normalization)，公式 = (x - min) / (max - min)\n",
    "x_train_norm, x_test_norm = x_train / 255.0, x_test / 255.0\n",
    "\n",
    "# 轉為 Dataset，含 X/Y 資料\n",
    "dataset = tf.data.Dataset.from_tensor_slices((x_train_norm, y_train))\n",
    "print(dataset)"
   ]
  },
  {
   "cell_type": "markdown",
   "metadata": {},
   "source": [
    "## 逐批取資料"
   ]
  },
  {
   "cell_type": "code",
   "execution_count": 12,
   "metadata": {
    "scrolled": true
   },
   "outputs": [
    {
     "name": "stdout",
     "output_type": "stream",
     "text": [
      "(1000, 28, 28)\n",
      "tf.Tensor(\n",
      "[[0.         0.         0.         0.         0.         0.\n",
      "  0.         0.         0.         0.         0.         0.\n",
      "  0.         0.         0.         0.         0.         0.\n",
      "  0.         0.         0.         0.         0.         0.\n",
      "  0.         0.         0.         0.        ]\n",
      " [0.         0.         0.         0.         0.         0.\n",
      "  0.         0.         0.         0.         0.         0.\n",
      "  0.         0.         0.         0.         0.         0.\n",
      "  0.         0.         0.         0.         0.         0.\n",
      "  0.         0.         0.         0.        ]\n",
      " [0.         0.         0.         0.         0.         0.\n",
      "  0.         0.         0.         0.         0.         0.\n",
      "  0.         0.         0.         0.         0.         0.\n",
      "  0.         0.         0.         0.         0.         0.\n",
      "  0.         0.         0.         0.        ]\n",
      " [0.         0.         0.         0.         0.         0.\n",
      "  0.         0.         0.         0.         0.         0.\n",
      "  0.         0.         0.         0.         0.         0.\n",
      "  0.         0.         0.         0.         0.         0.\n",
      "  0.         0.         0.         0.        ]\n",
      " [0.         0.         0.         0.         0.         0.\n",
      "  0.         0.         0.         0.         0.         0.\n",
      "  0.         0.         0.         0.         0.         0.\n",
      "  0.         0.         0.         0.         0.         0.\n",
      "  0.         0.         0.         0.        ]\n",
      " [0.         0.         0.         0.         0.         0.\n",
      "  0.         0.         0.         0.         0.         0.\n",
      "  0.         0.         0.         0.         0.         0.\n",
      "  0.         0.         0.         0.         0.         0.\n",
      "  0.         0.         0.         0.        ]\n",
      " [0.         0.         0.         0.         0.         0.\n",
      "  0.         0.         0.         0.         0.         0.\n",
      "  0.         0.         0.         0.         0.         0.\n",
      "  0.         0.         0.         0.         0.         0.\n",
      "  0.         0.         0.         0.        ]\n",
      " [0.         0.         0.         0.         0.         0.\n",
      "  0.         0.         0.05098039 0.41568627 0.41568627 0.34117647\n",
      "  0.         0.         0.09803922 0.41568627 0.69019608 0.99607843\n",
      "  0.92941176 0.19607843 0.         0.         0.         0.\n",
      "  0.         0.         0.         0.        ]\n",
      " [0.         0.         0.         0.         0.         0.\n",
      "  0.11372549 0.23921569 0.67058824 0.99215686 0.99215686 0.96078431\n",
      "  0.81960784 0.82745098 0.8627451  0.99215686 0.99215686 0.99215686\n",
      "  0.96470588 0.35686275 0.         0.         0.         0.\n",
      "  0.         0.         0.         0.        ]\n",
      " [0.         0.         0.         0.         0.         0.\n",
      "  0.4745098  0.99215686 0.99215686 0.99215686 0.99215686 0.99215686\n",
      "  0.99215686 0.99607843 0.94509804 0.93333333 0.93333333 0.98431373\n",
      "  0.8745098  0.         0.         0.         0.         0.\n",
      "  0.         0.         0.         0.        ]\n",
      " [0.         0.         0.         0.         0.         0.\n",
      "  0.4745098  0.99215686 0.99215686 0.99215686 0.99215686 0.90980392\n",
      "  0.52156863 0.5254902  0.09019608 0.         0.         0.87843137\n",
      "  0.8745098  0.         0.         0.         0.         0.\n",
      "  0.         0.         0.         0.        ]\n",
      " [0.         0.         0.         0.         0.         0.\n",
      "  0.4745098  0.99215686 0.99215686 0.83529412 0.14509804 0.09411765\n",
      "  0.         0.         0.         0.         0.41960784 0.98039216\n",
      "  0.8745098  0.         0.         0.         0.         0.\n",
      "  0.         0.         0.         0.        ]\n",
      " [0.         0.         0.         0.         0.         0.\n",
      "  0.4745098  0.99215686 0.99215686 0.46666667 0.         0.\n",
      "  0.         0.         0.         0.         0.4745098  0.99215686\n",
      "  0.8745098  0.         0.         0.         0.         0.\n",
      "  0.         0.         0.         0.        ]\n",
      " [0.         0.         0.         0.         0.         0.\n",
      "  0.22352941 0.61960784 0.61568627 0.21960784 0.         0.\n",
      "  0.         0.         0.         0.03137255 0.74901961 0.99215686\n",
      "  0.8745098  0.         0.         0.         0.         0.\n",
      "  0.         0.         0.         0.        ]\n",
      " [0.         0.         0.         0.         0.         0.\n",
      "  0.         0.01568627 0.01568627 0.         0.         0.\n",
      "  0.         0.         0.         0.0627451  0.99215686 0.99215686\n",
      "  0.8745098  0.         0.         0.         0.         0.\n",
      "  0.         0.         0.         0.        ]\n",
      " [0.         0.         0.         0.         0.         0.\n",
      "  0.         0.         0.         0.         0.         0.\n",
      "  0.         0.         0.         0.05882353 0.99215686 0.99215686\n",
      "  0.8745098  0.         0.         0.         0.         0.\n",
      "  0.         0.         0.         0.        ]\n",
      " [0.         0.         0.         0.         0.         0.\n",
      "  0.         0.         0.         0.         0.         0.\n",
      "  0.         0.         0.         0.05882353 0.99215686 0.99215686\n",
      "  0.8745098  0.         0.         0.         0.         0.\n",
      "  0.         0.         0.         0.        ]\n",
      " [0.         0.         0.         0.         0.         0.\n",
      "  0.         0.         0.         0.         0.         0.\n",
      "  0.         0.         0.         0.64705882 1.         0.99607843\n",
      "  0.29019608 0.         0.         0.         0.         0.\n",
      "  0.         0.         0.         0.        ]\n",
      " [0.         0.         0.         0.         0.         0.\n",
      "  0.         0.         0.         0.         0.         0.\n",
      "  0.         0.         0.         0.64313725 0.99215686 0.99215686\n",
      "  0.29019608 0.         0.         0.         0.         0.\n",
      "  0.         0.         0.         0.        ]\n",
      " [0.         0.         0.         0.         0.         0.\n",
      "  0.         0.         0.         0.         0.         0.\n",
      "  0.         0.         0.         0.64313725 0.99215686 0.99215686\n",
      "  0.29019608 0.         0.         0.         0.         0.\n",
      "  0.         0.         0.         0.        ]\n",
      " [0.         0.         0.         0.         0.         0.\n",
      "  0.         0.         0.         0.         0.         0.\n",
      "  0.         0.         0.         0.64313725 0.99215686 0.99215686\n",
      "  0.29019608 0.         0.         0.         0.         0.\n",
      "  0.         0.         0.         0.        ]\n",
      " [0.         0.         0.         0.         0.         0.\n",
      "  0.         0.         0.         0.         0.         0.\n",
      "  0.         0.         0.         0.64313725 0.99215686 0.99215686\n",
      "  0.29019608 0.         0.         0.         0.         0.\n",
      "  0.         0.         0.         0.        ]\n",
      " [0.         0.         0.         0.         0.         0.\n",
      "  0.         0.         0.         0.         0.         0.\n",
      "  0.         0.         0.         0.64705882 0.99215686 0.99215686\n",
      "  0.29019608 0.         0.         0.         0.         0.\n",
      "  0.         0.         0.         0.        ]\n",
      " [0.         0.         0.         0.         0.         0.\n",
      "  0.         0.         0.         0.         0.         0.\n",
      "  0.         0.         0.         0.64313725 0.99215686 0.99215686\n",
      "  0.29019608 0.         0.         0.         0.         0.\n",
      "  0.         0.         0.         0.        ]\n",
      " [0.         0.         0.         0.         0.         0.\n",
      "  0.         0.         0.         0.         0.         0.\n",
      "  0.         0.         0.         0.64705882 0.99215686 0.99215686\n",
      "  0.49803922 0.         0.         0.         0.         0.\n",
      "  0.         0.         0.         0.        ]\n",
      " [0.         0.         0.         0.         0.         0.\n",
      "  0.         0.         0.         0.         0.         0.\n",
      "  0.         0.         0.         0.64313725 0.99215686 0.99215686\n",
      "  0.8745098  0.         0.         0.         0.         0.\n",
      "  0.         0.         0.         0.        ]\n",
      " [0.         0.         0.         0.         0.         0.\n",
      "  0.         0.         0.         0.         0.         0.\n",
      "  0.         0.         0.         0.30196078 0.99215686 0.99215686\n",
      "  0.5254902  0.         0.         0.         0.         0.\n",
      "  0.         0.         0.         0.        ]\n",
      " [0.         0.         0.         0.         0.         0.\n",
      "  0.         0.         0.         0.         0.         0.\n",
      "  0.         0.         0.         0.         0.         0.\n",
      "  0.         0.         0.         0.         0.         0.\n",
      "  0.         0.         0.         0.        ]], shape=(28, 28), dtype=float64)\n",
      "60\n"
     ]
    }
   ],
   "source": [
    "# 每次隨機抽出 1000 筆\n",
    "# shuffle：每次從 60000 筆訓練資料取出 10000 筆洗牌，batch：隨機抽出 1000 筆\n",
    "train_dataset = dataset.shuffle(10000).batch(1000)\n",
    "i=0\n",
    "for (x_train, y_train) in train_dataset:\n",
    "    if i == 0:\n",
    "        print(x_train.shape)\n",
    "        print(x_train[0])\n",
    "        \n",
    "    i+=1\n",
    "print(i)"
   ]
  },
  {
   "cell_type": "markdown",
   "metadata": {},
   "source": [
    "## 範例8. 自隨機亂數產生 Dataset"
   ]
  },
  {
   "cell_type": "code",
   "execution_count": 13,
   "metadata": {},
   "outputs": [
    {
     "name": "stdout",
     "output_type": "stream",
     "text": [
      "[array([3, 7, 5, 1, 2, 6, 8, 4, 6, 1]), array([1, 1, 7, 6, 8, 7, 6, 4, 8, 7]), array([4, 3, 6, 9, 4, 4, 7, 4, 4, 1]), array([3, 6, 1, 4, 8, 8, 7, 7, 3, 2])]\n"
     ]
    }
   ],
   "source": [
    "import tensorflow as tf\n",
    "\n",
    "# 隨機亂數產生 Dataset\n",
    "ds = tf.data.Dataset.from_tensor_slices(\n",
    "    tf.random.uniform([4, 10], minval=1, maxval=10, dtype=tf.int32))\n",
    "\n",
    "# 轉成 iterator，再顯示\n",
    "print(list(ds.as_numpy_iterator())) "
   ]
  },
  {
   "cell_type": "markdown",
   "metadata": {},
   "source": [
    "## 範例9. 自Tensorflow Tensor資料型態的變數轉入 Dataset"
   ]
  },
  {
   "cell_type": "code",
   "execution_count": 14,
   "metadata": {},
   "outputs": [
    {
     "name": "stdout",
     "output_type": "stream",
     "text": [
      "[[1 0 0 0]\n",
      " [0 0 2 0]\n",
      " [0 0 0 0]]\n"
     ]
    }
   ],
   "source": [
    "import tensorflow as tf\n",
    "\n",
    "# 稀疏矩陣\n",
    "mat = tf.SparseTensor(indices=[[0, 0], [1, 2]], values=[1, 2], \n",
    "                      dense_shape=[3, 4])\n",
    "\n",
    "# 轉入 Dataset\n",
    "ds = tf.data.Dataset.from_tensors(mat)\n",
    "\n",
    "# 使用迴圈自 Dataset 取出所有資料\n",
    "for elem in ds:\n",
    "    print(tf.sparse.to_dense(elem).numpy()) "
   ]
  },
  {
   "cell_type": "code",
   "execution_count": null,
   "metadata": {},
   "outputs": [],
   "source": []
  }
 ],
 "metadata": {
  "kernelspec": {
   "display_name": "Python 3 (ipykernel)",
   "language": "python",
   "name": "python3"
  },
  "language_info": {
   "codemirror_mode": {
    "name": "ipython",
    "version": 3
   },
   "file_extension": ".py",
   "mimetype": "text/x-python",
   "name": "python",
   "nbconvert_exporter": "python",
   "pygments_lexer": "ipython3",
   "version": "3.12.7"
  }
 },
 "nbformat": 4,
 "nbformat_minor": 4
}
