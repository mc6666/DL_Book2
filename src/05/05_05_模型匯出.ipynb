{
 "cells": [
  {
   "cell_type": "markdown",
   "metadata": {},
   "source": [
    "# 模型匯出與載入(Exporting and Loading)"
   ]
  },
  {
   "cell_type": "markdown",
   "metadata": {},
   "source": [
    "## MNIST 手寫阿拉伯數字辨識"
   ]
  },
  {
   "cell_type": "code",
   "execution_count": 1,
   "metadata": {},
   "outputs": [
    {
     "name": "stdout",
     "output_type": "stream",
     "text": [
      "Epoch 1/2\n",
      "\u001b[1m1500/1500\u001b[0m \u001b[32m━━━━━━━━━━━━━━━━━━━━\u001b[0m\u001b[37m\u001b[0m \u001b[1m4s\u001b[0m 2ms/step - accuracy: 0.8633 - loss: 0.4611 - val_accuracy: 0.9627 - val_loss: 0.1341\n",
      "Epoch 2/2\n",
      "\u001b[1m1500/1500\u001b[0m \u001b[32m━━━━━━━━━━━━━━━━━━━━\u001b[0m\u001b[37m\u001b[0m \u001b[1m3s\u001b[0m 2ms/step - accuracy: 0.9603 - loss: 0.1327 - val_accuracy: 0.9703 - val_loss: 0.0990\n"
     ]
    }
   ],
   "source": [
    "import tensorflow as tf\n",
    "\n",
    "# 載入 MNIST 手寫阿拉伯數字資料\n",
    "mnist = tf.keras.datasets.mnist\n",
    "(x_train, y_train),(x_test, y_test) = mnist.load_data()\n",
    "\n",
    "# 特徵縮放，使用常態化(Normalization)，公式 = (x - min) / (max - min)\n",
    "x_train_norm, x_test_norm = x_train / 255.0, x_test / 255.0\n",
    "\n",
    "# 建立模型\n",
    "model = tf.keras.models.Sequential([\n",
    "    tf.keras.layers.Input((28, 28)),\n",
    "    tf.keras.layers.Flatten(),\n",
    "    tf.keras.layers.Dense(256, activation='relu'),\n",
    "    tf.keras.layers.Dropout(0.2),\n",
    "    tf.keras.layers.Dense(10, activation='softmax')\n",
    "])\n",
    "\n",
    "# 設定優化器(optimizer)、損失函數(loss)、效能衡量指標(metrics)的類別\n",
    "model.compile(optimizer='adam',\n",
    "              loss='sparse_categorical_crossentropy',\n",
    "              metrics=['accuracy'])\n",
    "\n",
    "# 模型訓練\n",
    "history = model.fit(x_train_norm, y_train, epochs=2, validation_split=0.2)"
   ]
  },
  {
   "cell_type": "markdown",
   "metadata": {},
   "source": [
    "## 模型存檔(Save)"
   ]
  },
  {
   "cell_type": "code",
   "execution_count": 2,
   "metadata": {
    "scrolled": true
   },
   "outputs": [
    {
     "name": "stdout",
     "output_type": "stream",
     "text": [
      "INFO:tensorflow:Assets written to: exported_model\\assets\n"
     ]
    },
    {
     "name": "stderr",
     "output_type": "stream",
     "text": [
      "INFO:tensorflow:Assets written to: exported_model\\assets\n"
     ]
    },
    {
     "name": "stdout",
     "output_type": "stream",
     "text": [
      "Saved artifact at 'exported_model'. The following endpoints are available:\n",
      "\n",
      "* Endpoint 'serve'\n",
      "  args_0 (POSITIONAL_ONLY): TensorSpec(shape=(None, 28, 28), dtype=tf.float32, name='keras_tensor')\n",
      "Output Type:\n",
      "  TensorSpec(shape=(None, 10), dtype=tf.float32, name=None)\n",
      "Captures:\n",
      "  2056073944272: TensorSpec(shape=(), dtype=tf.resource, name=None)\n",
      "  2056073944080: TensorSpec(shape=(), dtype=tf.resource, name=None)\n",
      "  2056073946192: TensorSpec(shape=(), dtype=tf.resource, name=None)\n",
      "  2056073943120: TensorSpec(shape=(), dtype=tf.resource, name=None)\n"
     ]
    }
   ],
   "source": [
    "model.export(\"exported_model\")"
   ]
  },
  {
   "cell_type": "markdown",
   "metadata": {},
   "source": [
    "## 模型載入(Loading)"
   ]
  },
  {
   "cell_type": "code",
   "execution_count": 3,
   "metadata": {},
   "outputs": [],
   "source": [
    "model2 = tf.saved_model.load(\"exported_model\")"
   ]
  },
  {
   "cell_type": "markdown",
   "metadata": {},
   "source": [
    "## 模型預測"
   ]
  },
  {
   "cell_type": "code",
   "execution_count": 4,
   "metadata": {},
   "outputs": [
    {
     "data": {
      "text/plain": [
       "<tf.Tensor: shape=(10, 10), dtype=float32, numpy=\n",
       "array([[2.1441360e-06, 6.5860689e-08, 5.4005948e-05, 1.4005831e-04,\n",
       "        1.4088521e-09, 1.8490283e-07, 6.0112533e-11, 9.9980038e-01,\n",
       "        3.9745149e-07, 2.8876816e-06],\n",
       "       [3.5303322e-07, 3.5977955e-05, 9.9989212e-01, 5.6542031e-05,\n",
       "        2.6901650e-10, 4.3281570e-06, 7.1945069e-06, 5.7070057e-11,\n",
       "        3.4994275e-06, 4.1471267e-11],\n",
       "       [1.0439214e-04, 9.9344915e-01, 2.4042339e-03, 1.3834552e-04,\n",
       "        2.0003218e-04, 1.5318611e-04, 4.0689280e-04, 1.0912588e-03,\n",
       "        1.9566941e-03, 9.5751318e-05],\n",
       "       [9.9965394e-01, 2.7333991e-07, 3.8226382e-05, 1.1882498e-06,\n",
       "        7.0445654e-05, 3.9852180e-06, 1.8225941e-04, 4.0859653e-05,\n",
       "        1.1128707e-06, 7.8516377e-06],\n",
       "       [1.0362620e-04, 1.9102977e-06, 8.3816449e-05, 1.9657878e-06,\n",
       "        9.8526239e-01, 1.2251074e-05, 1.1239040e-04, 9.3409442e-04,\n",
       "        1.8346030e-04, 1.3304079e-02],\n",
       "       [2.4990954e-05, 9.9840266e-01, 1.2706374e-04, 1.7903734e-05,\n",
       "        1.9477089e-05, 1.7675694e-06, 4.2420952e-06, 1.0733337e-03,\n",
       "        3.1180229e-04, 1.6661892e-05],\n",
       "       [2.7444280e-06, 1.2115081e-05, 1.3760706e-05, 1.9195124e-05,\n",
       "        9.5742869e-01, 1.5685029e-04, 8.1778089e-05, 1.6516816e-03,\n",
       "        3.3672545e-02, 6.9607068e-03],\n",
       "       [3.5520377e-06, 1.4554862e-04, 4.7511328e-04, 1.8511767e-03,\n",
       "        5.1584798e-03, 1.3828027e-04, 1.8443781e-06, 1.2349891e-03,\n",
       "        2.3524715e-04, 9.9075586e-01],\n",
       "       [5.8993610e-04, 2.5240639e-05, 7.1246931e-03, 1.6967686e-04,\n",
       "        5.3902166e-03, 2.1362883e-01, 7.5140506e-01, 3.1569252e-05,\n",
       "        2.0483660e-02, 1.1511527e-03],\n",
       "       [1.6479252e-06, 1.1172987e-08, 1.6182331e-07, 1.1169438e-06,\n",
       "        1.9291601e-03, 3.6503540e-08, 1.8384181e-08, 1.1942310e-02,\n",
       "        1.2599633e-04, 9.8599964e-01]], dtype=float32)>"
      ]
     },
     "execution_count": 4,
     "metadata": {},
     "output_type": "execute_result"
    }
   ],
   "source": [
    "model2.serve(x_test_norm[:10])"
   ]
  },
  {
   "cell_type": "code",
   "execution_count": 6,
   "metadata": {},
   "outputs": [
    {
     "ename": "AttributeError",
     "evalue": "'_UserObject' object has no attribute 'predict'",
     "output_type": "error",
     "traceback": [
      "\u001b[1;31m---------------------------------------------------------------------------\u001b[0m",
      "\u001b[1;31mAttributeError\u001b[0m                            Traceback (most recent call last)",
      "Cell \u001b[1;32mIn[6], line 1\u001b[0m\n\u001b[1;32m----> 1\u001b[0m model2\u001b[38;5;241m.\u001b[39mpredict(x_test_norm[:\u001b[38;5;241m10\u001b[39m])\n",
      "\u001b[1;31mAttributeError\u001b[0m: '_UserObject' object has no attribute 'predict'"
     ]
    }
   ],
   "source": [
    "model2.predict(x_test_norm[:10])"
   ]
  },
  {
   "cell_type": "code",
   "execution_count": 5,
   "metadata": {},
   "outputs": [
    {
     "ename": "AttributeError",
     "evalue": "'_UserObject' object has no attribute 'fit'",
     "output_type": "error",
     "traceback": [
      "\u001b[1;31m---------------------------------------------------------------------------\u001b[0m",
      "\u001b[1;31mAttributeError\u001b[0m                            Traceback (most recent call last)",
      "Cell \u001b[1;32mIn[5], line 1\u001b[0m\n\u001b[1;32m----> 1\u001b[0m model2\u001b[38;5;241m.\u001b[39mfit()\n",
      "\u001b[1;31mAttributeError\u001b[0m: '_UserObject' object has no attribute 'fit'"
     ]
    }
   ],
   "source": [
    "model2.fit()"
   ]
  },
  {
   "cell_type": "code",
   "execution_count": null,
   "metadata": {},
   "outputs": [],
   "source": []
  }
 ],
 "metadata": {
  "kernelspec": {
   "display_name": "Python 3 (ipykernel)",
   "language": "python",
   "name": "python3"
  },
  "language_info": {
   "codemirror_mode": {
    "name": "ipython",
    "version": 3
   },
   "file_extension": ".py",
   "mimetype": "text/x-python",
   "name": "python",
   "nbconvert_exporter": "python",
   "pygments_lexer": "ipython3",
   "version": "3.12.7"
  }
 },
 "nbformat": 4,
 "nbformat_minor": 4
}
